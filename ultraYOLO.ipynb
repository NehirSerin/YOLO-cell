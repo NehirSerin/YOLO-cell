{
  "nbformat": 4,
  "nbformat_minor": 0,
  "metadata": {
    "colab": {
      "provenance": [],
      "gpuType": "T4",
      "authorship_tag": "ABX9TyOJklO2+H1JyvlKFukqKSGn",
      "include_colab_link": true
    },
    "kernelspec": {
      "name": "python3",
      "display_name": "Python 3"
    },
    "language_info": {
      "name": "python"
    },
    "accelerator": "GPU"
  },
  "cells": [
    {
      "cell_type": "markdown",
      "metadata": {
        "id": "view-in-github",
        "colab_type": "text"
      },
      "source": [
        "<a href=\"https://colab.research.google.com/github/NehirSerin/YOLO-cell/blob/main/ultraYOLO.ipynb\" target=\"_parent\"><img src=\"https://colab.research.google.com/assets/colab-badge.svg\" alt=\"Open In Colab\"/></a>"
      ]
    },
    {
      "cell_type": "code",
      "source": [
        "!pip install ultralytics"
      ],
      "metadata": {
        "id": "DJTQq4VhMP85"
      },
      "execution_count": null,
      "outputs": []
    },
    {
      "cell_type": "code",
      "source": [
        "import matplotlib.pyplot as plt\n",
        "import numpy as np\n",
        "import cv2\n",
        "import os"
      ],
      "metadata": {
        "id": "1tPD3NbbRx58"
      },
      "execution_count": null,
      "outputs": []
    },
    {
      "cell_type": "code",
      "source": [
        "import torch\n",
        "print(torch.cuda.is_available())\n",
        "print(torch.cuda.get_device_name(0))"
      ],
      "metadata": {
        "colab": {
          "base_uri": "https://localhost:8080/"
        },
        "id": "_QrGfstsMT61",
        "outputId": "57749fdb-9ce1-4467-f4c5-a2cdebdd585b"
      },
      "execution_count": null,
      "outputs": [
        {
          "output_type": "stream",
          "name": "stdout",
          "text": [
            "True\n",
            "Tesla T4\n"
          ]
        }
      ]
    },
    {
      "cell_type": "code",
      "source": [
        "!unzip /content/cellYOLO.v1i.yolov7pytorch.zip -d /content"
      ],
      "metadata": {
        "id": "fR61WBq6NHFm",
        "colab": {
          "base_uri": "https://localhost:8080/"
        },
        "collapsed": true,
        "outputId": "ba53890c-c67f-48c8-df8f-1975b38cfa91"
      },
      "execution_count": null,
      "outputs": [
        {
          "output_type": "stream",
          "name": "stdout",
          "text": [
            "Archive:  /content/cellYOLO.v1i.yolov7pytorch.zip\n",
            "  inflating: /content/README.dataset.txt  \n",
            "  inflating: /content/README.roboflow.txt  \n",
            "  inflating: /content/data.yaml      \n",
            "   creating: /content/train/\n",
            "   creating: /content/train/images/\n",
            " extracting: /content/train/images/Image__2021-01-28__15-49-02_1-12_png.rf.539f978cf3193d61c6511eaeadf57fc0.jpg  \n",
            " extracting: /content/train/images/Image__2021-01-28__15-49-02_1-15-A-Kopya-Kopya_png.rf.c1ccac7691fcf7eb6d5d1de7ef0ac095.jpg  \n",
            " extracting: /content/train/images/Image__2021-01-28__15-49-02_1-2-A_png.rf.cc6f5383c87489fbb5053223cf21380d.jpg  \n",
            " extracting: /content/train/images/Image__2021-01-28__15-49-02_1-3_png.rf.6860d5bf94c47976466645972acdd9cd.jpg  \n",
            " extracting: /content/train/images/Image__2021-01-28__15-49-02_1-6-A_png.rf.308498a9b301fbda20144ad42a99009b.jpg  \n",
            " extracting: /content/train/images/Image__2021-01-28__15-49-02_1-6-B_png.rf.fa4a4866680b3b4f06ec8d3754a1e149.jpg  \n",
            " extracting: /content/train/images/Image__2021-01-28__15-49-02_2-10-A_png.rf.bf2afbe03778c526f59f58e210b79456.jpg  \n",
            " extracting: /content/train/images/Image__2021-01-28__15-49-02_2-16-A_png.rf.98bb758a8b76dfb411de3709a1db0196.jpg  \n",
            " extracting: /content/train/images/Image__2021-01-28__15-49-02_3-13-B_png.rf.54a657668f2bb197203b32c71ec677ba.jpg  \n",
            " extracting: /content/train/images/Image__2021-01-28__15-49-02_3-15-A_png.rf.b378eec73fb5c6fbbfe318bbc039a697.jpg  \n",
            " extracting: /content/train/images/Image__2021-01-28__15-49-02_3-2-B_png.rf.7aefec0d57ee0f74bfc99df4dc097a00.jpg  \n",
            " extracting: /content/train/images/Image__2021-01-28__15-49-02_4-4_png.rf.87ff35ed9a9c46308d70a9f2390c6f84.jpg  \n",
            " extracting: /content/train/images/Image__2021-01-28__15-49-28_1-13-A_png.rf.37bdfa5ba1e8af8e3bd26fa0cd4fa408.jpg  \n",
            " extracting: /content/train/images/Image__2021-01-28__15-49-28_2-7-B-Kopya-Kopya_png.rf.42555d37d10b10dd2a54f79dda15dcec.jpg  \n",
            " extracting: /content/train/images/Image__2021-01-28__15-49-38_2-10_png.rf.e07284e8eff165eb5a78eca6d6369b16.jpg  \n",
            " extracting: /content/train/images/Image__2021-01-28__15-49-38_2-15-B_png.rf.ff5e5c67e21aaf8bcc0e2c8de4f6e25b.jpg  \n",
            " extracting: /content/train/images/Image__2021-01-28__15-49-38_2-7_png.rf.586e1b3924537cd97d43f5599c5b22bd.jpg  \n",
            " extracting: /content/train/images/Image__2021-01-28__15-49-38_4-8-A_png.rf.bccda5b4db5ec9d1c6784f66af01d7a1.jpg  \n",
            " extracting: /content/train/images/Image__2021-01-28__15-49-38_4-9-B_png.rf.6020decc2323382344755aef32a3ff20.jpg  \n",
            " extracting: /content/train/images/Image__2021-01-28__16-04-31_1-14_png.rf.2dedf41c198c0ad16225e2d8ea0377b6.jpg  \n",
            " extracting: /content/train/images/Image__2021-01-28__16-04-31_2-2_png.rf.22fddb3179259862a113d9009d0de53f.jpg  \n",
            " extracting: /content/train/images/Image__2021-01-28__16-04-31_2-3_png.rf.95ed827a0766e12f141848c0b7f0b001.jpg  \n",
            " extracting: /content/train/images/Image__2021-01-28__16-04-31_3-13-A_png.rf.f16072b5123d4615d5a514be8a4c91fc.jpg  \n",
            " extracting: /content/train/images/Image__2021-01-28__16-04-31_3-8-B_png.rf.8d39fe0b493ef244453cdc8b886adcdf.jpg  \n",
            " extracting: /content/train/images/Image__2021-01-28__16-04-31_4-3_png.rf.ed53012b167f91a34da211cf8450b3f5.jpg  \n",
            " extracting: /content/train/images/Image__2021-01-28__16-04-42_1-10-B_png.rf.ccff0d9c7fbb43b1217f8bb67274cdf0.jpg  \n",
            " extracting: /content/train/images/Image__2021-01-28__16-04-42_1-15-A_png.rf.233daba61bb905185c2cd4f237f6a7c6.jpg  \n",
            " extracting: /content/train/images/Image__2021-01-28__16-04-42_1-16-B_png.rf.2fd618122701ca03230355d3e2862e01.jpg  \n",
            " extracting: /content/train/images/Image__2021-01-28__16-04-42_1-1_png.rf.6823acec053b9e5e521918c812ed2460.jpg  \n",
            " extracting: /content/train/images/Image__2021-01-28__16-04-42_2-8_png.rf.a124b2f5af2973a36595681b7fa1baa4.jpg  \n",
            " extracting: /content/train/images/Image__2021-01-28__16-04-42_4-10-B-Kopya-Kopya_png.rf.0bf029351875b81bb182c35feadd5d68.jpg  \n",
            " extracting: /content/train/images/Image__2021-01-28__16-04-42_4-5-A-Kopya-Kopya_png.rf.12096c3f79339036e4b7f0d8b6afae38.jpg  \n",
            " extracting: /content/train/images/Image__2021-01-29__12-26-08_1-13-A-Kopya-Kopya_png.rf.a6e792f6d3c6293cc09fb1f0deceb8ac.jpg  \n",
            " extracting: /content/train/images/Image__2021-01-29__12-26-08_1-15_png.rf.9d0a2295c511e5d4dca96f12c0d080d2.jpg  \n",
            " extracting: /content/train/images/Image__2021-01-29__12-26-08_1-2-Kopya-Kopya_png.rf.e3d11836625c28123bcc9c2bbb93a138.jpg  \n",
            " extracting: /content/train/images/Image__2021-01-29__12-26-08_1-7-Kopya-Kopya_png.rf.ad4a5bcb8fc17248d945f909f079441c.jpg  \n",
            " extracting: /content/train/images/Image__2021-01-29__12-26-08_1-8-B-Kopya-Kopya_png.rf.2137a787b72db47868f2a8148d83c5ca.jpg  \n",
            " extracting: /content/train/images/Image__2021-01-29__12-26-08_1-9-B-Kopya-Kopya_png.rf.c48d9403c3fde5a9687885fc372b153e.jpg  \n",
            " extracting: /content/train/images/Image__2021-01-29__12-26-08_2-1-B-Kopya-Kopya_png.rf.5708a79bb01e38be6b6e9cf397643b5f.jpg  \n",
            " extracting: /content/train/images/Image__2021-01-29__12-26-08_2-11-B-Kopya-Kopya_png.rf.d5a6750189792a8b8b73ef08dd452e86.jpg  \n",
            " extracting: /content/train/images/Image__2021-01-29__12-26-08_2-12-A-Kopya-Kopya_png.rf.ad671e271d7f49eeb8bda57365a8ea5c.jpg  \n",
            " extracting: /content/train/images/Image__2021-01-29__12-26-08_2-9-A-Kopya-Kopya_png.rf.d2cbca029dd0c484d0ffc00ac1ecf361.jpg  \n",
            " extracting: /content/train/images/Image__2021-01-29__12-26-08_4-15-B_png.rf.1b3abb3648fb6d6accf2e8092cce7fd6.jpg  \n",
            " extracting: /content/train/images/Image__2021-01-29__12-26-08_4-7-B_png.rf.2d7137783c0ecacfd877262aff933cd4.jpg  \n",
            " extracting: /content/train/images/Image__2021-01-29__12-26-17_2-5-B-Kopya-Kopya_png.rf.e3b837ca283ea570bbd3e285acbbd6f3.jpg  \n",
            " extracting: /content/train/images/Image__2021-01-29__12-26-17_3-16-A-Kopya-Kopya_png.rf.c9219482bb4a56bab594450704290f69.jpg  \n",
            " extracting: /content/train/images/Image__2021-01-29__12-26-17_3-16-B-Kopya-Kopya_png.rf.f7c2d8e6ec336f094f3891887312322b.jpg  \n",
            " extracting: /content/train/images/Image__2021-01-29__12-26-17_4-1-B-Kopya-Kopya_png.rf.64e833da54436692b156509574eafd94.jpg  \n",
            " extracting: /content/train/images/Image__2021-01-29__12-26-17_4-4-A-Kopya-Kopya_png.rf.945fff7e05b7b4bf5311b10b7e1556e9.jpg  \n",
            " extracting: /content/train/images/Image__2021-01-29__12-26-17_4-4-B-Kopya-Kopya_png.rf.fbb2a8a25735ca54454d77dd7908743f.jpg  \n",
            " extracting: /content/train/images/Image__2021-01-29__12-26-17_4-7-Kopya-Kopya_png.rf.212f9e2202586681894f7199494a339d.jpg  \n",
            " extracting: /content/train/images/Image__2021-01-29__12-26-17_4-8-A-Kopya-2-_png.rf.3399d24c80ec825bb18fd57a1a3ff1f4.jpg  \n",
            " extracting: /content/train/images/Image__2021-01-29__12-26-17_4-9-B-Kopya_png.rf.25ebb8500a0bd5d54c076cf96b1e5315.jpg  \n",
            " extracting: /content/train/images/Image__2021-01-29__12-26-25_1-12_png.rf.89ed239c2d0b880d4e68f705243e0592.jpg  \n",
            " extracting: /content/train/images/Image__2021-01-29__12-26-25_2-7_png.rf.de8e28eaf6038c159148797ed1a54a66.jpg  \n",
            " extracting: /content/train/images/Image__2021-01-29__12-26-25_2-9-A_png.rf.4a9bbbb11b9a7b21ddd88e959f51117c.jpg  \n",
            " extracting: /content/train/images/Image__2021-01-29__12-26-25_3-1-B_png.rf.e61d4232b66ca78043a38d2192b29480.jpg  \n",
            " extracting: /content/train/images/Image__2021-01-29__12-27-12_1-12-A-Kopya_png.rf.3213c5ac801ecf53ea03cd1e79d35559.jpg  \n",
            " extracting: /content/train/images/Image__2021-01-29__12-27-12_1-9-Kopya_png.rf.4449f74b510137f82ee19f345e667943.jpg  \n",
            " extracting: /content/train/images/Image__2021-01-29__12-27-12_2-1-A-Kopya_png.rf.513b0ddec139832246f933c2cef38b96.jpg  \n",
            " extracting: /content/train/images/Image__2021-01-29__12-27-12_3-13-A-Kopya_png.rf.633c53c80642b6aa39c33467df8932af.jpg  \n",
            " extracting: /content/train/images/Image__2021-01-29__12-27-12_3-14-A-Kopya_png.rf.634f8a3701f2b73d4694cdbae1b8b367.jpg  \n",
            " extracting: /content/train/images/Image__2021-01-29__12-27-12_3-14-Kopya_png.rf.9016781281645767de8e9a7b46b63e70.jpg  \n",
            " extracting: /content/train/images/Image__2021-01-29__12-33-02_1-12-B_png.rf.104264ee5af657b721b9f585fa445be1.jpg  \n",
            " extracting: /content/train/images/Image__2021-01-29__12-33-02_2-3-A_png.rf.8849c6031cb3fb7231d7239b1cd8e21b.jpg  \n",
            " extracting: /content/train/images/Image__2021-01-29__12-33-02_2-4-B_png.rf.5a15045e1c7d5e20e4ab2b2bcf9c5339.jpg  \n",
            " extracting: /content/train/images/Image__2021-01-29__12-33-02_2-5-A_png.rf.1e42b16dbe79bc693920fcd1af9d94ef.jpg  \n",
            " extracting: /content/train/images/Image__2021-01-29__12-33-02_2-5_png.rf.f41a23302462966395859e7269006fd0.jpg  \n",
            " extracting: /content/train/images/Image__2021-01-29__12-33-02_3-2-A_png.rf.a1e036341370bd8d22272156a31fe014.jpg  \n",
            " extracting: /content/train/images/Image__2021-01-29__12-33-02_3-4_png.rf.38528575c0d486eec9e67ba3ba55d626.jpg  \n",
            " extracting: /content/train/images/Image__2021-01-29__12-33-12_1-3_png.rf.b4f7f310a3b0a374b6cebada40bbeabd.jpg  \n",
            " extracting: /content/train/images/Image__2021-01-29__12-33-19_3-13-B_png.rf.a9cf43927b5704eda17cb233374371e2.jpg  \n",
            " extracting: /content/train/images/Image__2021-01-29__12-33-19_4-11-B_png.rf.fa45ca7e984c1c7f480e06d2b454d279.jpg  \n",
            " extracting: /content/train/images/Image__2021-01-29__12-33-19_4-2-A_png.rf.1712ae5fb23c15dda37eb6ffd262201d.jpg  \n",
            " extracting: /content/train/images/Image__2021-01-29__12-33-19_4-8-A_png.rf.094ac75bedf28f8bbc03a4d60a70c812.jpg  \n",
            " extracting: /content/train/images/Image__2021-01-29__12-34-17_1-10-B_png.rf.9585de5d49c0f67b7e20a4726eafda52.jpg  \n",
            " extracting: /content/train/images/Image__2021-01-29__12-34-17_1-13-A_png.rf.7aaa3e909ee756d207b18f8821c3b7ec.jpg  \n",
            " extracting: /content/train/images/Image__2021-01-29__12-34-17_1-3-A_png.rf.958aa7ecee59718cbfacbb7e5453071a.jpg  \n",
            " extracting: /content/train/images/Image__2021-01-29__12-34-17_1-4-B_png.rf.c03a927187ae0eddfdd9e35fa2cba9f9.jpg  \n",
            " extracting: /content/train/images/Image__2021-01-29__12-34-25_1-6-B_png.rf.c88ae7fe84b39eec7902f5854c41d696.jpg  \n",
            " extracting: /content/train/images/Image__2021-01-29__12-34-25_1-6_png.rf.be533d9aeb38cf2a20a40b009168dd66.jpg  \n",
            " extracting: /content/train/images/Image__2021-01-29__12-34-25_1-7_png.rf.99c9a1116b022e84f81f412a26d84121.jpg  \n",
            " extracting: /content/train/images/Image__2021-01-29__12-34-25_2-5-A_png.rf.bee7f34185a34112a8ea8b69ef7b7913.jpg  \n",
            " extracting: /content/train/images/Image__2021-01-29__12-34-25_3-15_png.rf.3cced953d8003a1488c12f1383c4629d.jpg  \n",
            " extracting: /content/train/images/Image__2021-01-29__12-34-25_3-16_png.rf.c9402e63c297d21e5b320c34c2a8e658.jpg  \n",
            " extracting: /content/train/images/Image__2021-01-29__12-34-25_3-4-A_png.rf.b56d46c3c4d7bd801bf7d56c618ebb6e.jpg  \n",
            " extracting: /content/train/images/Image__2021-01-29__12-34-25_3-4-B_png.rf.e6374e34bfaf5efac43a83e2e68e283c.jpg  \n",
            " extracting: /content/train/images/Image__2021-01-29__12-34-25_3-7-A_png.rf.b0ef54226ecffffcbc4969169fd20c39.jpg  \n",
            " extracting: /content/train/images/Image__2021-01-29__12-34-25_3-7_png.rf.18c7d28e4f43036cca21a718f23c1596.jpg  \n",
            " extracting: /content/train/images/Image__2021-01-29__12-34-25_4-2-A_png.rf.71bb61a10dbb79a1b75012d30e14ef0b.jpg  \n",
            " extracting: /content/train/images/Image__2021-01-29__12-36-37_2-10-A_png.rf.7abe398e198772728f7cb8ce4c042627.jpg  \n",
            " extracting: /content/train/images/Image__2021-01-29__12-36-37_2-11-B-Kopya_png.rf.4aa7a87256380ccf260e7b85e75b8ac8.jpg  \n",
            " extracting: /content/train/images/Image__2021-01-29__12-36-37_2-13-A-Kopya_png.rf.e0ea7c46a063b4008e7acffae5d2839a.jpg  \n",
            " extracting: /content/train/images/Image__2021-01-29__12-36-37_2-15-B-Kopya_png.rf.dd2236db587d0003de9484d172eb59f0.jpg  \n",
            " extracting: /content/train/images/Image__2021-01-29__12-36-37_2-2-A-Kopya_png.rf.ee485d785c4bf775e236c67833889047.jpg  \n",
            " extracting: /content/train/images/Image__2021-01-29__12-36-37_2-7_png.rf.1c9045ae2f34991fccd3050fcfb77e7c.jpg  \n",
            " extracting: /content/train/images/Image__2021-01-29__12-36-37_3-11-Kopya_png.rf.548eeca250fa10b0270484e5dbaff5e8.jpg  \n",
            " extracting: /content/train/images/Image__2021-01-29__12-36-37_3-3-Kopya_png.rf.f857f8aad471b0c4097d59b6019c6fa2.jpg  \n",
            " extracting: /content/train/images/Image__2021-01-29__12-36-37_3-4-Kopya_png.rf.65d13990dbc6239ab7d3120d6ebbc24e.jpg  \n",
            " extracting: /content/train/images/Image__2021-01-29__12-36-37_3-7-Kopya_png.rf.a27e966f95f0793aea0436d4a08d6fb4.jpg  \n",
            " extracting: /content/train/images/Image__2021-01-29__12-36-37_3-8-A_png.rf.3c22ef54788e5b295b0291ec240d2275.jpg  \n",
            " extracting: /content/train/images/Image__2021-01-29__12-36-37_3-9-A_png.rf.1d829a6b4b255fb2ff5be49f2fbb0cb6.jpg  \n",
            " extracting: /content/train/images/Image__2021-01-29__12-36-37_4-1-B-Kopya_png.rf.e4f61c05e1e1e5a2ab97b02a5d79b0d2.jpg  \n",
            " extracting: /content/train/images/Image__2021-01-29__12-36-37_4-4-A-Kopya_png.rf.2b1daf7f0966ee38908ed0059ee76229.jpg  \n",
            " extracting: /content/train/images/Image__2021-01-29__12-36-37_4-6-A_png.rf.d63ef750162d815a13bac814f4f6969f.jpg  \n",
            " extracting: /content/train/images/Image__2021-01-29__12-36-37_4-6-Kopya_png.rf.d7855be54bc1099eddb503efd8284dab.jpg  \n",
            " extracting: /content/train/images/Image__2021-01-29__12-36-37_4-7-A_png.rf.8f909f7f0644cce9b4c17e827a845395.jpg  \n",
            " extracting: /content/train/images/Image__2021-01-29__12-36-37_4-8-B_png.rf.ba47f95c384d60bb04189d8ce8a66eff.jpg  \n",
            " extracting: /content/train/images/Image__2021-01-29__12-36-44_1-1-B_png.rf.275f328c9cc7d9d428c71a8ba96d6f00.jpg  \n",
            " extracting: /content/train/images/Image__2021-01-29__12-36-44_1-12_png.rf.06d9b61555b2908c6d427b5123333864.jpg  \n",
            " extracting: /content/train/images/Image__2021-01-29__12-36-44_1-14-B_png.rf.e3182389a4b09ed6c5dbff798f56beea.jpg  \n",
            " extracting: /content/train/images/Image__2021-01-29__12-36-44_1-6_png.rf.791746a8f90a4b1b31f5e922fd0d856f.jpg  \n",
            " extracting: /content/train/images/Image__2021-01-29__12-36-44_2-4-B_png.rf.1131471a66c485c262da2df337e9e219.jpg  \n",
            " extracting: /content/train/images/Image__2021-01-29__12-36-44_2-8-B_png.rf.00a9fa505e604f5e9885330b1d1d57ec.jpg  \n",
            " extracting: /content/train/images/Image__2021-01-29__12-36-44_3-14-B_png.rf.8c8c44a813a4ac63a063bcf387e7d7bc.jpg  \n",
            " extracting: /content/train/images/Image__2021-01-29__12-36-44_4-12-A_png.rf.4f781a0a1de681b7d2c4204ca8313f2e.jpg  \n",
            " extracting: /content/train/images/Image__2021-01-29__12-36-44_4-12-B_png.rf.15054101006c453d55d0fccacb8a6df9.jpg  \n",
            " extracting: /content/train/images/Image__2021-01-29__12-36-44_4-12_png.rf.03bd0b36585eeb55471217b3054e90c7.jpg  \n",
            " extracting: /content/train/images/Image__2021-01-29__12-36-44_4-13-A_png.rf.c2905700b51fc2ba1b56e3a6ccaf700e.jpg  \n",
            " extracting: /content/train/images/Image__2021-01-29__12-36-50_2-11_png.rf.e153a5028750829c0ce0be021310dcd7.jpg  \n",
            " extracting: /content/train/images/Image__2021-01-29__12-36-50_2-14-A_png.rf.e2639419e294581a792629943533b254.jpg  \n",
            " extracting: /content/train/images/Image__2021-01-29__12-36-50_2-2-B_png.rf.ee8d6b22a2d157fab6d428ddce4f5050.jpg  \n",
            " extracting: /content/train/images/Image__2021-01-29__12-36-50_3-10_png.rf.ac21c933b3f13bd0bfdb9a3e224037e0.jpg  \n",
            " extracting: /content/train/images/Image__2021-01-29__12-36-50_3-12-B_png.rf.c7eb52224d73156caa4d2850a5a1430a.jpg  \n",
            " extracting: /content/train/images/Image__2021-01-29__12-36-50_3-13-A_png.rf.8f881a9f27a1491e89b3931777845914.jpg  \n",
            " extracting: /content/train/images/Image__2021-01-29__12-36-50_3-5-B_png.rf.e11c897133f58a10fea84f437d57c93d.jpg  \n",
            " extracting: /content/train/images/Image__2021-01-29__12-36-50_3-5_png.rf.7bd22b0f7f4e232fa20c800deddab74c.jpg  \n",
            " extracting: /content/train/images/Image__2021-01-29__12-36-50_4-1-B_png.rf.f2b9c08224a5b9113dcc0c28546a2c8c.jpg  \n",
            " extracting: /content/train/images/Image__2021-01-29__12-36-50_4-11-Kopya_png.rf.a02c416329d3953d045b5842cf27de8a.jpg  \n",
            " extracting: /content/train/images/Image__2021-01-29__12-36-50_4-13-A_png.rf.99165ef7f0a342f6e3b26727355f2426.jpg  \n",
            " extracting: /content/train/images/Image__2021-01-29__12-36-50_4-3-B_png.rf.b23b396bbfe16e090acc6a021e563792.jpg  \n",
            " extracting: /content/train/images/Image__2021-01-29__12-36-50_4-3_png.rf.6f15907a748c4a2f87cf7a6243619ecb.jpg  \n",
            " extracting: /content/train/images/Image__2021-01-29__12-36-50_4-5-A_png.rf.dbfdb1ce8ca73c5d511fe808ad32f704.jpg  \n",
            " extracting: /content/train/images/Image__2021-01-29__12-38-25_2-5-B_png.rf.c03d934c0372379783cfc200a2997170.jpg  \n",
            " extracting: /content/train/images/Image__2021-01-29__12-38-25_3-14_png.rf.c97ada32d16270d676eefe69aacea046.jpg  \n",
            " extracting: /content/train/images/Image__2021-01-29__12-38-25_4-2_png.rf.47c20f6332159682ceb955bf14deda2d.jpg  \n",
            " extracting: /content/train/images/Image__2021-01-29__12-38-25_4-3-A_png.rf.114be349be97829f62188f2c0f926f28.jpg  \n",
            " extracting: /content/train/images/Image__2021-01-29__12-38-32_1-15_png.rf.e2a2f0daba59837ec13a1713de70cb26.jpg  \n",
            " extracting: /content/train/images/Image__2021-01-29__12-38-32_1-3-B_png.rf.42afa4cce9c62c948a6c4b4c51235bbc.jpg  \n",
            " extracting: /content/train/images/Image__2021-01-29__12-38-32_1-8_png.rf.6846b317df8fbe9d4718492c449f54ea.jpg  \n",
            " extracting: /content/train/images/Image__2021-01-29__12-38-32_2-2-B_png.rf.f02114714c232334597abd95b7a8a06a.jpg  \n",
            " extracting: /content/train/images/Image__2021-01-29__12-38-32_2-5-B_png.rf.08a6957cf91f8d26b1a680fdcd35aa46.jpg  \n",
            " extracting: /content/train/images/Image__2021-01-29__12-38-32_3-14_png.rf.7e3ac3d4a9e7e087f6e7dc221487048c.jpg  \n",
            " extracting: /content/train/images/Image__2021-01-29__12-39-15_1-1-B_png.rf.f95624592a898b249102b8a9f129c36f.jpg  \n",
            " extracting: /content/train/images/Image__2021-01-29__12-39-15_1-10-B_png.rf.c7088a0c15cc689029e618d6b70f1d12.jpg  \n",
            " extracting: /content/train/images/Image__2021-01-29__12-39-15_1-2-A_png.rf.fd29e93f8ccd7e2d3967478fad44e73a.jpg  \n",
            " extracting: /content/train/images/Image__2021-01-29__12-39-15_3-12_png.rf.d09981079a1e32a455e363d1ec0a8488.jpg  \n",
            " extracting: /content/train/images/Image__2021-01-29__12-39-15_3-13-A_png.rf.8fdcfda46d4cd390bdd9449c32d3e6c9.jpg  \n",
            " extracting: /content/train/images/Image__2021-01-29__12-39-15_3-13_png.rf.af7fd45ef324210a873c926ca2bfca19.jpg  \n",
            " extracting: /content/train/images/Image__2021-01-29__12-39-15_3-8_png.rf.cb300293862d064cc39446359065e967.jpg  \n",
            " extracting: /content/train/images/Image__2021-01-29__12-39-15_4-11-A_png.rf.69fa50ee87a1cf40e99ffc0ae2e210cf.jpg  \n",
            " extracting: /content/train/images/Image__2021-01-29__12-39-15_4-11_png.rf.65390b18feea00d11bf0f3f5a78af3df.jpg  \n",
            " extracting: /content/train/images/Image__2021-01-29__12-39-15_4-12-B_png.rf.ca2fdce88c447244f4ba41732a96444c.jpg  \n",
            " extracting: /content/train/images/Image__2021-01-29__12-39-15_4-7-B_png.rf.5e38c7be17ef665b006282954fae05dd.jpg  \n",
            " extracting: /content/train/images/Image__2021-01-29__12-39-15_4-7_png.rf.6f1365dd2ac0fb52968ec130e2793b79.jpg  \n",
            " extracting: /content/train/images/Image__2021-01-29__12-39-15_4-8-B_png.rf.fd880b08c8d2af01008392288f00b11b.jpg  \n",
            " extracting: /content/train/images/Image__2021-01-29__12-39-26_1-7-A_png.rf.c0afc93344d3c7be22706ad90e68c8df.jpg  \n",
            " extracting: /content/train/images/Image__2021-01-29__12-39-26_2-6_png.rf.0facf00ce81ec1998e8e743f5e699ef7.jpg  \n",
            " extracting: /content/train/images/Image__2021-01-29__12-39-26_3-16-B_png.rf.f1f9690a5d0e22f35f134b4b58bd18e8.jpg  \n",
            " extracting: /content/train/images/Image__2021-01-29__12-39-26_3-5-B_png.rf.ad372bd6adcf04a171d969ed2b11cff6.jpg  \n",
            " extracting: /content/train/images/Image__2021-01-29__12-39-33_1-3-A_png.rf.7e5232a9d5da10d1db11154fb1af95ca.jpg  \n",
            " extracting: /content/train/images/Image__2021-01-29__12-39-33_2-14_png.rf.b4577e9d9b779d195c7f8877a8c0cc57.jpg  \n",
            " extracting: /content/train/images/Image__2021-01-29__12-39-33_2-16-A_png.rf.1ca4d5ee50c9bf7297a06a5d2a0bbaca.jpg  \n",
            " extracting: /content/train/images/Image__2021-01-29__12-39-33_2-16_png.rf.c707a2b0ef0bed8c022cb6b9b99a4525.jpg  \n",
            " extracting: /content/train/images/Image__2021-01-29__12-40-14_3-13-A_png.rf.2cdce6531d76c782c0f7a80e6f916e30.jpg  \n",
            " extracting: /content/train/images/Image__2021-01-29__12-40-27_1-3-A_png.rf.fb9d7f46666f70eeb5166a9d5176367e.jpg  \n",
            " extracting: /content/train/images/Image__2021-01-29__12-40-27_2-1-B_png.rf.1cfadf2e1dcc74fbb6ce48b99fe1e4b8.jpg  \n",
            " extracting: /content/train/images/Image__2021-01-29__12-40-27_2-8-B_png.rf.a83f7bb697e035e00d476e98428bd7fc.jpg  \n",
            " extracting: /content/train/images/Image__2021-01-29__12-40-27_3-2-A_png.rf.40eec5fdb2b7cb85f44f3b7f3708a4c0.jpg  \n",
            " extracting: /content/train/images/Image__2021-01-29__12-40-27_4-13-A_png.rf.30ef3a5c48fa4df2d2aaea75af625e46.jpg  \n",
            " extracting: /content/train/images/Image__2021-01-29__12-40-27_4-13-B_png.rf.fc81b4b18a6fd15c3e45ac5c8b778e12.jpg  \n",
            " extracting: /content/train/images/Image__2021-01-29__12-40-35_1-9-A_png.rf.6c5d067128a6e7426b1939df6817133b.jpg  \n",
            " extracting: /content/train/images/Image__2021-01-29__12-40-35_2-15-B_png.rf.0963fc6a7c4bd258ea5053a023e391d4.jpg  \n",
            " extracting: /content/train/images/Image__2021-01-29__12-40-35_2-3_png.rf.e3ab02f0b6c3f37f931406af2bb5113e.jpg  \n",
            " extracting: /content/train/images/Image__2021-01-29__12-40-35_2-6-B_png.rf.4e421f3942e77761f2b41e5efc188b1f.jpg  \n",
            " extracting: /content/train/images/Image__2021-01-29__12-41-03_1-3_png.rf.04eb5a908d184e58751158f247d0e901.jpg  \n",
            " extracting: /content/train/images/Image__2021-01-29__12-41-03_1-4-A_png.rf.5845908ea39e8cba85456ad036df5529.jpg  \n",
            " extracting: /content/train/images/Image__2021-01-29__12-41-24_2-10_png.rf.b99dd4fbbb417d4a242340c400f05f7b.jpg  \n",
            " extracting: /content/train/images/Image__2021-01-29__12-45-20_1-13-A_png.rf.ae283452ee39b3901308f3f95bf0d6be.jpg  \n",
            " extracting: /content/train/images/Image__2021-01-29__12-47-12_3-5_png.rf.9b60237e09dd6cf6b48e3aed28432c5a.jpg  \n",
            " extracting: /content/train/images/Image__2021-01-29__12-48-40_4-13-B-Kopya_png.rf.ec0d0c96b0709d15c4ee64062ad1e3bb.jpg  \n",
            " extracting: /content/train/images/Image__2021-01-29__12-48-40_4-15-A-Kopya_png.rf.fabb1fb6e8ddab23ef1d5c0cde332b88.jpg  \n",
            " extracting: /content/train/images/Image__2021-01-29__12-52-49_1-3-Kopya_png.rf.156b2576975c7b1e5bd62ced28d21242.jpg  \n",
            " extracting: /content/train/images/Image__2021-01-29__12-52-59_3-12-Kopya_png.rf.15cfadcc1f80bee81f5b2ecc9b7b894e.jpg  \n",
            " extracting: /content/train/images/Image__2021-01-29__12-52-59_4-3-B-Kopya_png.rf.b4db0297331393dac63b2dc3f03d81cf.jpg  \n",
            " extracting: /content/train/images/Image__2021-01-29__12-53-04_1-5-Kopya_png.rf.c9bfea16c4529c6e751b0074bbf1aa70.jpg  \n",
            " extracting: /content/train/images/Image__2021-01-29__12-53-04_4-11-A-Kopya_png.rf.15a6958f3c3f7928a3c749cde10ac9b8.jpg  \n",
            " extracting: /content/train/images/Image__2021-01-29__12-53-41_1-10-B-Kopya_png.rf.337cccab2ce6aa4dec312e6c318e4acb.jpg  \n",
            " extracting: /content/train/images/Image__2021-01-29__12-53-41_1-10-Kopya_png.rf.fc878287bccb2486fbbafb6d9f65ed19.jpg  \n",
            " extracting: /content/train/images/Image__2021-01-29__12-53-41_1-5-B-Kopya_png.rf.61919c0409458dff29779712beb64658.jpg  \n",
            " extracting: /content/train/images/Image__2021-01-29__12-53-41_1-9-Kopya_png.rf.922f1841066572ee03f0ece42a667388.jpg  \n",
            " extracting: /content/train/images/Image__2021-01-29__12-53-41_2-16-B-Kopya_png.rf.c886e912bc49cb05a5cd6493385dcd41.jpg  \n",
            " extracting: /content/train/images/Image__2021-01-29__12-53-41_2-6-A-Kopya_png.rf.fa8f5f0a9749b81bfef939996df62da6.jpg  \n",
            " extracting: /content/train/images/Image__2021-01-29__12-53-41_3-14-A-Kopya_png.rf.7e86d9093e871f59a504e0686c3a7037.jpg  \n",
            " extracting: /content/train/images/Image__2021-01-29__12-53-41_3-15-B-Kopya_png.rf.9db86e4ce5414248034140ce736452e2.jpg  \n",
            " extracting: /content/train/images/Image__2021-01-29__12-53-41_3-15-Kopya_png.rf.b9913b89be149600c0b139171380c71d.jpg  \n",
            " extracting: /content/train/images/Image__2021-01-29__12-53-41_3-3-Kopya_png.rf.ad8355fe30564678cd16a1a1ac543dd2.jpg  \n",
            " extracting: /content/train/images/Image__2021-01-29__12-53-41_3-4-A_png.rf.dc79803941b537cbabd11e6ccd48502a.jpg  \n",
            " extracting: /content/train/images/Image__2021-01-29__13-21-27_3-15-A_png.rf.405cf3a8544ff929e843925e4bfd6df4.jpg  \n",
            " extracting: /content/train/images/Image__2021-01-29__13-21-27_4-3-B_png.rf.f436c17095b17e46ff99d632c1e31cf0.jpg  \n",
            " extracting: /content/train/images/Image__2021-01-29__13-21-52_4-1-B_png.rf.9e4f5944fb86f2c9da0df16e72d09f90.jpg  \n",
            " extracting: /content/train/images/Image__2021-01-29__13-22-17_3-5-A_png.rf.2e578841af950874cdba6d56eb3fc1ae.jpg  \n",
            " extracting: /content/train/images/Image__2021-01-29__13-22-17_4-12_png.rf.0421503e14096c6ca47081ed9ae341a4.jpg  \n",
            " extracting: /content/train/images/Image__2021-01-29__13-22-22_4-10-A_png.rf.239ebdca55042e91d5ca991978b4c4ac.jpg  \n",
            " extracting: /content/train/images/Image__2021-01-29__13-22-28_2-4-A_png.rf.f4f6abdbc6b532c73be09bf54517d5a9.jpg  \n",
            " extracting: /content/train/images/Image__2021-01-29__13-22-28_2-6_png.rf.1050c957b4bef42137f68d2b056b3a96.jpg  \n",
            " extracting: /content/train/images/Image__2021-01-29__13-22-28_3-10-A_png.rf.fa993ef1e50673c14c23b6bed84f7da4.jpg  \n",
            " extracting: /content/train/images/Image__2021-01-29__13-23-17_1-10-A_png.rf.27211dcf42ccbc7180301f3c50d5cbfe.jpg  \n",
            " extracting: /content/train/images/Image__2021-01-29__13-23-17_1-3_png.rf.f371d6f92e539af0d1b5ed7cd71f2dbe.jpg  \n",
            " extracting: /content/train/images/Image__2021-01-29__13-23-17_1-9-A_png.rf.6a562428a6cbfe8fece06e0277aa8b50.jpg  \n",
            " extracting: /content/train/images/Image__2021-01-29__13-23-23_2-13_png.rf.9bd557da80bcbef6fed3f39292d36f4b.jpg  \n",
            " extracting: /content/train/images/Image__2021-01-29__13-23-23_3-16-A_png.rf.f8b434968683e14f3790179749500b1f.jpg  \n",
            " extracting: /content/train/images/Image__2021-01-29__13-23-23_4-7-A_png.rf.e39020a2ed50f0b5e6e718ce827d9dfd.jpg  \n",
            " extracting: /content/train/images/Image__2021-01-29__13-23-23_4-7-B_png.rf.15e9dbed4990370b6fa9658b621ffd59.jpg  \n",
            " extracting: /content/train/images/Image__2021-01-29__13-23-28_1-11-A_png.rf.aaf92d3d26e8e4cdb494d970f0159676.jpg  \n",
            " extracting: /content/train/images/Image__2021-01-29__13-23-28_2-11-A_png.rf.479d2777385482e71b002dbeed9dc4b1.jpg  \n",
            " extracting: /content/train/images/Image__2021-01-29__13-23-28_3-12-B_png.rf.758c27150ed16aaec62432fde3b9bf73.jpg  \n",
            " extracting: /content/train/images/Image__2021-01-29__13-23-28_4-7_png.rf.e241c0e63d6150e6c9e4c6b719bd18d1.jpg  \n",
            " extracting: /content/train/images/Image__2021-01-29__13-23-48_2-16_png.rf.0ecb624007010428a6d28059a9983342.jpg  \n",
            " extracting: /content/train/images/Image__2021-01-29__13-23-48_2-4-A_png.rf.7a9ad0ab4489670af4397db6a0232e1e.jpg  \n",
            " extracting: /content/train/images/Image__2021-01-29__13-23-48_3-3-B_png.rf.d27bdb45f316ff7fd75d7c541d0f68fd.jpg  \n",
            " extracting: /content/train/images/Image__2021-01-29__13-23-48_3-6-A_png.rf.772af44a16d103b80d5eff9964f02d59.jpg  \n",
            " extracting: /content/train/images/Image__2021-01-29__13-25-13_3-5-A_png.rf.0d1dd6e6f477761837588a3054ab2cdb.jpg  \n",
            " extracting: /content/train/images/Image__2021-01-29__13-25-13_3-5-B_png.rf.925a00fb90c3cbd1e4bea2a3c6ea10e7.jpg  \n",
            " extracting: /content/train/images/Image__2021-01-29__13-25-13_3-6-A_png.rf.cee380ba0abfea414745e35992473eb9.jpg  \n",
            " extracting: /content/train/images/Image__2021-01-29__13-25-13_3-6_png.rf.860e37321dde84f1092c72050ff43377.jpg  \n",
            " extracting: /content/train/images/Image__2021-01-29__13-25-13_3-8-A_png.rf.9dc9f4361342caf1be16a58d90e6f120.jpg  \n",
            " extracting: /content/train/images/Image__2021-01-29__13-25-13_3-8_png.rf.b0695dfc99244bde2b981933d07b377d.jpg  \n",
            " extracting: /content/train/images/Image__2021-01-29__13-25-13_4-2-B_png.rf.12befbf5095ff9779eb1b86729f4a3d9.jpg  \n",
            " extracting: /content/train/images/Image__2021-01-29__13-25-21_2-6-A_png.rf.355637ffb2bf39d5a937f1aa2165c355.jpg  \n",
            " extracting: /content/train/images/Image__2021-01-29__13-25-34_3-4-A_png.rf.ecc71b4b8b9c211017fd37b87f428be7.jpg  \n",
            " extracting: /content/train/images/Image__2021-01-29__13-25-34_3-4-B_png.rf.4ae5981cb45ed0b5f060f207e112e008.jpg  \n",
            " extracting: /content/train/images/Image__2021-01-29__13-25-34_3-9_png.rf.93687c5764c22cd33925c29fc8348841.jpg  \n",
            " extracting: /content/train/images/Image__2021-01-29__13-25-34_4-7-B_png.rf.c5e72187b066552db81727334e59d91f.jpg  \n",
            "   creating: /content/train/labels/\n",
            "  inflating: /content/train/labels/Image__2021-01-28__15-49-02_1-12_png.rf.539f978cf3193d61c6511eaeadf57fc0.txt  \n",
            "  inflating: /content/train/labels/Image__2021-01-28__15-49-02_1-15-A-Kopya-Kopya_png.rf.c1ccac7691fcf7eb6d5d1de7ef0ac095.txt  \n",
            "  inflating: /content/train/labels/Image__2021-01-28__15-49-02_1-2-A_png.rf.cc6f5383c87489fbb5053223cf21380d.txt  \n",
            "  inflating: /content/train/labels/Image__2021-01-28__15-49-02_1-3_png.rf.6860d5bf94c47976466645972acdd9cd.txt  \n",
            "  inflating: /content/train/labels/Image__2021-01-28__15-49-02_1-6-A_png.rf.308498a9b301fbda20144ad42a99009b.txt  \n",
            "  inflating: /content/train/labels/Image__2021-01-28__15-49-02_1-6-B_png.rf.fa4a4866680b3b4f06ec8d3754a1e149.txt  \n",
            "  inflating: /content/train/labels/Image__2021-01-28__15-49-02_2-10-A_png.rf.bf2afbe03778c526f59f58e210b79456.txt  \n",
            "  inflating: /content/train/labels/Image__2021-01-28__15-49-02_2-16-A_png.rf.98bb758a8b76dfb411de3709a1db0196.txt  \n",
            "  inflating: /content/train/labels/Image__2021-01-28__15-49-02_3-13-B_png.rf.54a657668f2bb197203b32c71ec677ba.txt  \n",
            "  inflating: /content/train/labels/Image__2021-01-28__15-49-02_3-15-A_png.rf.b378eec73fb5c6fbbfe318bbc039a697.txt  \n",
            "  inflating: /content/train/labels/Image__2021-01-28__15-49-02_3-2-B_png.rf.7aefec0d57ee0f74bfc99df4dc097a00.txt  \n",
            "  inflating: /content/train/labels/Image__2021-01-28__15-49-02_4-4_png.rf.87ff35ed9a9c46308d70a9f2390c6f84.txt  \n",
            "  inflating: /content/train/labels/Image__2021-01-28__15-49-28_1-13-A_png.rf.37bdfa5ba1e8af8e3bd26fa0cd4fa408.txt  \n",
            "  inflating: /content/train/labels/Image__2021-01-28__15-49-28_2-7-B-Kopya-Kopya_png.rf.42555d37d10b10dd2a54f79dda15dcec.txt  \n",
            "  inflating: /content/train/labels/Image__2021-01-28__15-49-38_2-10_png.rf.e07284e8eff165eb5a78eca6d6369b16.txt  \n",
            "  inflating: /content/train/labels/Image__2021-01-28__15-49-38_2-15-B_png.rf.ff5e5c67e21aaf8bcc0e2c8de4f6e25b.txt  \n",
            "  inflating: /content/train/labels/Image__2021-01-28__15-49-38_2-7_png.rf.586e1b3924537cd97d43f5599c5b22bd.txt  \n",
            "  inflating: /content/train/labels/Image__2021-01-28__15-49-38_4-8-A_png.rf.bccda5b4db5ec9d1c6784f66af01d7a1.txt  \n",
            "  inflating: /content/train/labels/Image__2021-01-28__15-49-38_4-9-B_png.rf.6020decc2323382344755aef32a3ff20.txt  \n",
            "  inflating: /content/train/labels/Image__2021-01-28__16-04-31_1-14_png.rf.2dedf41c198c0ad16225e2d8ea0377b6.txt  \n",
            "  inflating: /content/train/labels/Image__2021-01-28__16-04-31_2-2_png.rf.22fddb3179259862a113d9009d0de53f.txt  \n",
            "  inflating: /content/train/labels/Image__2021-01-28__16-04-31_2-3_png.rf.95ed827a0766e12f141848c0b7f0b001.txt  \n",
            "  inflating: /content/train/labels/Image__2021-01-28__16-04-31_3-13-A_png.rf.f16072b5123d4615d5a514be8a4c91fc.txt  \n",
            "  inflating: /content/train/labels/Image__2021-01-28__16-04-31_3-8-B_png.rf.8d39fe0b493ef244453cdc8b886adcdf.txt  \n",
            "  inflating: /content/train/labels/Image__2021-01-28__16-04-31_4-3_png.rf.ed53012b167f91a34da211cf8450b3f5.txt  \n",
            "  inflating: /content/train/labels/Image__2021-01-28__16-04-42_1-10-B_png.rf.ccff0d9c7fbb43b1217f8bb67274cdf0.txt  \n",
            "  inflating: /content/train/labels/Image__2021-01-28__16-04-42_1-15-A_png.rf.233daba61bb905185c2cd4f237f6a7c6.txt  \n",
            "  inflating: /content/train/labels/Image__2021-01-28__16-04-42_1-16-B_png.rf.2fd618122701ca03230355d3e2862e01.txt  \n",
            "  inflating: /content/train/labels/Image__2021-01-28__16-04-42_1-1_png.rf.6823acec053b9e5e521918c812ed2460.txt  \n",
            "  inflating: /content/train/labels/Image__2021-01-28__16-04-42_2-8_png.rf.a124b2f5af2973a36595681b7fa1baa4.txt  \n",
            "  inflating: /content/train/labels/Image__2021-01-28__16-04-42_4-10-B-Kopya-Kopya_png.rf.0bf029351875b81bb182c35feadd5d68.txt  \n",
            "  inflating: /content/train/labels/Image__2021-01-28__16-04-42_4-5-A-Kopya-Kopya_png.rf.12096c3f79339036e4b7f0d8b6afae38.txt  \n",
            "  inflating: /content/train/labels/Image__2021-01-29__12-26-08_1-13-A-Kopya-Kopya_png.rf.a6e792f6d3c6293cc09fb1f0deceb8ac.txt  \n",
            "  inflating: /content/train/labels/Image__2021-01-29__12-26-08_1-15_png.rf.9d0a2295c511e5d4dca96f12c0d080d2.txt  \n",
            "  inflating: /content/train/labels/Image__2021-01-29__12-26-08_1-2-Kopya-Kopya_png.rf.e3d11836625c28123bcc9c2bbb93a138.txt  \n",
            "  inflating: /content/train/labels/Image__2021-01-29__12-26-08_1-7-Kopya-Kopya_png.rf.ad4a5bcb8fc17248d945f909f079441c.txt  \n",
            "  inflating: /content/train/labels/Image__2021-01-29__12-26-08_1-8-B-Kopya-Kopya_png.rf.2137a787b72db47868f2a8148d83c5ca.txt  \n",
            "  inflating: /content/train/labels/Image__2021-01-29__12-26-08_1-9-B-Kopya-Kopya_png.rf.c48d9403c3fde5a9687885fc372b153e.txt  \n",
            "  inflating: /content/train/labels/Image__2021-01-29__12-26-08_2-1-B-Kopya-Kopya_png.rf.5708a79bb01e38be6b6e9cf397643b5f.txt  \n",
            "  inflating: /content/train/labels/Image__2021-01-29__12-26-08_2-11-B-Kopya-Kopya_png.rf.d5a6750189792a8b8b73ef08dd452e86.txt  \n",
            "  inflating: /content/train/labels/Image__2021-01-29__12-26-08_2-12-A-Kopya-Kopya_png.rf.ad671e271d7f49eeb8bda57365a8ea5c.txt  \n",
            "  inflating: /content/train/labels/Image__2021-01-29__12-26-08_2-9-A-Kopya-Kopya_png.rf.d2cbca029dd0c484d0ffc00ac1ecf361.txt  \n",
            "  inflating: /content/train/labels/Image__2021-01-29__12-26-08_4-15-B_png.rf.1b3abb3648fb6d6accf2e8092cce7fd6.txt  \n",
            "  inflating: /content/train/labels/Image__2021-01-29__12-26-08_4-7-B_png.rf.2d7137783c0ecacfd877262aff933cd4.txt  \n",
            "  inflating: /content/train/labels/Image__2021-01-29__12-26-17_2-5-B-Kopya-Kopya_png.rf.e3b837ca283ea570bbd3e285acbbd6f3.txt  \n",
            "  inflating: /content/train/labels/Image__2021-01-29__12-26-17_3-16-A-Kopya-Kopya_png.rf.c9219482bb4a56bab594450704290f69.txt  \n",
            "  inflating: /content/train/labels/Image__2021-01-29__12-26-17_3-16-B-Kopya-Kopya_png.rf.f7c2d8e6ec336f094f3891887312322b.txt  \n",
            "  inflating: /content/train/labels/Image__2021-01-29__12-26-17_4-1-B-Kopya-Kopya_png.rf.64e833da54436692b156509574eafd94.txt  \n",
            "  inflating: /content/train/labels/Image__2021-01-29__12-26-17_4-4-A-Kopya-Kopya_png.rf.945fff7e05b7b4bf5311b10b7e1556e9.txt  \n",
            "  inflating: /content/train/labels/Image__2021-01-29__12-26-17_4-4-B-Kopya-Kopya_png.rf.fbb2a8a25735ca54454d77dd7908743f.txt  \n",
            "  inflating: /content/train/labels/Image__2021-01-29__12-26-17_4-7-Kopya-Kopya_png.rf.212f9e2202586681894f7199494a339d.txt  \n",
            "  inflating: /content/train/labels/Image__2021-01-29__12-26-17_4-8-A-Kopya-2-_png.rf.3399d24c80ec825bb18fd57a1a3ff1f4.txt  \n",
            "  inflating: /content/train/labels/Image__2021-01-29__12-26-17_4-9-B-Kopya_png.rf.25ebb8500a0bd5d54c076cf96b1e5315.txt  \n",
            "  inflating: /content/train/labels/Image__2021-01-29__12-26-25_1-12_png.rf.89ed239c2d0b880d4e68f705243e0592.txt  \n",
            "  inflating: /content/train/labels/Image__2021-01-29__12-26-25_2-7_png.rf.de8e28eaf6038c159148797ed1a54a66.txt  \n",
            "  inflating: /content/train/labels/Image__2021-01-29__12-26-25_2-9-A_png.rf.4a9bbbb11b9a7b21ddd88e959f51117c.txt  \n",
            "  inflating: /content/train/labels/Image__2021-01-29__12-26-25_3-1-B_png.rf.e61d4232b66ca78043a38d2192b29480.txt  \n",
            "  inflating: /content/train/labels/Image__2021-01-29__12-27-12_1-12-A-Kopya_png.rf.3213c5ac801ecf53ea03cd1e79d35559.txt  \n",
            "  inflating: /content/train/labels/Image__2021-01-29__12-27-12_1-9-Kopya_png.rf.4449f74b510137f82ee19f345e667943.txt  \n",
            "  inflating: /content/train/labels/Image__2021-01-29__12-27-12_2-1-A-Kopya_png.rf.513b0ddec139832246f933c2cef38b96.txt  \n",
            "  inflating: /content/train/labels/Image__2021-01-29__12-27-12_3-13-A-Kopya_png.rf.633c53c80642b6aa39c33467df8932af.txt  \n",
            "  inflating: /content/train/labels/Image__2021-01-29__12-27-12_3-14-A-Kopya_png.rf.634f8a3701f2b73d4694cdbae1b8b367.txt  \n",
            "  inflating: /content/train/labels/Image__2021-01-29__12-27-12_3-14-Kopya_png.rf.9016781281645767de8e9a7b46b63e70.txt  \n",
            "  inflating: /content/train/labels/Image__2021-01-29__12-33-02_1-12-B_png.rf.104264ee5af657b721b9f585fa445be1.txt  \n",
            "  inflating: /content/train/labels/Image__2021-01-29__12-33-02_2-3-A_png.rf.8849c6031cb3fb7231d7239b1cd8e21b.txt  \n",
            "  inflating: /content/train/labels/Image__2021-01-29__12-33-02_2-4-B_png.rf.5a15045e1c7d5e20e4ab2b2bcf9c5339.txt  \n",
            "  inflating: /content/train/labels/Image__2021-01-29__12-33-02_2-5-A_png.rf.1e42b16dbe79bc693920fcd1af9d94ef.txt  \n",
            "  inflating: /content/train/labels/Image__2021-01-29__12-33-02_2-5_png.rf.f41a23302462966395859e7269006fd0.txt  \n",
            "  inflating: /content/train/labels/Image__2021-01-29__12-33-02_3-2-A_png.rf.a1e036341370bd8d22272156a31fe014.txt  \n",
            "  inflating: /content/train/labels/Image__2021-01-29__12-33-02_3-4_png.rf.38528575c0d486eec9e67ba3ba55d626.txt  \n",
            "  inflating: /content/train/labels/Image__2021-01-29__12-33-12_1-3_png.rf.b4f7f310a3b0a374b6cebada40bbeabd.txt  \n",
            "  inflating: /content/train/labels/Image__2021-01-29__12-33-19_3-13-B_png.rf.a9cf43927b5704eda17cb233374371e2.txt  \n",
            "  inflating: /content/train/labels/Image__2021-01-29__12-33-19_4-11-B_png.rf.fa45ca7e984c1c7f480e06d2b454d279.txt  \n",
            "  inflating: /content/train/labels/Image__2021-01-29__12-33-19_4-2-A_png.rf.1712ae5fb23c15dda37eb6ffd262201d.txt  \n",
            "  inflating: /content/train/labels/Image__2021-01-29__12-33-19_4-8-A_png.rf.094ac75bedf28f8bbc03a4d60a70c812.txt  \n",
            "  inflating: /content/train/labels/Image__2021-01-29__12-34-17_1-10-B_png.rf.9585de5d49c0f67b7e20a4726eafda52.txt  \n",
            "  inflating: /content/train/labels/Image__2021-01-29__12-34-17_1-13-A_png.rf.7aaa3e909ee756d207b18f8821c3b7ec.txt  \n",
            "  inflating: /content/train/labels/Image__2021-01-29__12-34-17_1-3-A_png.rf.958aa7ecee59718cbfacbb7e5453071a.txt  \n",
            "  inflating: /content/train/labels/Image__2021-01-29__12-34-17_1-4-B_png.rf.c03a927187ae0eddfdd9e35fa2cba9f9.txt  \n",
            "  inflating: /content/train/labels/Image__2021-01-29__12-34-25_1-6-B_png.rf.c88ae7fe84b39eec7902f5854c41d696.txt  \n",
            "  inflating: /content/train/labels/Image__2021-01-29__12-34-25_1-6_png.rf.be533d9aeb38cf2a20a40b009168dd66.txt  \n",
            "  inflating: /content/train/labels/Image__2021-01-29__12-34-25_1-7_png.rf.99c9a1116b022e84f81f412a26d84121.txt  \n",
            "  inflating: /content/train/labels/Image__2021-01-29__12-34-25_2-5-A_png.rf.bee7f34185a34112a8ea8b69ef7b7913.txt  \n",
            "  inflating: /content/train/labels/Image__2021-01-29__12-34-25_3-15_png.rf.3cced953d8003a1488c12f1383c4629d.txt  \n",
            "  inflating: /content/train/labels/Image__2021-01-29__12-34-25_3-16_png.rf.c9402e63c297d21e5b320c34c2a8e658.txt  \n",
            "  inflating: /content/train/labels/Image__2021-01-29__12-34-25_3-4-A_png.rf.b56d46c3c4d7bd801bf7d56c618ebb6e.txt  \n",
            "  inflating: /content/train/labels/Image__2021-01-29__12-34-25_3-4-B_png.rf.e6374e34bfaf5efac43a83e2e68e283c.txt  \n",
            "  inflating: /content/train/labels/Image__2021-01-29__12-34-25_3-7-A_png.rf.b0ef54226ecffffcbc4969169fd20c39.txt  \n",
            "  inflating: /content/train/labels/Image__2021-01-29__12-34-25_3-7_png.rf.18c7d28e4f43036cca21a718f23c1596.txt  \n",
            "  inflating: /content/train/labels/Image__2021-01-29__12-34-25_4-2-A_png.rf.71bb61a10dbb79a1b75012d30e14ef0b.txt  \n",
            "  inflating: /content/train/labels/Image__2021-01-29__12-36-37_2-10-A_png.rf.7abe398e198772728f7cb8ce4c042627.txt  \n",
            "  inflating: /content/train/labels/Image__2021-01-29__12-36-37_2-11-B-Kopya_png.rf.4aa7a87256380ccf260e7b85e75b8ac8.txt  \n",
            "  inflating: /content/train/labels/Image__2021-01-29__12-36-37_2-13-A-Kopya_png.rf.e0ea7c46a063b4008e7acffae5d2839a.txt  \n",
            "  inflating: /content/train/labels/Image__2021-01-29__12-36-37_2-15-B-Kopya_png.rf.dd2236db587d0003de9484d172eb59f0.txt  \n",
            "  inflating: /content/train/labels/Image__2021-01-29__12-36-37_2-2-A-Kopya_png.rf.ee485d785c4bf775e236c67833889047.txt  \n",
            "  inflating: /content/train/labels/Image__2021-01-29__12-36-37_2-7_png.rf.1c9045ae2f34991fccd3050fcfb77e7c.txt  \n",
            "  inflating: /content/train/labels/Image__2021-01-29__12-36-37_3-11-Kopya_png.rf.548eeca250fa10b0270484e5dbaff5e8.txt  \n",
            "  inflating: /content/train/labels/Image__2021-01-29__12-36-37_3-3-Kopya_png.rf.f857f8aad471b0c4097d59b6019c6fa2.txt  \n",
            "  inflating: /content/train/labels/Image__2021-01-29__12-36-37_3-4-Kopya_png.rf.65d13990dbc6239ab7d3120d6ebbc24e.txt  \n",
            "  inflating: /content/train/labels/Image__2021-01-29__12-36-37_3-7-Kopya_png.rf.a27e966f95f0793aea0436d4a08d6fb4.txt  \n",
            "  inflating: /content/train/labels/Image__2021-01-29__12-36-37_3-8-A_png.rf.3c22ef54788e5b295b0291ec240d2275.txt  \n",
            "  inflating: /content/train/labels/Image__2021-01-29__12-36-37_3-9-A_png.rf.1d829a6b4b255fb2ff5be49f2fbb0cb6.txt  \n",
            "  inflating: /content/train/labels/Image__2021-01-29__12-36-37_4-1-B-Kopya_png.rf.e4f61c05e1e1e5a2ab97b02a5d79b0d2.txt  \n",
            "  inflating: /content/train/labels/Image__2021-01-29__12-36-37_4-4-A-Kopya_png.rf.2b1daf7f0966ee38908ed0059ee76229.txt  \n",
            "  inflating: /content/train/labels/Image__2021-01-29__12-36-37_4-6-A_png.rf.d63ef750162d815a13bac814f4f6969f.txt  \n",
            "  inflating: /content/train/labels/Image__2021-01-29__12-36-37_4-6-Kopya_png.rf.d7855be54bc1099eddb503efd8284dab.txt  \n",
            "  inflating: /content/train/labels/Image__2021-01-29__12-36-37_4-7-A_png.rf.8f909f7f0644cce9b4c17e827a845395.txt  \n",
            "  inflating: /content/train/labels/Image__2021-01-29__12-36-37_4-8-B_png.rf.ba47f95c384d60bb04189d8ce8a66eff.txt  \n",
            "  inflating: /content/train/labels/Image__2021-01-29__12-36-44_1-1-B_png.rf.275f328c9cc7d9d428c71a8ba96d6f00.txt  \n",
            "  inflating: /content/train/labels/Image__2021-01-29__12-36-44_1-12_png.rf.06d9b61555b2908c6d427b5123333864.txt  \n",
            "  inflating: /content/train/labels/Image__2021-01-29__12-36-44_1-14-B_png.rf.e3182389a4b09ed6c5dbff798f56beea.txt  \n",
            "  inflating: /content/train/labels/Image__2021-01-29__12-36-44_1-6_png.rf.791746a8f90a4b1b31f5e922fd0d856f.txt  \n",
            "  inflating: /content/train/labels/Image__2021-01-29__12-36-44_2-4-B_png.rf.1131471a66c485c262da2df337e9e219.txt  \n",
            "  inflating: /content/train/labels/Image__2021-01-29__12-36-44_2-8-B_png.rf.00a9fa505e604f5e9885330b1d1d57ec.txt  \n",
            "  inflating: /content/train/labels/Image__2021-01-29__12-36-44_3-14-B_png.rf.8c8c44a813a4ac63a063bcf387e7d7bc.txt  \n",
            "  inflating: /content/train/labels/Image__2021-01-29__12-36-44_4-12-A_png.rf.4f781a0a1de681b7d2c4204ca8313f2e.txt  \n",
            "  inflating: /content/train/labels/Image__2021-01-29__12-36-44_4-12-B_png.rf.15054101006c453d55d0fccacb8a6df9.txt  \n",
            "  inflating: /content/train/labels/Image__2021-01-29__12-36-44_4-12_png.rf.03bd0b36585eeb55471217b3054e90c7.txt  \n",
            "  inflating: /content/train/labels/Image__2021-01-29__12-36-44_4-13-A_png.rf.c2905700b51fc2ba1b56e3a6ccaf700e.txt  \n",
            "  inflating: /content/train/labels/Image__2021-01-29__12-36-50_2-11_png.rf.e153a5028750829c0ce0be021310dcd7.txt  \n",
            "  inflating: /content/train/labels/Image__2021-01-29__12-36-50_2-14-A_png.rf.e2639419e294581a792629943533b254.txt  \n",
            "  inflating: /content/train/labels/Image__2021-01-29__12-36-50_2-2-B_png.rf.ee8d6b22a2d157fab6d428ddce4f5050.txt  \n",
            "  inflating: /content/train/labels/Image__2021-01-29__12-36-50_3-10_png.rf.ac21c933b3f13bd0bfdb9a3e224037e0.txt  \n",
            "  inflating: /content/train/labels/Image__2021-01-29__12-36-50_3-12-B_png.rf.c7eb52224d73156caa4d2850a5a1430a.txt  \n",
            "  inflating: /content/train/labels/Image__2021-01-29__12-36-50_3-13-A_png.rf.8f881a9f27a1491e89b3931777845914.txt  \n",
            "  inflating: /content/train/labels/Image__2021-01-29__12-36-50_3-5-B_png.rf.e11c897133f58a10fea84f437d57c93d.txt  \n",
            "  inflating: /content/train/labels/Image__2021-01-29__12-36-50_3-5_png.rf.7bd22b0f7f4e232fa20c800deddab74c.txt  \n",
            "  inflating: /content/train/labels/Image__2021-01-29__12-36-50_4-1-B_png.rf.f2b9c08224a5b9113dcc0c28546a2c8c.txt  \n",
            "  inflating: /content/train/labels/Image__2021-01-29__12-36-50_4-11-Kopya_png.rf.a02c416329d3953d045b5842cf27de8a.txt  \n",
            "  inflating: /content/train/labels/Image__2021-01-29__12-36-50_4-13-A_png.rf.99165ef7f0a342f6e3b26727355f2426.txt  \n",
            "  inflating: /content/train/labels/Image__2021-01-29__12-36-50_4-3-B_png.rf.b23b396bbfe16e090acc6a021e563792.txt  \n",
            "  inflating: /content/train/labels/Image__2021-01-29__12-36-50_4-3_png.rf.6f15907a748c4a2f87cf7a6243619ecb.txt  \n",
            "  inflating: /content/train/labels/Image__2021-01-29__12-36-50_4-5-A_png.rf.dbfdb1ce8ca73c5d511fe808ad32f704.txt  \n",
            "  inflating: /content/train/labels/Image__2021-01-29__12-38-25_2-5-B_png.rf.c03d934c0372379783cfc200a2997170.txt  \n",
            "  inflating: /content/train/labels/Image__2021-01-29__12-38-25_3-14_png.rf.c97ada32d16270d676eefe69aacea046.txt  \n",
            "  inflating: /content/train/labels/Image__2021-01-29__12-38-25_4-2_png.rf.47c20f6332159682ceb955bf14deda2d.txt  \n",
            "  inflating: /content/train/labels/Image__2021-01-29__12-38-25_4-3-A_png.rf.114be349be97829f62188f2c0f926f28.txt  \n",
            "  inflating: /content/train/labels/Image__2021-01-29__12-38-32_1-15_png.rf.e2a2f0daba59837ec13a1713de70cb26.txt  \n",
            "  inflating: /content/train/labels/Image__2021-01-29__12-38-32_1-3-B_png.rf.42afa4cce9c62c948a6c4b4c51235bbc.txt  \n",
            "  inflating: /content/train/labels/Image__2021-01-29__12-38-32_1-8_png.rf.6846b317df8fbe9d4718492c449f54ea.txt  \n",
            "  inflating: /content/train/labels/Image__2021-01-29__12-38-32_2-2-B_png.rf.f02114714c232334597abd95b7a8a06a.txt  \n",
            "  inflating: /content/train/labels/Image__2021-01-29__12-38-32_2-5-B_png.rf.08a6957cf91f8d26b1a680fdcd35aa46.txt  \n",
            "  inflating: /content/train/labels/Image__2021-01-29__12-38-32_3-14_png.rf.7e3ac3d4a9e7e087f6e7dc221487048c.txt  \n",
            "  inflating: /content/train/labels/Image__2021-01-29__12-39-15_1-1-B_png.rf.f95624592a898b249102b8a9f129c36f.txt  \n",
            "  inflating: /content/train/labels/Image__2021-01-29__12-39-15_1-10-B_png.rf.c7088a0c15cc689029e618d6b70f1d12.txt  \n",
            "  inflating: /content/train/labels/Image__2021-01-29__12-39-15_1-2-A_png.rf.fd29e93f8ccd7e2d3967478fad44e73a.txt  \n",
            "  inflating: /content/train/labels/Image__2021-01-29__12-39-15_3-12_png.rf.d09981079a1e32a455e363d1ec0a8488.txt  \n",
            "  inflating: /content/train/labels/Image__2021-01-29__12-39-15_3-13-A_png.rf.8fdcfda46d4cd390bdd9449c32d3e6c9.txt  \n",
            "  inflating: /content/train/labels/Image__2021-01-29__12-39-15_3-13_png.rf.af7fd45ef324210a873c926ca2bfca19.txt  \n",
            "  inflating: /content/train/labels/Image__2021-01-29__12-39-15_3-8_png.rf.cb300293862d064cc39446359065e967.txt  \n",
            "  inflating: /content/train/labels/Image__2021-01-29__12-39-15_4-11-A_png.rf.69fa50ee87a1cf40e99ffc0ae2e210cf.txt  \n",
            "  inflating: /content/train/labels/Image__2021-01-29__12-39-15_4-11_png.rf.65390b18feea00d11bf0f3f5a78af3df.txt  \n",
            "  inflating: /content/train/labels/Image__2021-01-29__12-39-15_4-12-B_png.rf.ca2fdce88c447244f4ba41732a96444c.txt  \n",
            "  inflating: /content/train/labels/Image__2021-01-29__12-39-15_4-7-B_png.rf.5e38c7be17ef665b006282954fae05dd.txt  \n",
            "  inflating: /content/train/labels/Image__2021-01-29__12-39-15_4-7_png.rf.6f1365dd2ac0fb52968ec130e2793b79.txt  \n",
            "  inflating: /content/train/labels/Image__2021-01-29__12-39-15_4-8-B_png.rf.fd880b08c8d2af01008392288f00b11b.txt  \n",
            "  inflating: /content/train/labels/Image__2021-01-29__12-39-26_1-7-A_png.rf.c0afc93344d3c7be22706ad90e68c8df.txt  \n",
            "  inflating: /content/train/labels/Image__2021-01-29__12-39-26_2-6_png.rf.0facf00ce81ec1998e8e743f5e699ef7.txt  \n",
            "  inflating: /content/train/labels/Image__2021-01-29__12-39-26_3-16-B_png.rf.f1f9690a5d0e22f35f134b4b58bd18e8.txt  \n",
            "  inflating: /content/train/labels/Image__2021-01-29__12-39-26_3-5-B_png.rf.ad372bd6adcf04a171d969ed2b11cff6.txt  \n",
            "  inflating: /content/train/labels/Image__2021-01-29__12-39-33_1-3-A_png.rf.7e5232a9d5da10d1db11154fb1af95ca.txt  \n",
            "  inflating: /content/train/labels/Image__2021-01-29__12-39-33_2-14_png.rf.b4577e9d9b779d195c7f8877a8c0cc57.txt  \n",
            "  inflating: /content/train/labels/Image__2021-01-29__12-39-33_2-16-A_png.rf.1ca4d5ee50c9bf7297a06a5d2a0bbaca.txt  \n",
            "  inflating: /content/train/labels/Image__2021-01-29__12-39-33_2-16_png.rf.c707a2b0ef0bed8c022cb6b9b99a4525.txt  \n",
            "  inflating: /content/train/labels/Image__2021-01-29__12-40-14_3-13-A_png.rf.2cdce6531d76c782c0f7a80e6f916e30.txt  \n",
            "  inflating: /content/train/labels/Image__2021-01-29__12-40-27_1-3-A_png.rf.fb9d7f46666f70eeb5166a9d5176367e.txt  \n",
            "  inflating: /content/train/labels/Image__2021-01-29__12-40-27_2-1-B_png.rf.1cfadf2e1dcc74fbb6ce48b99fe1e4b8.txt  \n",
            "  inflating: /content/train/labels/Image__2021-01-29__12-40-27_2-8-B_png.rf.a83f7bb697e035e00d476e98428bd7fc.txt  \n",
            "  inflating: /content/train/labels/Image__2021-01-29__12-40-27_3-2-A_png.rf.40eec5fdb2b7cb85f44f3b7f3708a4c0.txt  \n",
            "  inflating: /content/train/labels/Image__2021-01-29__12-40-27_4-13-A_png.rf.30ef3a5c48fa4df2d2aaea75af625e46.txt  \n",
            "  inflating: /content/train/labels/Image__2021-01-29__12-40-27_4-13-B_png.rf.fc81b4b18a6fd15c3e45ac5c8b778e12.txt  \n",
            "  inflating: /content/train/labels/Image__2021-01-29__12-40-35_1-9-A_png.rf.6c5d067128a6e7426b1939df6817133b.txt  \n",
            "  inflating: /content/train/labels/Image__2021-01-29__12-40-35_2-15-B_png.rf.0963fc6a7c4bd258ea5053a023e391d4.txt  \n",
            "  inflating: /content/train/labels/Image__2021-01-29__12-40-35_2-3_png.rf.e3ab02f0b6c3f37f931406af2bb5113e.txt  \n",
            "  inflating: /content/train/labels/Image__2021-01-29__12-40-35_2-6-B_png.rf.4e421f3942e77761f2b41e5efc188b1f.txt  \n",
            "  inflating: /content/train/labels/Image__2021-01-29__12-41-03_1-3_png.rf.04eb5a908d184e58751158f247d0e901.txt  \n",
            "  inflating: /content/train/labels/Image__2021-01-29__12-41-03_1-4-A_png.rf.5845908ea39e8cba85456ad036df5529.txt  \n",
            "  inflating: /content/train/labels/Image__2021-01-29__12-41-24_2-10_png.rf.b99dd4fbbb417d4a242340c400f05f7b.txt  \n",
            "  inflating: /content/train/labels/Image__2021-01-29__12-45-20_1-13-A_png.rf.ae283452ee39b3901308f3f95bf0d6be.txt  \n",
            "  inflating: /content/train/labels/Image__2021-01-29__12-47-12_3-5_png.rf.9b60237e09dd6cf6b48e3aed28432c5a.txt  \n",
            "  inflating: /content/train/labels/Image__2021-01-29__12-48-40_4-13-B-Kopya_png.rf.ec0d0c96b0709d15c4ee64062ad1e3bb.txt  \n",
            "  inflating: /content/train/labels/Image__2021-01-29__12-48-40_4-15-A-Kopya_png.rf.fabb1fb6e8ddab23ef1d5c0cde332b88.txt  \n",
            "  inflating: /content/train/labels/Image__2021-01-29__12-52-49_1-3-Kopya_png.rf.156b2576975c7b1e5bd62ced28d21242.txt  \n",
            "  inflating: /content/train/labels/Image__2021-01-29__12-52-59_3-12-Kopya_png.rf.15cfadcc1f80bee81f5b2ecc9b7b894e.txt  \n",
            "  inflating: /content/train/labels/Image__2021-01-29__12-52-59_4-3-B-Kopya_png.rf.b4db0297331393dac63b2dc3f03d81cf.txt  \n",
            "  inflating: /content/train/labels/Image__2021-01-29__12-53-04_1-5-Kopya_png.rf.c9bfea16c4529c6e751b0074bbf1aa70.txt  \n",
            "  inflating: /content/train/labels/Image__2021-01-29__12-53-04_4-11-A-Kopya_png.rf.15a6958f3c3f7928a3c749cde10ac9b8.txt  \n",
            "  inflating: /content/train/labels/Image__2021-01-29__12-53-41_1-10-B-Kopya_png.rf.337cccab2ce6aa4dec312e6c318e4acb.txt  \n",
            "  inflating: /content/train/labels/Image__2021-01-29__12-53-41_1-10-Kopya_png.rf.fc878287bccb2486fbbafb6d9f65ed19.txt  \n",
            "  inflating: /content/train/labels/Image__2021-01-29__12-53-41_1-5-B-Kopya_png.rf.61919c0409458dff29779712beb64658.txt  \n",
            "  inflating: /content/train/labels/Image__2021-01-29__12-53-41_1-9-Kopya_png.rf.922f1841066572ee03f0ece42a667388.txt  \n",
            "  inflating: /content/train/labels/Image__2021-01-29__12-53-41_2-16-B-Kopya_png.rf.c886e912bc49cb05a5cd6493385dcd41.txt  \n",
            "  inflating: /content/train/labels/Image__2021-01-29__12-53-41_2-6-A-Kopya_png.rf.fa8f5f0a9749b81bfef939996df62da6.txt  \n",
            "  inflating: /content/train/labels/Image__2021-01-29__12-53-41_3-14-A-Kopya_png.rf.7e86d9093e871f59a504e0686c3a7037.txt  \n",
            "  inflating: /content/train/labels/Image__2021-01-29__12-53-41_3-15-B-Kopya_png.rf.9db86e4ce5414248034140ce736452e2.txt  \n",
            "  inflating: /content/train/labels/Image__2021-01-29__12-53-41_3-15-Kopya_png.rf.b9913b89be149600c0b139171380c71d.txt  \n",
            "  inflating: /content/train/labels/Image__2021-01-29__12-53-41_3-3-Kopya_png.rf.ad8355fe30564678cd16a1a1ac543dd2.txt  \n",
            "  inflating: /content/train/labels/Image__2021-01-29__12-53-41_3-4-A_png.rf.dc79803941b537cbabd11e6ccd48502a.txt  \n",
            "  inflating: /content/train/labels/Image__2021-01-29__13-21-27_3-15-A_png.rf.405cf3a8544ff929e843925e4bfd6df4.txt  \n",
            "  inflating: /content/train/labels/Image__2021-01-29__13-21-27_4-3-B_png.rf.f436c17095b17e46ff99d632c1e31cf0.txt  \n",
            "  inflating: /content/train/labels/Image__2021-01-29__13-21-52_4-1-B_png.rf.9e4f5944fb86f2c9da0df16e72d09f90.txt  \n",
            "  inflating: /content/train/labels/Image__2021-01-29__13-22-17_3-5-A_png.rf.2e578841af950874cdba6d56eb3fc1ae.txt  \n",
            "  inflating: /content/train/labels/Image__2021-01-29__13-22-17_4-12_png.rf.0421503e14096c6ca47081ed9ae341a4.txt  \n",
            "  inflating: /content/train/labels/Image__2021-01-29__13-22-22_4-10-A_png.rf.239ebdca55042e91d5ca991978b4c4ac.txt  \n",
            "  inflating: /content/train/labels/Image__2021-01-29__13-22-28_2-4-A_png.rf.f4f6abdbc6b532c73be09bf54517d5a9.txt  \n",
            "  inflating: /content/train/labels/Image__2021-01-29__13-22-28_2-6_png.rf.1050c957b4bef42137f68d2b056b3a96.txt  \n",
            "  inflating: /content/train/labels/Image__2021-01-29__13-22-28_3-10-A_png.rf.fa993ef1e50673c14c23b6bed84f7da4.txt  \n",
            "  inflating: /content/train/labels/Image__2021-01-29__13-23-17_1-10-A_png.rf.27211dcf42ccbc7180301f3c50d5cbfe.txt  \n",
            "  inflating: /content/train/labels/Image__2021-01-29__13-23-17_1-3_png.rf.f371d6f92e539af0d1b5ed7cd71f2dbe.txt  \n",
            "  inflating: /content/train/labels/Image__2021-01-29__13-23-17_1-9-A_png.rf.6a562428a6cbfe8fece06e0277aa8b50.txt  \n",
            "  inflating: /content/train/labels/Image__2021-01-29__13-23-23_2-13_png.rf.9bd557da80bcbef6fed3f39292d36f4b.txt  \n",
            "  inflating: /content/train/labels/Image__2021-01-29__13-23-23_3-16-A_png.rf.f8b434968683e14f3790179749500b1f.txt  \n",
            "  inflating: /content/train/labels/Image__2021-01-29__13-23-23_4-7-A_png.rf.e39020a2ed50f0b5e6e718ce827d9dfd.txt  \n",
            "  inflating: /content/train/labels/Image__2021-01-29__13-23-23_4-7-B_png.rf.15e9dbed4990370b6fa9658b621ffd59.txt  \n",
            "  inflating: /content/train/labels/Image__2021-01-29__13-23-28_1-11-A_png.rf.aaf92d3d26e8e4cdb494d970f0159676.txt  \n",
            "  inflating: /content/train/labels/Image__2021-01-29__13-23-28_2-11-A_png.rf.479d2777385482e71b002dbeed9dc4b1.txt  \n",
            "  inflating: /content/train/labels/Image__2021-01-29__13-23-28_3-12-B_png.rf.758c27150ed16aaec62432fde3b9bf73.txt  \n",
            "  inflating: /content/train/labels/Image__2021-01-29__13-23-28_4-7_png.rf.e241c0e63d6150e6c9e4c6b719bd18d1.txt  \n",
            "  inflating: /content/train/labels/Image__2021-01-29__13-23-48_2-16_png.rf.0ecb624007010428a6d28059a9983342.txt  \n",
            "  inflating: /content/train/labels/Image__2021-01-29__13-23-48_2-4-A_png.rf.7a9ad0ab4489670af4397db6a0232e1e.txt  \n",
            "  inflating: /content/train/labels/Image__2021-01-29__13-23-48_3-3-B_png.rf.d27bdb45f316ff7fd75d7c541d0f68fd.txt  \n",
            "  inflating: /content/train/labels/Image__2021-01-29__13-23-48_3-6-A_png.rf.772af44a16d103b80d5eff9964f02d59.txt  \n",
            "  inflating: /content/train/labels/Image__2021-01-29__13-25-13_3-5-A_png.rf.0d1dd6e6f477761837588a3054ab2cdb.txt  \n",
            "  inflating: /content/train/labels/Image__2021-01-29__13-25-13_3-5-B_png.rf.925a00fb90c3cbd1e4bea2a3c6ea10e7.txt  \n",
            "  inflating: /content/train/labels/Image__2021-01-29__13-25-13_3-6-A_png.rf.cee380ba0abfea414745e35992473eb9.txt  \n",
            "  inflating: /content/train/labels/Image__2021-01-29__13-25-13_3-6_png.rf.860e37321dde84f1092c72050ff43377.txt  \n",
            "  inflating: /content/train/labels/Image__2021-01-29__13-25-13_3-8-A_png.rf.9dc9f4361342caf1be16a58d90e6f120.txt  \n",
            "  inflating: /content/train/labels/Image__2021-01-29__13-25-13_3-8_png.rf.b0695dfc99244bde2b981933d07b377d.txt  \n",
            "  inflating: /content/train/labels/Image__2021-01-29__13-25-13_4-2-B_png.rf.12befbf5095ff9779eb1b86729f4a3d9.txt  \n",
            "  inflating: /content/train/labels/Image__2021-01-29__13-25-21_2-6-A_png.rf.355637ffb2bf39d5a937f1aa2165c355.txt  \n",
            "  inflating: /content/train/labels/Image__2021-01-29__13-25-34_3-4-A_png.rf.ecc71b4b8b9c211017fd37b87f428be7.txt  \n",
            "  inflating: /content/train/labels/Image__2021-01-29__13-25-34_3-4-B_png.rf.4ae5981cb45ed0b5f060f207e112e008.txt  \n",
            "  inflating: /content/train/labels/Image__2021-01-29__13-25-34_3-9_png.rf.93687c5764c22cd33925c29fc8348841.txt  \n",
            "  inflating: /content/train/labels/Image__2021-01-29__13-25-34_4-7-B_png.rf.c5e72187b066552db81727334e59d91f.txt  \n",
            "   creating: /content/valid/\n",
            "   creating: /content/valid/images/\n",
            " extracting: /content/valid/images/Image__2021-01-28__15-49-02_1-8_png.rf.0306a7d6564d937b03e58818b2d28bb9.jpg  \n",
            " extracting: /content/valid/images/Image__2021-01-28__15-49-02_2-13-B_png.rf.562354c042e6d469d75bce21bf282959.jpg  \n",
            " extracting: /content/valid/images/Image__2021-01-28__15-49-02_3-11_png.rf.f2bfca00a7c5e3ba275cd2547fa47d6c.jpg  \n",
            " extracting: /content/valid/images/Image__2021-01-28__15-49-02_3-15_png.rf.4d4e7ca92399eae80e34f2b3fa1e3cfa.jpg  \n",
            " extracting: /content/valid/images/Image__2021-01-28__15-49-02_3-3_png.rf.c2f68f2d3a6f55effd8e7ce0cc633bba.jpg  \n",
            " extracting: /content/valid/images/Image__2021-01-28__15-49-02_3-6-A_png.rf.9362cc75e8105cb5b03caf7346644d6e.jpg  \n",
            " extracting: /content/valid/images/Image__2021-01-28__15-49-02_3-9_png.rf.e98f132a369e707f9c9816316e2e6bc1.jpg  \n",
            " extracting: /content/valid/images/Image__2021-01-28__16-04-31_1-11-A_png.rf.a64804f8a0ba28be03ba840f48986dba.jpg  \n",
            " extracting: /content/valid/images/Image__2021-01-28__16-04-31_4-6-B_png.rf.11e5430a31a03bab7e52552740942697.jpg  \n",
            " extracting: /content/valid/images/Image__2021-01-28__16-04-42_1-14-A_png.rf.89e0a0c36706b7b9c59b5e776e2f59c7.jpg  \n",
            " extracting: /content/valid/images/Image__2021-01-28__16-04-42_1-15_png.rf.e0a37a447f29027920c517481bee46fe.jpg  \n",
            " extracting: /content/valid/images/Image__2021-01-28__16-04-42_1-2-A_png.rf.1f723a3cc581d11d7fde4fc49b3cadea.jpg  \n",
            " extracting: /content/valid/images/Image__2021-01-28__16-04-42_1-8-B_png.rf.584eb1e8ce69daa26cd405a0ffa8aeb2.jpg  \n",
            " extracting: /content/valid/images/Image__2021-01-28__16-04-42_4-7-B-Kopya-Kopya_png.rf.fdc1ee44e967489e7859e8f646cb9545.jpg  \n",
            " extracting: /content/valid/images/Image__2021-01-29__12-26-08_1-12-B-Kopya-Kopya_png.rf.589c9bf0d47a1362cdefbf4cf96a3ea9.jpg  \n",
            " extracting: /content/valid/images/Image__2021-01-29__12-26-08_1-4-B-Kopya-Kopya_png.rf.e2e1fae85c47fed293100665f24231d8.jpg  \n",
            " extracting: /content/valid/images/Image__2021-01-29__12-26-08_2-12-B-Kopya-Kopya_png.rf.145e496b663f8ad96123e5f6b9a0299a.jpg  \n",
            " extracting: /content/valid/images/Image__2021-01-29__12-26-08_4-14_png.rf.4e89281bab2f379cf753353eeb204230.jpg  \n",
            " extracting: /content/valid/images/Image__2021-01-29__12-26-08_4-16_png.rf.dc51fff5fb0401467bcfaad3c9269480.jpg  \n",
            " extracting: /content/valid/images/Image__2021-01-29__12-26-17_2-5-Kopya-Kopya_png.rf.cb46df95cf9f705ceb7a90abbb0d93dd.jpg  \n",
            " extracting: /content/valid/images/Image__2021-01-29__12-26-17_2-7-B-Kopya-Kopya_png.rf.ae74f0ae42be48add4073dfb4cab8ab3.jpg  \n",
            " extracting: /content/valid/images/Image__2021-01-29__12-26-17_3-12-Kopya-Kopya_png.rf.f2bdddcc68aa0fe3b2b3e7faa7a5e533.jpg  \n",
            " extracting: /content/valid/images/Image__2021-01-29__12-26-17_3-14-Kopya-Kopya_png.rf.4499000e2e63a86a1234dd81aba4ac63.jpg  \n",
            " extracting: /content/valid/images/Image__2021-01-29__12-26-17_4-15-Kopya_png.rf.6afbafab2da43ab40b5b9ba1db090a38.jpg  \n",
            " extracting: /content/valid/images/Image__2021-01-29__12-26-17_4-6-Kopya-Kopya_png.rf.34201e61b21eb1a87ed818115d76c5a6.jpg  \n",
            " extracting: /content/valid/images/Image__2021-01-29__12-27-12_2-9-B-Kopya_png.rf.50558517ac5274ee198a201af1310568.jpg  \n",
            " extracting: /content/valid/images/Image__2021-01-29__12-29-15_2-6-A_png.rf.2dea5881ffcc7656f6fe13eb1c36e633.jpg  \n",
            " extracting: /content/valid/images/Image__2021-01-29__12-33-19_4-13_png.rf.3ff3d76c3d5369c70e62abf9ff90afb6.jpg  \n",
            " extracting: /content/valid/images/Image__2021-01-29__12-34-25_3-11_png.rf.533c14b94b73742a435514c1c31d7a09.jpg  \n",
            " extracting: /content/valid/images/Image__2021-01-29__12-34-25_3-16-B_png.rf.d37fd10617b611c05e9cb5fa6262bab9.jpg  \n",
            " extracting: /content/valid/images/Image__2021-01-29__12-36-37_1-16-Kopya_png.rf.81b9a28b2a61801eab815d30acfea5f6.jpg  \n",
            " extracting: /content/valid/images/Image__2021-01-29__12-36-44_2-4-A_png.rf.0769f71c055ca90ef4cd58136c293679.jpg  \n",
            " extracting: /content/valid/images/Image__2021-01-29__12-36-44_3-10_png.rf.6aa09986f324ed3f7781ac34f5ae7c27.jpg  \n",
            " extracting: /content/valid/images/Image__2021-01-29__12-36-50_4-6-Kopya_png.rf.6b1e4508660cbded422be7ae4d2961a1.jpg  \n",
            " extracting: /content/valid/images/Image__2021-01-29__12-38-25_4-12-B_png.rf.2f12b59cacc7cfbd34bccd0765530518.jpg  \n",
            " extracting: /content/valid/images/Image__2021-01-29__12-38-32_3-7-B_png.rf.4e7e63fdd029090065ac0ad7c17fbdd6.jpg  \n",
            " extracting: /content/valid/images/Image__2021-01-29__12-39-15_3-10_png.rf.39829114d7c4bccf5657b30dd530db0d.jpg  \n",
            " extracting: /content/valid/images/Image__2021-01-29__12-39-15_3-12-B_png.rf.3436d08565a5c8659f1c2b5fd6f30466.jpg  \n",
            " extracting: /content/valid/images/Image__2021-01-29__12-39-33_1-3-B_png.rf.21c652a9c6d11cc607619aeb77f88037.jpg  \n",
            " extracting: /content/valid/images/Image__2021-01-29__12-39-33_1-7-B_png.rf.76bc9bbe2fe60acd123a99fcd963f553.jpg  \n",
            " extracting: /content/valid/images/Image__2021-01-29__12-39-33_3-16-B_png.rf.855230170339908d118996b5443cdef7.jpg  \n",
            " extracting: /content/valid/images/Image__2021-01-29__12-40-14_1-7-A_png.rf.2cedf9953eaa2d705cdcbf2d2b361ab3.jpg  \n",
            " extracting: /content/valid/images/Image__2021-01-29__12-40-14_2-16-A_png.rf.5a95de131abdf4259bb26fea124bb2ce.jpg  \n",
            " extracting: /content/valid/images/Image__2021-01-29__12-41-24_2-6_png.rf.33c4129047f14134736036f7a4d58ea8.jpg  \n",
            " extracting: /content/valid/images/Image__2021-01-29__12-45-34_4-1-A_png.rf.d0633ce58e27d6ba04ea18932159ab28.jpg  \n",
            " extracting: /content/valid/images/Image__2021-01-29__12-48-40_3-1-B-Kopya_png.rf.ca5d0ac4856d609a81e43f80f61b447d.jpg  \n",
            " extracting: /content/valid/images/Image__2021-01-29__12-52-49_1-3-B-Kopya_png.rf.85f42ef9cd9b81f336a851e69305d6b2.jpg  \n",
            " extracting: /content/valid/images/Image__2021-01-29__12-52-59_4-7-Kopya_png.rf.e43094486c49e6aeda2457b0c5887d55.jpg  \n",
            " extracting: /content/valid/images/Image__2021-01-29__13-21-27_4-7-A_png.rf.818d3fa53ecf4ccf10ef21439fc36dd3.jpg  \n",
            " extracting: /content/valid/images/Image__2021-01-29__13-22-12_2-8-A_png.rf.a49eb969e0477ddeb9809121f513f3c6.jpg  \n",
            " extracting: /content/valid/images/Image__2021-01-29__13-22-59_4-4_png.rf.be3f3c3d382286e2b5e124abc6ddd9b5.jpg  \n",
            " extracting: /content/valid/images/Image__2021-01-29__13-23-23_3-12_png.rf.1fa4b1c6ef924f7b4578010882c549a6.jpg  \n",
            " extracting: /content/valid/images/Image__2021-01-29__13-23-23_4-1_png.rf.ff516482b40a09313b47170efa86c42e.jpg  \n",
            " extracting: /content/valid/images/Image__2021-01-29__13-23-28_1-8-A_png.rf.cdebe212886e4a8ebfe5991f25db014a.jpg  \n",
            " extracting: /content/valid/images/Image__2021-01-29__13-23-28_2-13-A_png.rf.19020a166b9011711bf522c947dc5b3c.jpg  \n",
            " extracting: /content/valid/images/Image__2021-01-29__13-23-28_3-16-B_png.rf.4ec4052add7a4af9cd8c756cb2b1b78b.jpg  \n",
            " extracting: /content/valid/images/Image__2021-01-29__13-23-28_4-12-B_png.rf.aefeedc052022383e9fc975f4ddc145c.jpg  \n",
            " extracting: /content/valid/images/Image__2021-01-29__13-25-13_3-6-B_png.rf.20df2d3690a5482acc4410857872d53d.jpg  \n",
            " extracting: /content/valid/images/Image__2021-01-29__13-25-13_4-14-A_png.rf.9deb6c848e48d6735c0ceb0594c2702f.jpg  \n",
            "   creating: /content/valid/labels/\n",
            "  inflating: /content/valid/labels/Image__2021-01-28__15-49-02_1-8_png.rf.0306a7d6564d937b03e58818b2d28bb9.txt  \n",
            "  inflating: /content/valid/labels/Image__2021-01-28__15-49-02_2-13-B_png.rf.562354c042e6d469d75bce21bf282959.txt  \n",
            "  inflating: /content/valid/labels/Image__2021-01-28__15-49-02_3-11_png.rf.f2bfca00a7c5e3ba275cd2547fa47d6c.txt  \n",
            "  inflating: /content/valid/labels/Image__2021-01-28__15-49-02_3-15_png.rf.4d4e7ca92399eae80e34f2b3fa1e3cfa.txt  \n",
            "  inflating: /content/valid/labels/Image__2021-01-28__15-49-02_3-3_png.rf.c2f68f2d3a6f55effd8e7ce0cc633bba.txt  \n",
            "  inflating: /content/valid/labels/Image__2021-01-28__15-49-02_3-6-A_png.rf.9362cc75e8105cb5b03caf7346644d6e.txt  \n",
            "  inflating: /content/valid/labels/Image__2021-01-28__15-49-02_3-9_png.rf.e98f132a369e707f9c9816316e2e6bc1.txt  \n",
            "  inflating: /content/valid/labels/Image__2021-01-28__16-04-31_1-11-A_png.rf.a64804f8a0ba28be03ba840f48986dba.txt  \n",
            "  inflating: /content/valid/labels/Image__2021-01-28__16-04-31_4-6-B_png.rf.11e5430a31a03bab7e52552740942697.txt  \n",
            "  inflating: /content/valid/labels/Image__2021-01-28__16-04-42_1-14-A_png.rf.89e0a0c36706b7b9c59b5e776e2f59c7.txt  \n",
            "  inflating: /content/valid/labels/Image__2021-01-28__16-04-42_1-15_png.rf.e0a37a447f29027920c517481bee46fe.txt  \n",
            "  inflating: /content/valid/labels/Image__2021-01-28__16-04-42_1-2-A_png.rf.1f723a3cc581d11d7fde4fc49b3cadea.txt  \n",
            "  inflating: /content/valid/labels/Image__2021-01-28__16-04-42_1-8-B_png.rf.584eb1e8ce69daa26cd405a0ffa8aeb2.txt  \n",
            "  inflating: /content/valid/labels/Image__2021-01-28__16-04-42_4-7-B-Kopya-Kopya_png.rf.fdc1ee44e967489e7859e8f646cb9545.txt  \n",
            "  inflating: /content/valid/labels/Image__2021-01-29__12-26-08_1-12-B-Kopya-Kopya_png.rf.589c9bf0d47a1362cdefbf4cf96a3ea9.txt  \n",
            "  inflating: /content/valid/labels/Image__2021-01-29__12-26-08_1-4-B-Kopya-Kopya_png.rf.e2e1fae85c47fed293100665f24231d8.txt  \n",
            "  inflating: /content/valid/labels/Image__2021-01-29__12-26-08_2-12-B-Kopya-Kopya_png.rf.145e496b663f8ad96123e5f6b9a0299a.txt  \n",
            "  inflating: /content/valid/labels/Image__2021-01-29__12-26-08_4-14_png.rf.4e89281bab2f379cf753353eeb204230.txt  \n",
            "  inflating: /content/valid/labels/Image__2021-01-29__12-26-08_4-16_png.rf.dc51fff5fb0401467bcfaad3c9269480.txt  \n",
            "  inflating: /content/valid/labels/Image__2021-01-29__12-26-17_2-5-Kopya-Kopya_png.rf.cb46df95cf9f705ceb7a90abbb0d93dd.txt  \n",
            "  inflating: /content/valid/labels/Image__2021-01-29__12-26-17_2-7-B-Kopya-Kopya_png.rf.ae74f0ae42be48add4073dfb4cab8ab3.txt  \n",
            "  inflating: /content/valid/labels/Image__2021-01-29__12-26-17_3-12-Kopya-Kopya_png.rf.f2bdddcc68aa0fe3b2b3e7faa7a5e533.txt  \n",
            "  inflating: /content/valid/labels/Image__2021-01-29__12-26-17_3-14-Kopya-Kopya_png.rf.4499000e2e63a86a1234dd81aba4ac63.txt  \n",
            "  inflating: /content/valid/labels/Image__2021-01-29__12-26-17_4-15-Kopya_png.rf.6afbafab2da43ab40b5b9ba1db090a38.txt  \n",
            "  inflating: /content/valid/labels/Image__2021-01-29__12-26-17_4-6-Kopya-Kopya_png.rf.34201e61b21eb1a87ed818115d76c5a6.txt  \n",
            "  inflating: /content/valid/labels/Image__2021-01-29__12-27-12_2-9-B-Kopya_png.rf.50558517ac5274ee198a201af1310568.txt  \n",
            "  inflating: /content/valid/labels/Image__2021-01-29__12-29-15_2-6-A_png.rf.2dea5881ffcc7656f6fe13eb1c36e633.txt  \n",
            "  inflating: /content/valid/labels/Image__2021-01-29__12-33-19_4-13_png.rf.3ff3d76c3d5369c70e62abf9ff90afb6.txt  \n",
            "  inflating: /content/valid/labels/Image__2021-01-29__12-34-25_3-11_png.rf.533c14b94b73742a435514c1c31d7a09.txt  \n",
            "  inflating: /content/valid/labels/Image__2021-01-29__12-34-25_3-16-B_png.rf.d37fd10617b611c05e9cb5fa6262bab9.txt  \n",
            "  inflating: /content/valid/labels/Image__2021-01-29__12-36-37_1-16-Kopya_png.rf.81b9a28b2a61801eab815d30acfea5f6.txt  \n",
            "  inflating: /content/valid/labels/Image__2021-01-29__12-36-44_2-4-A_png.rf.0769f71c055ca90ef4cd58136c293679.txt  \n",
            "  inflating: /content/valid/labels/Image__2021-01-29__12-36-44_3-10_png.rf.6aa09986f324ed3f7781ac34f5ae7c27.txt  \n",
            "  inflating: /content/valid/labels/Image__2021-01-29__12-36-50_4-6-Kopya_png.rf.6b1e4508660cbded422be7ae4d2961a1.txt  \n",
            "  inflating: /content/valid/labels/Image__2021-01-29__12-38-25_4-12-B_png.rf.2f12b59cacc7cfbd34bccd0765530518.txt  \n",
            "  inflating: /content/valid/labels/Image__2021-01-29__12-38-32_3-7-B_png.rf.4e7e63fdd029090065ac0ad7c17fbdd6.txt  \n",
            "  inflating: /content/valid/labels/Image__2021-01-29__12-39-15_3-10_png.rf.39829114d7c4bccf5657b30dd530db0d.txt  \n",
            "  inflating: /content/valid/labels/Image__2021-01-29__12-39-15_3-12-B_png.rf.3436d08565a5c8659f1c2b5fd6f30466.txt  \n",
            "  inflating: /content/valid/labels/Image__2021-01-29__12-39-33_1-3-B_png.rf.21c652a9c6d11cc607619aeb77f88037.txt  \n",
            "  inflating: /content/valid/labels/Image__2021-01-29__12-39-33_1-7-B_png.rf.76bc9bbe2fe60acd123a99fcd963f553.txt  \n",
            "  inflating: /content/valid/labels/Image__2021-01-29__12-39-33_3-16-B_png.rf.855230170339908d118996b5443cdef7.txt  \n",
            "  inflating: /content/valid/labels/Image__2021-01-29__12-40-14_1-7-A_png.rf.2cedf9953eaa2d705cdcbf2d2b361ab3.txt  \n",
            "  inflating: /content/valid/labels/Image__2021-01-29__12-40-14_2-16-A_png.rf.5a95de131abdf4259bb26fea124bb2ce.txt  \n",
            "  inflating: /content/valid/labels/Image__2021-01-29__12-41-24_2-6_png.rf.33c4129047f14134736036f7a4d58ea8.txt  \n",
            "  inflating: /content/valid/labels/Image__2021-01-29__12-45-34_4-1-A_png.rf.d0633ce58e27d6ba04ea18932159ab28.txt  \n",
            "  inflating: /content/valid/labels/Image__2021-01-29__12-48-40_3-1-B-Kopya_png.rf.ca5d0ac4856d609a81e43f80f61b447d.txt  \n",
            "  inflating: /content/valid/labels/Image__2021-01-29__12-52-49_1-3-B-Kopya_png.rf.85f42ef9cd9b81f336a851e69305d6b2.txt  \n",
            "  inflating: /content/valid/labels/Image__2021-01-29__12-52-59_4-7-Kopya_png.rf.e43094486c49e6aeda2457b0c5887d55.txt  \n",
            "  inflating: /content/valid/labels/Image__2021-01-29__13-21-27_4-7-A_png.rf.818d3fa53ecf4ccf10ef21439fc36dd3.txt  \n",
            "  inflating: /content/valid/labels/Image__2021-01-29__13-22-12_2-8-A_png.rf.a49eb969e0477ddeb9809121f513f3c6.txt  \n",
            "  inflating: /content/valid/labels/Image__2021-01-29__13-22-59_4-4_png.rf.be3f3c3d382286e2b5e124abc6ddd9b5.txt  \n",
            "  inflating: /content/valid/labels/Image__2021-01-29__13-23-23_3-12_png.rf.1fa4b1c6ef924f7b4578010882c549a6.txt  \n",
            "  inflating: /content/valid/labels/Image__2021-01-29__13-23-23_4-1_png.rf.ff516482b40a09313b47170efa86c42e.txt  \n",
            "  inflating: /content/valid/labels/Image__2021-01-29__13-23-28_1-8-A_png.rf.cdebe212886e4a8ebfe5991f25db014a.txt  \n",
            "  inflating: /content/valid/labels/Image__2021-01-29__13-23-28_2-13-A_png.rf.19020a166b9011711bf522c947dc5b3c.txt  \n",
            "  inflating: /content/valid/labels/Image__2021-01-29__13-23-28_3-16-B_png.rf.4ec4052add7a4af9cd8c756cb2b1b78b.txt  \n",
            "  inflating: /content/valid/labels/Image__2021-01-29__13-23-28_4-12-B_png.rf.aefeedc052022383e9fc975f4ddc145c.txt  \n",
            "  inflating: /content/valid/labels/Image__2021-01-29__13-25-13_3-6-B_png.rf.20df2d3690a5482acc4410857872d53d.txt  \n",
            "  inflating: /content/valid/labels/Image__2021-01-29__13-25-13_4-14-A_png.rf.9deb6c848e48d6735c0ceb0594c2702f.txt  \n",
            " extracting: /content/beadYOLOv7Dataset.zip  \n"
          ]
        }
      ]
    },
    {
      "cell_type": "code",
      "source": [
        "from ultralytics import YOLO\n",
        "\n",
        "model = YOLO('yolov8n.pt')\n",
        "\n",
        "model.train(\n",
        "    data='/content/data.yaml',\n",
        "    epochs=100,\n",
        "    imgsz=640,\n",
        "    batch=16,\n",
        "    device=0\n",
        ")\n"
      ],
      "metadata": {
        "colab": {
          "base_uri": "https://localhost:8080/"
        },
        "collapsed": true,
        "id": "lKkvdMw5NOnr",
        "outputId": "7b6b108a-79ae-4f2d-8784-424448040b07"
      },
      "execution_count": null,
      "outputs": [
        {
          "metadata": {
            "tags": null
          },
          "name": "stdout",
          "output_type": "stream",
          "text": [
            "Ultralytics 8.3.80 🚀 Python-3.11.11 torch-2.5.1+cu124 CUDA:0 (Tesla T4, 15095MiB)\n",
            "\u001b[34m\u001b[1mengine/trainer: \u001b[0mtask=detect, mode=train, model=yolov8n.pt, data=/content/data.yaml, epochs=100, time=None, patience=100, batch=16, imgsz=640, save=True, save_period=-1, cache=False, device=0, workers=8, project=None, name=train4, exist_ok=False, pretrained=True, optimizer=auto, verbose=True, seed=0, deterministic=True, single_cls=False, rect=False, cos_lr=False, close_mosaic=10, resume=False, amp=True, fraction=1.0, profile=False, freeze=None, multi_scale=False, overlap_mask=True, mask_ratio=4, dropout=0.0, val=True, split=val, save_json=False, save_hybrid=False, conf=None, iou=0.7, max_det=300, half=False, dnn=False, plots=True, source=None, vid_stride=1, stream_buffer=False, visualize=False, augment=False, agnostic_nms=False, classes=None, retina_masks=False, embed=None, show=False, save_frames=False, save_txt=False, save_conf=False, save_crop=False, show_labels=True, show_conf=True, show_boxes=True, line_width=None, format=torchscript, keras=False, optimize=False, int8=False, dynamic=False, simplify=True, opset=None, workspace=None, nms=False, lr0=0.01, lrf=0.01, momentum=0.937, weight_decay=0.0005, warmup_epochs=3.0, warmup_momentum=0.8, warmup_bias_lr=0.1, box=7.5, cls=0.5, dfl=1.5, pose=12.0, kobj=1.0, nbs=64, hsv_h=0.015, hsv_s=0.7, hsv_v=0.4, degrees=0.0, translate=0.1, scale=0.5, shear=0.0, perspective=0.0, flipud=0.0, fliplr=0.5, bgr=0.0, mosaic=1.0, mixup=0.0, copy_paste=0.0, copy_paste_mode=flip, auto_augment=randaugment, erasing=0.4, crop_fraction=1.0, cfg=None, tracker=botsort.yaml, save_dir=runs/detect/train4\n",
            "Downloading https://ultralytics.com/assets/Arial.ttf to '/root/.config/Ultralytics/Arial.ttf'...\n"
          ]
        },
        {
          "metadata": {
            "tags": null
          },
          "name": "stderr",
          "output_type": "stream",
          "text": [
            "100%|██████████| 755k/755k [00:00<00:00, 11.5MB/s]\n"
          ]
        },
        {
          "metadata": {
            "tags": null
          },
          "name": "stdout",
          "output_type": "stream",
          "text": [
            "Overriding model.yaml nc=80 with nc=1\n",
            "\n",
            "                   from  n    params  module                                       arguments                     \n",
            "  0                  -1  1       464  ultralytics.nn.modules.conv.Conv             [3, 16, 3, 2]                 \n",
            "  1                  -1  1      4672  ultralytics.nn.modules.conv.Conv             [16, 32, 3, 2]                \n",
            "  2                  -1  1      7360  ultralytics.nn.modules.block.C2f             [32, 32, 1, True]             \n",
            "  3                  -1  1     18560  ultralytics.nn.modules.conv.Conv             [32, 64, 3, 2]                \n",
            "  4                  -1  2     49664  ultralytics.nn.modules.block.C2f             [64, 64, 2, True]             \n",
            "  5                  -1  1     73984  ultralytics.nn.modules.conv.Conv             [64, 128, 3, 2]               \n",
            "  6                  -1  2    197632  ultralytics.nn.modules.block.C2f             [128, 128, 2, True]           \n",
            "  7                  -1  1    295424  ultralytics.nn.modules.conv.Conv             [128, 256, 3, 2]              \n",
            "  8                  -1  1    460288  ultralytics.nn.modules.block.C2f             [256, 256, 1, True]           \n",
            "  9                  -1  1    164608  ultralytics.nn.modules.block.SPPF            [256, 256, 5]                 \n",
            " 10                  -1  1         0  torch.nn.modules.upsampling.Upsample         [None, 2, 'nearest']          \n",
            " 11             [-1, 6]  1         0  ultralytics.nn.modules.conv.Concat           [1]                           \n",
            " 12                  -1  1    148224  ultralytics.nn.modules.block.C2f             [384, 128, 1]                 \n",
            " 13                  -1  1         0  torch.nn.modules.upsampling.Upsample         [None, 2, 'nearest']          \n",
            " 14             [-1, 4]  1         0  ultralytics.nn.modules.conv.Concat           [1]                           \n",
            " 15                  -1  1     37248  ultralytics.nn.modules.block.C2f             [192, 64, 1]                  \n",
            " 16                  -1  1     36992  ultralytics.nn.modules.conv.Conv             [64, 64, 3, 2]                \n",
            " 17            [-1, 12]  1         0  ultralytics.nn.modules.conv.Concat           [1]                           \n",
            " 18                  -1  1    123648  ultralytics.nn.modules.block.C2f             [192, 128, 1]                 \n",
            " 19                  -1  1    147712  ultralytics.nn.modules.conv.Conv             [128, 128, 3, 2]              \n",
            " 20             [-1, 9]  1         0  ultralytics.nn.modules.conv.Concat           [1]                           \n",
            " 21                  -1  1    493056  ultralytics.nn.modules.block.C2f             [384, 256, 1]                 \n",
            " 22        [15, 18, 21]  1    751507  ultralytics.nn.modules.head.Detect           [1, [64, 128, 256]]           \n",
            "Model summary: 129 layers, 3,011,043 parameters, 3,011,027 gradients, 8.2 GFLOPs\n",
            "\n",
            "Transferred 319/355 items from pretrained weights\n",
            "\u001b[34m\u001b[1mTensorBoard: \u001b[0mStart with 'tensorboard --logdir runs/detect/train4', view at http://localhost:6006/\n",
            "Freezing layer 'model.22.dfl.conv.weight'\n",
            "\u001b[34m\u001b[1mAMP: \u001b[0mrunning Automatic Mixed Precision (AMP) checks...\n",
            "Downloading https://github.com/ultralytics/assets/releases/download/v8.3.0/yolo11n.pt to 'yolo11n.pt'...\n"
          ]
        },
        {
          "metadata": {
            "tags": null
          },
          "name": "stderr",
          "output_type": "stream",
          "text": [
            "100%|██████████| 5.35M/5.35M [00:00<00:00, 96.8MB/s]\n"
          ]
        },
        {
          "metadata": {
            "tags": null
          },
          "name": "stdout",
          "output_type": "stream",
          "text": [
            "\u001b[34m\u001b[1mAMP: \u001b[0mchecks passed ✅\n"
          ]
        },
        {
          "metadata": {
            "tags": null
          },
          "name": "stderr",
          "output_type": "stream",
          "text": [
            "\u001b[34m\u001b[1mtrain: \u001b[0mScanning /content/train/labels... 234 images, 0 backgrounds, 0 corrupt: 100%|██████████| 234/234 [00:00<00:00, 2173.96it/s]"
          ]
        },
        {
          "metadata": {
            "tags": null
          },
          "name": "stdout",
          "output_type": "stream",
          "text": [
            "\u001b[34m\u001b[1mtrain: \u001b[0mNew cache created: /content/train/labels.cache\n"
          ]
        },
        {
          "metadata": {
            "tags": null
          },
          "name": "stderr",
          "output_type": "stream",
          "text": [
            "\n"
          ]
        },
        {
          "metadata": {
            "tags": null
          },
          "name": "stdout",
          "output_type": "stream",
          "text": [
            "\u001b[34m\u001b[1malbumentations: \u001b[0mBlur(p=0.01, blur_limit=(3, 7)), MedianBlur(p=0.01, blur_limit=(3, 7)), ToGray(p=0.01, num_output_channels=3, method='weighted_average'), CLAHE(p=0.01, clip_limit=(1.0, 4.0), tile_grid_size=(8, 8))\n"
          ]
        },
        {
          "metadata": {
            "tags": null
          },
          "name": "stderr",
          "output_type": "stream",
          "text": [
            "\u001b[34m\u001b[1mval: \u001b[0mScanning /content/valid/labels... 59 images, 0 backgrounds, 0 corrupt: 100%|██████████| 59/59 [00:00<00:00, 1800.08it/s]"
          ]
        },
        {
          "metadata": {
            "tags": null
          },
          "name": "stdout",
          "output_type": "stream",
          "text": [
            "\u001b[34m\u001b[1mval: \u001b[0mNew cache created: /content/valid/labels.cache\n"
          ]
        },
        {
          "metadata": {
            "tags": null
          },
          "name": "stderr",
          "output_type": "stream",
          "text": [
            "\n"
          ]
        },
        {
          "metadata": {
            "tags": null
          },
          "name": "stdout",
          "output_type": "stream",
          "text": [
            "Plotting labels to runs/detect/train4/labels.jpg... \n",
            "\u001b[34m\u001b[1moptimizer:\u001b[0m 'optimizer=auto' found, ignoring 'lr0=0.01' and 'momentum=0.937' and determining best 'optimizer', 'lr0' and 'momentum' automatically... \n",
            "\u001b[34m\u001b[1moptimizer:\u001b[0m AdamW(lr=0.002, momentum=0.9) with parameter groups 57 weight(decay=0.0), 64 weight(decay=0.0005), 63 bias(decay=0.0)\n",
            "\u001b[34m\u001b[1mTensorBoard: \u001b[0mmodel graph visualization added ✅\n",
            "Image sizes 640 train, 640 val\n",
            "Using 2 dataloader workers\n",
            "Logging results to \u001b[1mruns/detect/train4\u001b[0m\n",
            "Starting training for 100 epochs...\n",
            "\n",
            "      Epoch    GPU_mem   box_loss   cls_loss   dfl_loss  Instances       Size\n"
          ]
        },
        {
          "metadata": {
            "tags": null
          },
          "name": "stderr",
          "output_type": "stream",
          "text": [
            "      1/100      2.17G      1.696      2.605      1.575         71        640: 100%|██████████| 15/15 [00:05<00:00,  2.71it/s]\n",
            "                 Class     Images  Instances      Box(P          R      mAP50  mAP50-95): 100%|██████████| 2/2 [00:02<00:00,  1.16s/it]"
          ]
        },
        {
          "metadata": {
            "tags": null
          },
          "name": "stdout",
          "output_type": "stream",
          "text": [
            "                   all         59        322      0.967      0.541      0.819      0.495\n"
          ]
        },
        {
          "metadata": {
            "tags": null
          },
          "name": "stderr",
          "output_type": "stream",
          "text": [
            "\n"
          ]
        },
        {
          "metadata": {
            "tags": null
          },
          "name": "stdout",
          "output_type": "stream",
          "text": [
            "\n",
            "      Epoch    GPU_mem   box_loss   cls_loss   dfl_loss  Instances       Size\n"
          ]
        },
        {
          "metadata": {
            "tags": null
          },
          "name": "stderr",
          "output_type": "stream",
          "text": [
            "      2/100      2.04G      1.395      1.187      1.279         72        640: 100%|██████████| 15/15 [00:03<00:00,  4.32it/s]\n",
            "                 Class     Images  Instances      Box(P          R      mAP50  mAP50-95): 100%|██████████| 2/2 [00:00<00:00,  3.16it/s]"
          ]
        },
        {
          "metadata": {
            "tags": null
          },
          "name": "stdout",
          "output_type": "stream",
          "text": [
            "                   all         59        322      0.852      0.897      0.902      0.488\n"
          ]
        },
        {
          "metadata": {
            "tags": null
          },
          "name": "stderr",
          "output_type": "stream",
          "text": [
            "\n"
          ]
        },
        {
          "metadata": {
            "tags": null
          },
          "name": "stdout",
          "output_type": "stream",
          "text": [
            "\n",
            "      Epoch    GPU_mem   box_loss   cls_loss   dfl_loss  Instances       Size\n"
          ]
        },
        {
          "metadata": {
            "tags": null
          },
          "name": "stderr",
          "output_type": "stream",
          "text": [
            "      3/100      2.07G      1.278     0.9539      1.219         79        640: 100%|██████████| 15/15 [00:03<00:00,  4.29it/s]\n",
            "                 Class     Images  Instances      Box(P          R      mAP50  mAP50-95): 100%|██████████| 2/2 [00:00<00:00,  3.48it/s]"
          ]
        },
        {
          "metadata": {
            "tags": null
          },
          "name": "stdout",
          "output_type": "stream",
          "text": [
            "                   all         59        322      0.898      0.938      0.957      0.582\n"
          ]
        },
        {
          "metadata": {
            "tags": null
          },
          "name": "stderr",
          "output_type": "stream",
          "text": [
            "\n"
          ]
        },
        {
          "metadata": {
            "tags": null
          },
          "name": "stdout",
          "output_type": "stream",
          "text": [
            "\n",
            "      Epoch    GPU_mem   box_loss   cls_loss   dfl_loss  Instances       Size\n"
          ]
        },
        {
          "metadata": {
            "tags": null
          },
          "name": "stderr",
          "output_type": "stream",
          "text": [
            "      4/100      2.08G      1.289     0.8872      1.221        109        640: 100%|██████████| 15/15 [00:04<00:00,  3.47it/s]\n",
            "                 Class     Images  Instances      Box(P          R      mAP50  mAP50-95): 100%|██████████| 2/2 [00:00<00:00,  2.56it/s]"
          ]
        },
        {
          "metadata": {
            "tags": null
          },
          "name": "stdout",
          "output_type": "stream",
          "text": [
            "                   all         59        322      0.919      0.953      0.964      0.629\n"
          ]
        },
        {
          "metadata": {
            "tags": null
          },
          "name": "stderr",
          "output_type": "stream",
          "text": [
            "\n"
          ]
        },
        {
          "metadata": {
            "tags": null
          },
          "name": "stdout",
          "output_type": "stream",
          "text": [
            "\n",
            "      Epoch    GPU_mem   box_loss   cls_loss   dfl_loss  Instances       Size\n"
          ]
        },
        {
          "metadata": {
            "tags": null
          },
          "name": "stderr",
          "output_type": "stream",
          "text": [
            "      5/100      2.05G      1.321     0.9044       1.24         93        640: 100%|██████████| 15/15 [00:03<00:00,  4.35it/s]\n",
            "                 Class     Images  Instances      Box(P          R      mAP50  mAP50-95): 100%|██████████| 2/2 [00:00<00:00,  3.07it/s]"
          ]
        },
        {
          "metadata": {
            "tags": null
          },
          "name": "stdout",
          "output_type": "stream",
          "text": [
            "                   all         59        322      0.892      0.963      0.951      0.621\n"
          ]
        },
        {
          "metadata": {
            "tags": null
          },
          "name": "stderr",
          "output_type": "stream",
          "text": [
            "\n"
          ]
        },
        {
          "metadata": {
            "tags": null
          },
          "name": "stdout",
          "output_type": "stream",
          "text": [
            "\n",
            "      Epoch    GPU_mem   box_loss   cls_loss   dfl_loss  Instances       Size\n"
          ]
        },
        {
          "metadata": {
            "tags": null
          },
          "name": "stderr",
          "output_type": "stream",
          "text": [
            "      6/100      2.04G      1.286     0.8711      1.229         69        640: 100%|██████████| 15/15 [00:03<00:00,  4.45it/s]\n",
            "                 Class     Images  Instances      Box(P          R      mAP50  mAP50-95): 100%|██████████| 2/2 [00:01<00:00,  1.44it/s]"
          ]
        },
        {
          "metadata": {
            "tags": null
          },
          "name": "stdout",
          "output_type": "stream",
          "text": [
            "                   all         59        322      0.915      0.938      0.944      0.588\n"
          ]
        },
        {
          "metadata": {
            "tags": null
          },
          "name": "stderr",
          "output_type": "stream",
          "text": [
            "\n"
          ]
        },
        {
          "metadata": {
            "tags": null
          },
          "name": "stdout",
          "output_type": "stream",
          "text": [
            "\n",
            "      Epoch    GPU_mem   box_loss   cls_loss   dfl_loss  Instances       Size\n"
          ]
        },
        {
          "metadata": {
            "tags": null
          },
          "name": "stderr",
          "output_type": "stream",
          "text": [
            "      7/100      2.03G      1.264     0.8241      1.201        120        640: 100%|██████████| 15/15 [00:03<00:00,  4.62it/s]\n",
            "                 Class     Images  Instances      Box(P          R      mAP50  mAP50-95): 100%|██████████| 2/2 [00:00<00:00,  2.81it/s]"
          ]
        },
        {
          "metadata": {
            "tags": null
          },
          "name": "stdout",
          "output_type": "stream",
          "text": [
            "                   all         59        322      0.834      0.918       0.89      0.556\n"
          ]
        },
        {
          "metadata": {
            "tags": null
          },
          "name": "stderr",
          "output_type": "stream",
          "text": [
            "\n"
          ]
        },
        {
          "metadata": {
            "tags": null
          },
          "name": "stdout",
          "output_type": "stream",
          "text": [
            "\n",
            "      Epoch    GPU_mem   box_loss   cls_loss   dfl_loss  Instances       Size\n"
          ]
        },
        {
          "metadata": {
            "tags": null
          },
          "name": "stderr",
          "output_type": "stream",
          "text": [
            "      8/100      2.09G      1.235     0.7795       1.18        106        640: 100%|██████████| 15/15 [00:03<00:00,  4.03it/s]\n",
            "                 Class     Images  Instances      Box(P          R      mAP50  mAP50-95): 100%|██████████| 2/2 [00:00<00:00,  3.04it/s]"
          ]
        },
        {
          "metadata": {
            "tags": null
          },
          "name": "stdout",
          "output_type": "stream",
          "text": [
            "                   all         59        322      0.912      0.944      0.969      0.642\n"
          ]
        },
        {
          "metadata": {
            "tags": null
          },
          "name": "stderr",
          "output_type": "stream",
          "text": [
            "\n"
          ]
        },
        {
          "metadata": {
            "tags": null
          },
          "name": "stdout",
          "output_type": "stream",
          "text": [
            "\n",
            "      Epoch    GPU_mem   box_loss   cls_loss   dfl_loss  Instances       Size\n"
          ]
        },
        {
          "metadata": {
            "tags": null
          },
          "name": "stderr",
          "output_type": "stream",
          "text": [
            "      9/100      2.06G      1.271     0.7878      1.195         79        640: 100%|██████████| 15/15 [00:04<00:00,  3.54it/s]\n",
            "                 Class     Images  Instances      Box(P          R      mAP50  mAP50-95): 100%|██████████| 2/2 [00:00<00:00,  2.72it/s]"
          ]
        },
        {
          "metadata": {
            "tags": null
          },
          "name": "stdout",
          "output_type": "stream",
          "text": [
            "                   all         59        322      0.893      0.958      0.965      0.634\n"
          ]
        },
        {
          "metadata": {
            "tags": null
          },
          "name": "stderr",
          "output_type": "stream",
          "text": [
            "\n"
          ]
        },
        {
          "metadata": {
            "tags": null
          },
          "name": "stdout",
          "output_type": "stream",
          "text": [
            "\n",
            "      Epoch    GPU_mem   box_loss   cls_loss   dfl_loss  Instances       Size\n"
          ]
        },
        {
          "metadata": {
            "tags": null
          },
          "name": "stderr",
          "output_type": "stream",
          "text": [
            "     10/100      2.05G      1.297     0.7859      1.221         87        640: 100%|██████████| 15/15 [00:03<00:00,  4.64it/s]\n",
            "                 Class     Images  Instances      Box(P          R      mAP50  mAP50-95): 100%|██████████| 2/2 [00:00<00:00,  2.77it/s]"
          ]
        },
        {
          "metadata": {
            "tags": null
          },
          "name": "stdout",
          "output_type": "stream",
          "text": [
            "                   all         59        322      0.913      0.953       0.95      0.608\n"
          ]
        },
        {
          "metadata": {
            "tags": null
          },
          "name": "stderr",
          "output_type": "stream",
          "text": [
            "\n"
          ]
        },
        {
          "metadata": {
            "tags": null
          },
          "name": "stdout",
          "output_type": "stream",
          "text": [
            "\n",
            "      Epoch    GPU_mem   box_loss   cls_loss   dfl_loss  Instances       Size\n"
          ]
        },
        {
          "metadata": {
            "tags": null
          },
          "name": "stderr",
          "output_type": "stream",
          "text": [
            "     11/100      2.01G      1.247     0.7701      1.205         95        640: 100%|██████████| 15/15 [00:03<00:00,  4.01it/s]\n",
            "                 Class     Images  Instances      Box(P          R      mAP50  mAP50-95): 100%|██████████| 2/2 [00:01<00:00,  1.85it/s]"
          ]
        },
        {
          "metadata": {
            "tags": null
          },
          "name": "stdout",
          "output_type": "stream",
          "text": [
            "                   all         59        322      0.914      0.944      0.967      0.631\n"
          ]
        },
        {
          "metadata": {
            "tags": null
          },
          "name": "stderr",
          "output_type": "stream",
          "text": [
            "\n"
          ]
        },
        {
          "metadata": {
            "tags": null
          },
          "name": "stdout",
          "output_type": "stream",
          "text": [
            "\n",
            "      Epoch    GPU_mem   box_loss   cls_loss   dfl_loss  Instances       Size\n"
          ]
        },
        {
          "metadata": {
            "tags": null
          },
          "name": "stderr",
          "output_type": "stream",
          "text": [
            "     12/100      2.04G      1.239     0.7493      1.198         81        640: 100%|██████████| 15/15 [00:03<00:00,  4.50it/s]\n",
            "                 Class     Images  Instances      Box(P          R      mAP50  mAP50-95): 100%|██████████| 2/2 [00:00<00:00,  2.93it/s]"
          ]
        },
        {
          "metadata": {
            "tags": null
          },
          "name": "stdout",
          "output_type": "stream",
          "text": [
            "                   all         59        322      0.919      0.944      0.959      0.636\n"
          ]
        },
        {
          "metadata": {
            "tags": null
          },
          "name": "stderr",
          "output_type": "stream",
          "text": [
            "\n"
          ]
        },
        {
          "metadata": {
            "tags": null
          },
          "name": "stdout",
          "output_type": "stream",
          "text": [
            "\n",
            "      Epoch    GPU_mem   box_loss   cls_loss   dfl_loss  Instances       Size\n"
          ]
        },
        {
          "metadata": {
            "tags": null
          },
          "name": "stderr",
          "output_type": "stream",
          "text": [
            "     13/100      2.05G      1.246      0.707      1.182        112        640: 100%|██████████| 15/15 [00:03<00:00,  4.45it/s]\n",
            "                 Class     Images  Instances      Box(P          R      mAP50  mAP50-95): 100%|██████████| 2/2 [00:00<00:00,  3.10it/s]"
          ]
        },
        {
          "metadata": {
            "tags": null
          },
          "name": "stdout",
          "output_type": "stream",
          "text": [
            "                   all         59        322      0.903      0.957      0.952      0.622\n"
          ]
        },
        {
          "metadata": {
            "tags": null
          },
          "name": "stderr",
          "output_type": "stream",
          "text": [
            "\n"
          ]
        },
        {
          "metadata": {
            "tags": null
          },
          "name": "stdout",
          "output_type": "stream",
          "text": [
            "\n",
            "      Epoch    GPU_mem   box_loss   cls_loss   dfl_loss  Instances       Size\n"
          ]
        },
        {
          "metadata": {
            "tags": null
          },
          "name": "stderr",
          "output_type": "stream",
          "text": [
            "     14/100      2.07G      1.213     0.6918      1.166        131        640: 100%|██████████| 15/15 [00:04<00:00,  3.48it/s]\n",
            "                 Class     Images  Instances      Box(P          R      mAP50  mAP50-95): 100%|██████████| 2/2 [00:00<00:00,  2.81it/s]"
          ]
        },
        {
          "metadata": {
            "tags": null
          },
          "name": "stdout",
          "output_type": "stream",
          "text": [
            "                   all         59        322      0.911      0.958      0.961      0.625\n"
          ]
        },
        {
          "metadata": {
            "tags": null
          },
          "name": "stderr",
          "output_type": "stream",
          "text": [
            "\n"
          ]
        },
        {
          "metadata": {
            "tags": null
          },
          "name": "stdout",
          "output_type": "stream",
          "text": [
            "\n",
            "      Epoch    GPU_mem   box_loss   cls_loss   dfl_loss  Instances       Size\n"
          ]
        },
        {
          "metadata": {
            "tags": null
          },
          "name": "stderr",
          "output_type": "stream",
          "text": [
            "     15/100      2.04G      1.199     0.6878      1.169        121        640: 100%|██████████| 15/15 [00:03<00:00,  4.39it/s]\n",
            "                 Class     Images  Instances      Box(P          R      mAP50  mAP50-95): 100%|██████████| 2/2 [00:00<00:00,  3.91it/s]"
          ]
        },
        {
          "metadata": {
            "tags": null
          },
          "name": "stdout",
          "output_type": "stream",
          "text": [
            "                   all         59        322      0.928      0.965      0.967      0.654\n"
          ]
        },
        {
          "metadata": {
            "tags": null
          },
          "name": "stderr",
          "output_type": "stream",
          "text": [
            "\n"
          ]
        },
        {
          "metadata": {
            "tags": null
          },
          "name": "stdout",
          "output_type": "stream",
          "text": [
            "\n",
            "      Epoch    GPU_mem   box_loss   cls_loss   dfl_loss  Instances       Size\n"
          ]
        },
        {
          "metadata": {
            "tags": null
          },
          "name": "stderr",
          "output_type": "stream",
          "text": [
            "     16/100      2.09G      1.216     0.6761       1.18         76        640: 100%|██████████| 15/15 [00:03<00:00,  4.09it/s]\n",
            "                 Class     Images  Instances      Box(P          R      mAP50  mAP50-95): 100%|██████████| 2/2 [00:01<00:00,  1.68it/s]"
          ]
        },
        {
          "metadata": {
            "tags": null
          },
          "name": "stdout",
          "output_type": "stream",
          "text": [
            "                   all         59        322      0.916      0.953      0.955      0.632\n"
          ]
        },
        {
          "metadata": {
            "tags": null
          },
          "name": "stderr",
          "output_type": "stream",
          "text": [
            "\n"
          ]
        },
        {
          "metadata": {
            "tags": null
          },
          "name": "stdout",
          "output_type": "stream",
          "text": [
            "\n",
            "      Epoch    GPU_mem   box_loss   cls_loss   dfl_loss  Instances       Size\n"
          ]
        },
        {
          "metadata": {
            "tags": null
          },
          "name": "stderr",
          "output_type": "stream",
          "text": [
            "     17/100      2.08G      1.212     0.6728      1.187        106        640: 100%|██████████| 15/15 [00:03<00:00,  4.79it/s]\n",
            "                 Class     Images  Instances      Box(P          R      mAP50  mAP50-95): 100%|██████████| 2/2 [00:00<00:00,  2.40it/s]"
          ]
        },
        {
          "metadata": {
            "tags": null
          },
          "name": "stdout",
          "output_type": "stream",
          "text": [
            "                   all         59        322      0.927      0.952      0.964      0.644\n"
          ]
        },
        {
          "metadata": {
            "tags": null
          },
          "name": "stderr",
          "output_type": "stream",
          "text": [
            "\n"
          ]
        },
        {
          "metadata": {
            "tags": null
          },
          "name": "stdout",
          "output_type": "stream",
          "text": [
            "\n",
            "      Epoch    GPU_mem   box_loss   cls_loss   dfl_loss  Instances       Size\n"
          ]
        },
        {
          "metadata": {
            "tags": null
          },
          "name": "stderr",
          "output_type": "stream",
          "text": [
            "     18/100      2.04G      1.198     0.6731      1.169         91        640: 100%|██████████| 15/15 [00:03<00:00,  4.54it/s]\n",
            "                 Class     Images  Instances      Box(P          R      mAP50  mAP50-95): 100%|██████████| 2/2 [00:00<00:00,  2.94it/s]"
          ]
        },
        {
          "metadata": {
            "tags": null
          },
          "name": "stdout",
          "output_type": "stream",
          "text": [
            "                   all         59        322      0.876      0.966      0.959      0.634\n"
          ]
        },
        {
          "metadata": {
            "tags": null
          },
          "name": "stderr",
          "output_type": "stream",
          "text": [
            "\n"
          ]
        },
        {
          "metadata": {
            "tags": null
          },
          "name": "stdout",
          "output_type": "stream",
          "text": [
            "\n",
            "      Epoch    GPU_mem   box_loss   cls_loss   dfl_loss  Instances       Size\n"
          ]
        },
        {
          "metadata": {
            "tags": null
          },
          "name": "stderr",
          "output_type": "stream",
          "text": [
            "     19/100      2.04G      1.206     0.6619      1.176        106        640: 100%|██████████| 15/15 [00:04<00:00,  3.40it/s]\n",
            "                 Class     Images  Instances      Box(P          R      mAP50  mAP50-95): 100%|██████████| 2/2 [00:00<00:00,  2.81it/s]"
          ]
        },
        {
          "metadata": {
            "tags": null
          },
          "name": "stdout",
          "output_type": "stream",
          "text": [
            "                   all         59        322      0.936      0.957      0.967      0.648\n"
          ]
        },
        {
          "metadata": {
            "tags": null
          },
          "name": "stderr",
          "output_type": "stream",
          "text": [
            "\n"
          ]
        },
        {
          "metadata": {
            "tags": null
          },
          "name": "stdout",
          "output_type": "stream",
          "text": [
            "\n",
            "      Epoch    GPU_mem   box_loss   cls_loss   dfl_loss  Instances       Size\n"
          ]
        },
        {
          "metadata": {
            "tags": null
          },
          "name": "stderr",
          "output_type": "stream",
          "text": [
            "     20/100      2.09G      1.194     0.6501      1.174         63        640: 100%|██████████| 15/15 [00:03<00:00,  4.43it/s]\n",
            "                 Class     Images  Instances      Box(P          R      mAP50  mAP50-95): 100%|██████████| 2/2 [00:00<00:00,  3.49it/s]"
          ]
        },
        {
          "metadata": {
            "tags": null
          },
          "name": "stdout",
          "output_type": "stream",
          "text": [
            "                   all         59        322        0.9      0.975      0.951      0.649\n"
          ]
        },
        {
          "metadata": {
            "tags": null
          },
          "name": "stderr",
          "output_type": "stream",
          "text": [
            "\n"
          ]
        },
        {
          "metadata": {
            "tags": null
          },
          "name": "stdout",
          "output_type": "stream",
          "text": [
            "\n",
            "      Epoch    GPU_mem   box_loss   cls_loss   dfl_loss  Instances       Size\n"
          ]
        },
        {
          "metadata": {
            "tags": null
          },
          "name": "stderr",
          "output_type": "stream",
          "text": [
            "     21/100      2.05G      1.193     0.6354      1.172        107        640: 100%|██████████| 15/15 [00:03<00:00,  4.30it/s]\n",
            "                 Class     Images  Instances      Box(P          R      mAP50  mAP50-95): 100%|██████████| 2/2 [00:01<00:00,  1.86it/s]"
          ]
        },
        {
          "metadata": {
            "tags": null
          },
          "name": "stdout",
          "output_type": "stream",
          "text": [
            "                   all         59        322      0.923       0.95      0.959      0.637\n"
          ]
        },
        {
          "metadata": {
            "tags": null
          },
          "name": "stderr",
          "output_type": "stream",
          "text": [
            "\n"
          ]
        },
        {
          "metadata": {
            "tags": null
          },
          "name": "stdout",
          "output_type": "stream",
          "text": [
            "\n",
            "      Epoch    GPU_mem   box_loss   cls_loss   dfl_loss  Instances       Size\n"
          ]
        },
        {
          "metadata": {
            "tags": null
          },
          "name": "stderr",
          "output_type": "stream",
          "text": [
            "     22/100      2.07G      1.197     0.6401      1.186         85        640: 100%|██████████| 15/15 [00:03<00:00,  4.63it/s]\n",
            "                 Class     Images  Instances      Box(P          R      mAP50  mAP50-95): 100%|██████████| 2/2 [00:00<00:00,  2.60it/s]"
          ]
        },
        {
          "metadata": {
            "tags": null
          },
          "name": "stdout",
          "output_type": "stream",
          "text": [
            "                   all         59        322      0.904      0.968       0.95      0.621\n"
          ]
        },
        {
          "metadata": {
            "tags": null
          },
          "name": "stderr",
          "output_type": "stream",
          "text": [
            "\n"
          ]
        },
        {
          "metadata": {
            "tags": null
          },
          "name": "stdout",
          "output_type": "stream",
          "text": [
            "\n",
            "      Epoch    GPU_mem   box_loss   cls_loss   dfl_loss  Instances       Size\n"
          ]
        },
        {
          "metadata": {
            "tags": null
          },
          "name": "stderr",
          "output_type": "stream",
          "text": [
            "     23/100      2.04G      1.202     0.6518      1.202         83        640: 100%|██████████| 15/15 [00:03<00:00,  4.61it/s]\n",
            "                 Class     Images  Instances      Box(P          R      mAP50  mAP50-95): 100%|██████████| 2/2 [00:00<00:00,  2.73it/s]"
          ]
        },
        {
          "metadata": {
            "tags": null
          },
          "name": "stdout",
          "output_type": "stream",
          "text": [
            "                   all         59        322      0.928      0.947      0.966       0.65\n"
          ]
        },
        {
          "metadata": {
            "tags": null
          },
          "name": "stderr",
          "output_type": "stream",
          "text": [
            "\n"
          ]
        },
        {
          "metadata": {
            "tags": null
          },
          "name": "stdout",
          "output_type": "stream",
          "text": [
            "\n",
            "      Epoch    GPU_mem   box_loss   cls_loss   dfl_loss  Instances       Size\n"
          ]
        },
        {
          "metadata": {
            "tags": null
          },
          "name": "stderr",
          "output_type": "stream",
          "text": [
            "     24/100      2.04G      1.205     0.6458      1.188         92        640: 100%|██████████| 15/15 [00:04<00:00,  3.53it/s]\n",
            "                 Class     Images  Instances      Box(P          R      mAP50  mAP50-95): 100%|██████████| 2/2 [00:00<00:00,  2.30it/s]"
          ]
        },
        {
          "metadata": {
            "tags": null
          },
          "name": "stdout",
          "output_type": "stream",
          "text": [
            "                   all         59        322      0.916      0.969      0.966      0.632\n"
          ]
        },
        {
          "metadata": {
            "tags": null
          },
          "name": "stderr",
          "output_type": "stream",
          "text": [
            "\n"
          ]
        },
        {
          "metadata": {
            "tags": null
          },
          "name": "stdout",
          "output_type": "stream",
          "text": [
            "\n",
            "      Epoch    GPU_mem   box_loss   cls_loss   dfl_loss  Instances       Size\n"
          ]
        },
        {
          "metadata": {
            "tags": null
          },
          "name": "stderr",
          "output_type": "stream",
          "text": [
            "     25/100      2.08G        1.2     0.6499      1.195         88        640: 100%|██████████| 15/15 [00:03<00:00,  4.32it/s]\n",
            "                 Class     Images  Instances      Box(P          R      mAP50  mAP50-95): 100%|██████████| 2/2 [00:00<00:00,  3.70it/s]"
          ]
        },
        {
          "metadata": {
            "tags": null
          },
          "name": "stdout",
          "output_type": "stream",
          "text": [
            "                   all         59        322      0.918       0.96      0.968      0.651\n"
          ]
        },
        {
          "metadata": {
            "tags": null
          },
          "name": "stderr",
          "output_type": "stream",
          "text": [
            "\n"
          ]
        },
        {
          "metadata": {
            "tags": null
          },
          "name": "stdout",
          "output_type": "stream",
          "text": [
            "\n",
            "      Epoch    GPU_mem   box_loss   cls_loss   dfl_loss  Instances       Size\n"
          ]
        },
        {
          "metadata": {
            "tags": null
          },
          "name": "stderr",
          "output_type": "stream",
          "text": [
            "     26/100      2.05G      1.209     0.6494      1.196        108        640: 100%|██████████| 15/15 [00:03<00:00,  4.48it/s]\n",
            "                 Class     Images  Instances      Box(P          R      mAP50  mAP50-95): 100%|██████████| 2/2 [00:01<00:00,  1.73it/s]"
          ]
        },
        {
          "metadata": {
            "tags": null
          },
          "name": "stdout",
          "output_type": "stream",
          "text": [
            "                   all         59        322      0.918      0.966      0.966      0.646\n"
          ]
        },
        {
          "metadata": {
            "tags": null
          },
          "name": "stderr",
          "output_type": "stream",
          "text": [
            "\n"
          ]
        },
        {
          "metadata": {
            "tags": null
          },
          "name": "stdout",
          "output_type": "stream",
          "text": [
            "\n",
            "      Epoch    GPU_mem   box_loss   cls_loss   dfl_loss  Instances       Size\n"
          ]
        },
        {
          "metadata": {
            "tags": null
          },
          "name": "stderr",
          "output_type": "stream",
          "text": [
            "     27/100      2.05G      1.179     0.6312      1.191         50        640: 100%|██████████| 15/15 [00:03<00:00,  4.34it/s]\n",
            "                 Class     Images  Instances      Box(P          R      mAP50  mAP50-95): 100%|██████████| 2/2 [00:00<00:00,  3.39it/s]"
          ]
        },
        {
          "metadata": {
            "tags": null
          },
          "name": "stdout",
          "output_type": "stream",
          "text": [
            "                   all         59        322      0.936      0.955      0.968      0.665\n"
          ]
        },
        {
          "metadata": {
            "tags": null
          },
          "name": "stderr",
          "output_type": "stream",
          "text": [
            "\n"
          ]
        },
        {
          "metadata": {
            "tags": null
          },
          "name": "stdout",
          "output_type": "stream",
          "text": [
            "\n",
            "      Epoch    GPU_mem   box_loss   cls_loss   dfl_loss  Instances       Size\n"
          ]
        },
        {
          "metadata": {
            "tags": null
          },
          "name": "stderr",
          "output_type": "stream",
          "text": [
            "     28/100      2.06G      1.192     0.6076      1.169        110        640: 100%|██████████| 15/15 [00:03<00:00,  4.51it/s]\n",
            "                 Class     Images  Instances      Box(P          R      mAP50  mAP50-95): 100%|██████████| 2/2 [00:00<00:00,  2.99it/s]"
          ]
        },
        {
          "metadata": {
            "tags": null
          },
          "name": "stdout",
          "output_type": "stream",
          "text": [
            "                   all         59        322      0.919      0.978      0.961      0.652\n"
          ]
        },
        {
          "metadata": {
            "tags": null
          },
          "name": "stderr",
          "output_type": "stream",
          "text": [
            "\n"
          ]
        },
        {
          "metadata": {
            "tags": null
          },
          "name": "stdout",
          "output_type": "stream",
          "text": [
            "\n",
            "      Epoch    GPU_mem   box_loss   cls_loss   dfl_loss  Instances       Size\n"
          ]
        },
        {
          "metadata": {
            "tags": null
          },
          "name": "stderr",
          "output_type": "stream",
          "text": [
            "     29/100      2.05G      1.181     0.6295      1.184        117        640: 100%|██████████| 15/15 [00:04<00:00,  3.52it/s]\n",
            "                 Class     Images  Instances      Box(P          R      mAP50  mAP50-95): 100%|██████████| 2/2 [00:00<00:00,  2.92it/s]"
          ]
        },
        {
          "metadata": {
            "tags": null
          },
          "name": "stdout",
          "output_type": "stream",
          "text": [
            "                   all         59        322      0.945      0.956      0.967      0.665\n"
          ]
        },
        {
          "metadata": {
            "tags": null
          },
          "name": "stderr",
          "output_type": "stream",
          "text": [
            "\n"
          ]
        },
        {
          "metadata": {
            "tags": null
          },
          "name": "stdout",
          "output_type": "stream",
          "text": [
            "\n",
            "      Epoch    GPU_mem   box_loss   cls_loss   dfl_loss  Instances       Size\n"
          ]
        },
        {
          "metadata": {
            "tags": null
          },
          "name": "stderr",
          "output_type": "stream",
          "text": [
            "     30/100      2.06G      1.167      0.581      1.161        112        640: 100%|██████████| 15/15 [00:03<00:00,  4.46it/s]\n",
            "                 Class     Images  Instances      Box(P          R      mAP50  mAP50-95): 100%|██████████| 2/2 [00:00<00:00,  2.99it/s]"
          ]
        },
        {
          "metadata": {
            "tags": null
          },
          "name": "stdout",
          "output_type": "stream",
          "text": [
            "                   all         59        322      0.933       0.96      0.965      0.659\n"
          ]
        },
        {
          "metadata": {
            "tags": null
          },
          "name": "stderr",
          "output_type": "stream",
          "text": [
            "\n"
          ]
        },
        {
          "metadata": {
            "tags": null
          },
          "name": "stdout",
          "output_type": "stream",
          "text": [
            "\n",
            "      Epoch    GPU_mem   box_loss   cls_loss   dfl_loss  Instances       Size\n"
          ]
        },
        {
          "metadata": {
            "tags": null
          },
          "name": "stderr",
          "output_type": "stream",
          "text": [
            "     31/100      2.04G       1.17      0.601      1.171         85        640: 100%|██████████| 15/15 [00:03<00:00,  4.22it/s]\n",
            "                 Class     Images  Instances      Box(P          R      mAP50  mAP50-95): 100%|██████████| 2/2 [00:00<00:00,  2.04it/s]"
          ]
        },
        {
          "metadata": {
            "tags": null
          },
          "name": "stdout",
          "output_type": "stream",
          "text": [
            "                   all         59        322      0.939       0.95      0.966      0.641\n"
          ]
        },
        {
          "metadata": {
            "tags": null
          },
          "name": "stderr",
          "output_type": "stream",
          "text": [
            "\n"
          ]
        },
        {
          "metadata": {
            "tags": null
          },
          "name": "stdout",
          "output_type": "stream",
          "text": [
            "\n",
            "      Epoch    GPU_mem   box_loss   cls_loss   dfl_loss  Instances       Size\n"
          ]
        },
        {
          "metadata": {
            "tags": null
          },
          "name": "stderr",
          "output_type": "stream",
          "text": [
            "     32/100      2.06G      1.168     0.5874      1.168         92        640: 100%|██████████| 15/15 [00:03<00:00,  4.57it/s]\n",
            "                 Class     Images  Instances      Box(P          R      mAP50  mAP50-95): 100%|██████████| 2/2 [00:00<00:00,  2.98it/s]"
          ]
        },
        {
          "metadata": {
            "tags": null
          },
          "name": "stdout",
          "output_type": "stream",
          "text": [
            "                   all         59        322       0.93      0.969      0.975      0.659\n"
          ]
        },
        {
          "metadata": {
            "tags": null
          },
          "name": "stderr",
          "output_type": "stream",
          "text": [
            "\n"
          ]
        },
        {
          "metadata": {
            "tags": null
          },
          "name": "stdout",
          "output_type": "stream",
          "text": [
            "\n",
            "      Epoch    GPU_mem   box_loss   cls_loss   dfl_loss  Instances       Size\n"
          ]
        },
        {
          "metadata": {
            "tags": null
          },
          "name": "stderr",
          "output_type": "stream",
          "text": [
            "     33/100      2.04G      1.167     0.5858      1.165         92        640: 100%|██████████| 15/15 [00:03<00:00,  4.73it/s]\n",
            "                 Class     Images  Instances      Box(P          R      mAP50  mAP50-95): 100%|██████████| 2/2 [00:00<00:00,  2.49it/s]"
          ]
        },
        {
          "metadata": {
            "tags": null
          },
          "name": "stdout",
          "output_type": "stream",
          "text": [
            "                   all         59        322      0.936      0.953      0.971      0.658\n"
          ]
        },
        {
          "metadata": {
            "tags": null
          },
          "name": "stderr",
          "output_type": "stream",
          "text": [
            "\n"
          ]
        },
        {
          "metadata": {
            "tags": null
          },
          "name": "stdout",
          "output_type": "stream",
          "text": [
            "\n",
            "      Epoch    GPU_mem   box_loss   cls_loss   dfl_loss  Instances       Size\n"
          ]
        },
        {
          "metadata": {
            "tags": null
          },
          "name": "stderr",
          "output_type": "stream",
          "text": [
            "     34/100      2.09G      1.179     0.5897      1.174        115        640: 100%|██████████| 15/15 [00:04<00:00,  3.46it/s]\n",
            "                 Class     Images  Instances      Box(P          R      mAP50  mAP50-95): 100%|██████████| 2/2 [00:00<00:00,  2.71it/s]"
          ]
        },
        {
          "metadata": {
            "tags": null
          },
          "name": "stdout",
          "output_type": "stream",
          "text": [
            "                   all         59        322      0.911      0.975      0.964      0.652\n"
          ]
        },
        {
          "metadata": {
            "tags": null
          },
          "name": "stderr",
          "output_type": "stream",
          "text": [
            "\n"
          ]
        },
        {
          "metadata": {
            "tags": null
          },
          "name": "stdout",
          "output_type": "stream",
          "text": [
            "\n",
            "      Epoch    GPU_mem   box_loss   cls_loss   dfl_loss  Instances       Size\n"
          ]
        },
        {
          "metadata": {
            "tags": null
          },
          "name": "stderr",
          "output_type": "stream",
          "text": [
            "     35/100      2.03G      1.152     0.5854      1.163         97        640: 100%|██████████| 15/15 [00:03<00:00,  4.65it/s]\n",
            "                 Class     Images  Instances      Box(P          R      mAP50  mAP50-95): 100%|██████████| 2/2 [00:00<00:00,  2.55it/s]"
          ]
        },
        {
          "metadata": {
            "tags": null
          },
          "name": "stdout",
          "output_type": "stream",
          "text": [
            "                   all         59        322      0.922      0.957      0.967      0.664\n"
          ]
        },
        {
          "metadata": {
            "tags": null
          },
          "name": "stderr",
          "output_type": "stream",
          "text": [
            "\n"
          ]
        },
        {
          "metadata": {
            "tags": null
          },
          "name": "stdout",
          "output_type": "stream",
          "text": [
            "\n",
            "      Epoch    GPU_mem   box_loss   cls_loss   dfl_loss  Instances       Size\n"
          ]
        },
        {
          "metadata": {
            "tags": null
          },
          "name": "stderr",
          "output_type": "stream",
          "text": [
            "     36/100      2.06G      1.167     0.5755       1.17         81        640: 100%|██████████| 15/15 [00:03<00:00,  4.41it/s]\n",
            "                 Class     Images  Instances      Box(P          R      mAP50  mAP50-95): 100%|██████████| 2/2 [00:00<00:00,  2.21it/s]"
          ]
        },
        {
          "metadata": {
            "tags": null
          },
          "name": "stdout",
          "output_type": "stream",
          "text": [
            "                   all         59        322      0.933      0.966      0.968      0.658\n"
          ]
        },
        {
          "metadata": {
            "tags": null
          },
          "name": "stderr",
          "output_type": "stream",
          "text": [
            "\n"
          ]
        },
        {
          "metadata": {
            "tags": null
          },
          "name": "stdout",
          "output_type": "stream",
          "text": [
            "\n",
            "      Epoch    GPU_mem   box_loss   cls_loss   dfl_loss  Instances       Size\n"
          ]
        },
        {
          "metadata": {
            "tags": null
          },
          "name": "stderr",
          "output_type": "stream",
          "text": [
            "     37/100      2.06G      1.177     0.5699      1.166         97        640: 100%|██████████| 15/15 [00:03<00:00,  4.12it/s]\n",
            "                 Class     Images  Instances      Box(P          R      mAP50  mAP50-95): 100%|██████████| 2/2 [00:00<00:00,  3.05it/s]"
          ]
        },
        {
          "metadata": {
            "tags": null
          },
          "name": "stdout",
          "output_type": "stream",
          "text": [
            "                   all         59        322      0.919      0.981      0.953      0.652\n"
          ]
        },
        {
          "metadata": {
            "tags": null
          },
          "name": "stderr",
          "output_type": "stream",
          "text": [
            "\n"
          ]
        },
        {
          "metadata": {
            "tags": null
          },
          "name": "stdout",
          "output_type": "stream",
          "text": [
            "\n",
            "      Epoch    GPU_mem   box_loss   cls_loss   dfl_loss  Instances       Size\n"
          ]
        },
        {
          "metadata": {
            "tags": null
          },
          "name": "stderr",
          "output_type": "stream",
          "text": [
            "     38/100      2.06G      1.153     0.5611      1.174         73        640: 100%|██████████| 15/15 [00:03<00:00,  4.61it/s]\n",
            "                 Class     Images  Instances      Box(P          R      mAP50  mAP50-95): 100%|██████████| 2/2 [00:00<00:00,  3.24it/s]"
          ]
        },
        {
          "metadata": {
            "tags": null
          },
          "name": "stdout",
          "output_type": "stream",
          "text": [
            "                   all         59        322      0.913      0.984      0.952      0.645\n"
          ]
        },
        {
          "metadata": {
            "tags": null
          },
          "name": "stderr",
          "output_type": "stream",
          "text": [
            "\n"
          ]
        },
        {
          "metadata": {
            "tags": null
          },
          "name": "stdout",
          "output_type": "stream",
          "text": [
            "\n",
            "      Epoch    GPU_mem   box_loss   cls_loss   dfl_loss  Instances       Size\n"
          ]
        },
        {
          "metadata": {
            "tags": null
          },
          "name": "stderr",
          "output_type": "stream",
          "text": [
            "     39/100      2.03G      1.142     0.5527      1.146         72        640: 100%|██████████| 15/15 [00:04<00:00,  3.49it/s]\n",
            "                 Class     Images  Instances      Box(P          R      mAP50  mAP50-95): 100%|██████████| 2/2 [00:00<00:00,  2.41it/s]"
          ]
        },
        {
          "metadata": {
            "tags": null
          },
          "name": "stdout",
          "output_type": "stream",
          "text": [
            "                   all         59        322      0.926      0.963      0.966      0.648\n"
          ]
        },
        {
          "metadata": {
            "tags": null
          },
          "name": "stderr",
          "output_type": "stream",
          "text": [
            "\n"
          ]
        },
        {
          "metadata": {
            "tags": null
          },
          "name": "stdout",
          "output_type": "stream",
          "text": [
            "\n",
            "      Epoch    GPU_mem   box_loss   cls_loss   dfl_loss  Instances       Size\n"
          ]
        },
        {
          "metadata": {
            "tags": null
          },
          "name": "stderr",
          "output_type": "stream",
          "text": [
            "     40/100      2.04G       1.13     0.5565      1.158        122        640: 100%|██████████| 15/15 [00:03<00:00,  4.29it/s]\n",
            "                 Class     Images  Instances      Box(P          R      mAP50  mAP50-95): 100%|██████████| 2/2 [00:00<00:00,  3.63it/s]"
          ]
        },
        {
          "metadata": {
            "tags": null
          },
          "name": "stdout",
          "output_type": "stream",
          "text": [
            "                   all         59        322      0.934      0.969      0.967      0.661\n"
          ]
        },
        {
          "metadata": {
            "tags": null
          },
          "name": "stderr",
          "output_type": "stream",
          "text": [
            "\n"
          ]
        },
        {
          "metadata": {
            "tags": null
          },
          "name": "stdout",
          "output_type": "stream",
          "text": [
            "\n",
            "      Epoch    GPU_mem   box_loss   cls_loss   dfl_loss  Instances       Size\n"
          ]
        },
        {
          "output_type": "stream",
          "name": "stderr",
          "text": [
            "     41/100      2.05G      1.138     0.5599      1.168         92        640: 100%|██████████| 15/15 [00:03<00:00,  4.40it/s]\n",
            "                 Class     Images  Instances      Box(P          R      mAP50  mAP50-95): 100%|██████████| 2/2 [00:00<00:00,  2.79it/s]"
          ]
        },
        {
          "output_type": "stream",
          "name": "stdout",
          "text": [
            "                   all         59        322      0.934      0.975      0.967      0.666\n"
          ]
        },
        {
          "output_type": "stream",
          "name": "stderr",
          "text": [
            "\n"
          ]
        },
        {
          "output_type": "stream",
          "name": "stdout",
          "text": [
            "\n",
            "      Epoch    GPU_mem   box_loss   cls_loss   dfl_loss  Instances       Size\n"
          ]
        },
        {
          "output_type": "stream",
          "name": "stderr",
          "text": [
            "     42/100      2.06G      1.125      0.545      1.156         60        640: 100%|██████████| 15/15 [00:03<00:00,  4.05it/s]\n",
            "                 Class     Images  Instances      Box(P          R      mAP50  mAP50-95): 100%|██████████| 2/2 [00:00<00:00,  2.99it/s]"
          ]
        },
        {
          "output_type": "stream",
          "name": "stdout",
          "text": [
            "                   all         59        322      0.918      0.991      0.975      0.677\n"
          ]
        },
        {
          "output_type": "stream",
          "name": "stderr",
          "text": [
            "\n"
          ]
        },
        {
          "output_type": "stream",
          "name": "stdout",
          "text": [
            "\n",
            "      Epoch    GPU_mem   box_loss   cls_loss   dfl_loss  Instances       Size\n"
          ]
        },
        {
          "output_type": "stream",
          "name": "stderr",
          "text": [
            "     43/100      2.04G      1.137     0.5538      1.157         82        640: 100%|██████████| 15/15 [00:03<00:00,  4.36it/s]\n",
            "                 Class     Images  Instances      Box(P          R      mAP50  mAP50-95): 100%|██████████| 2/2 [00:00<00:00,  3.47it/s]"
          ]
        },
        {
          "output_type": "stream",
          "name": "stdout",
          "text": [
            "                   all         59        322        0.9      0.994      0.974      0.662\n"
          ]
        },
        {
          "output_type": "stream",
          "name": "stderr",
          "text": [
            "\n"
          ]
        },
        {
          "output_type": "stream",
          "name": "stdout",
          "text": [
            "\n",
            "      Epoch    GPU_mem   box_loss   cls_loss   dfl_loss  Instances       Size\n"
          ]
        },
        {
          "output_type": "stream",
          "name": "stderr",
          "text": [
            "     44/100      2.07G      1.109      0.553      1.151         79        640: 100%|██████████| 15/15 [00:03<00:00,  3.76it/s]\n",
            "                 Class     Images  Instances      Box(P          R      mAP50  mAP50-95): 100%|██████████| 2/2 [00:00<00:00,  2.31it/s]"
          ]
        },
        {
          "output_type": "stream",
          "name": "stdout",
          "text": [
            "                   all         59        322      0.923      0.965      0.967      0.664\n"
          ]
        },
        {
          "output_type": "stream",
          "name": "stderr",
          "text": [
            "\n"
          ]
        },
        {
          "output_type": "stream",
          "name": "stdout",
          "text": [
            "\n",
            "      Epoch    GPU_mem   box_loss   cls_loss   dfl_loss  Instances       Size\n"
          ]
        },
        {
          "output_type": "stream",
          "name": "stderr",
          "text": [
            "     45/100      2.06G      1.133     0.5604      1.173         56        640: 100%|██████████| 15/15 [00:03<00:00,  4.44it/s]\n",
            "                 Class     Images  Instances      Box(P          R      mAP50  mAP50-95): 100%|██████████| 2/2 [00:00<00:00,  3.34it/s]"
          ]
        },
        {
          "output_type": "stream",
          "name": "stdout",
          "text": [
            "                   all         59        322      0.926      0.975      0.972      0.669\n"
          ]
        },
        {
          "output_type": "stream",
          "name": "stderr",
          "text": [
            "\n"
          ]
        },
        {
          "output_type": "stream",
          "name": "stdout",
          "text": [
            "\n",
            "      Epoch    GPU_mem   box_loss   cls_loss   dfl_loss  Instances       Size\n"
          ]
        },
        {
          "output_type": "stream",
          "name": "stderr",
          "text": [
            "     46/100      2.04G      1.129     0.5545      1.165         81        640: 100%|██████████| 15/15 [00:03<00:00,  4.22it/s]\n",
            "                 Class     Images  Instances      Box(P          R      mAP50  mAP50-95): 100%|██████████| 2/2 [00:00<00:00,  3.07it/s]"
          ]
        },
        {
          "output_type": "stream",
          "name": "stdout",
          "text": [
            "                   all         59        322      0.935      0.986       0.97      0.666\n"
          ]
        },
        {
          "output_type": "stream",
          "name": "stderr",
          "text": [
            "\n"
          ]
        },
        {
          "output_type": "stream",
          "name": "stdout",
          "text": [
            "\n",
            "      Epoch    GPU_mem   box_loss   cls_loss   dfl_loss  Instances       Size\n"
          ]
        },
        {
          "output_type": "stream",
          "name": "stderr",
          "text": [
            "     47/100      2.05G      1.134     0.5481      1.146        105        640: 100%|██████████| 15/15 [00:03<00:00,  4.16it/s]\n",
            "                 Class     Images  Instances      Box(P          R      mAP50  mAP50-95): 100%|██████████| 2/2 [00:00<00:00,  2.61it/s]"
          ]
        },
        {
          "output_type": "stream",
          "name": "stdout",
          "text": [
            "                   all         59        322      0.924      0.976      0.974      0.664\n"
          ]
        },
        {
          "output_type": "stream",
          "name": "stderr",
          "text": [
            "\n"
          ]
        },
        {
          "output_type": "stream",
          "name": "stdout",
          "text": [
            "\n",
            "      Epoch    GPU_mem   box_loss   cls_loss   dfl_loss  Instances       Size\n"
          ]
        },
        {
          "output_type": "stream",
          "name": "stderr",
          "text": [
            "     48/100      2.08G       1.14     0.5577      1.154         86        640: 100%|██████████| 15/15 [00:03<00:00,  4.69it/s]\n",
            "                 Class     Images  Instances      Box(P          R      mAP50  mAP50-95): 100%|██████████| 2/2 [00:00<00:00,  2.68it/s]"
          ]
        },
        {
          "output_type": "stream",
          "name": "stdout",
          "text": [
            "                   all         59        322      0.937       0.97      0.974      0.664\n"
          ]
        },
        {
          "output_type": "stream",
          "name": "stderr",
          "text": [
            "\n"
          ]
        },
        {
          "output_type": "stream",
          "name": "stdout",
          "text": [
            "\n",
            "      Epoch    GPU_mem   box_loss   cls_loss   dfl_loss  Instances       Size\n"
          ]
        },
        {
          "output_type": "stream",
          "name": "stderr",
          "text": [
            "     49/100      2.07G      1.099     0.5384      1.136        131        640: 100%|██████████| 15/15 [00:04<00:00,  3.52it/s]\n",
            "                 Class     Images  Instances      Box(P          R      mAP50  mAP50-95): 100%|██████████| 2/2 [00:00<00:00,  2.52it/s]"
          ]
        },
        {
          "output_type": "stream",
          "name": "stdout",
          "text": [
            "                   all         59        322      0.939      0.962      0.972      0.664\n"
          ]
        },
        {
          "output_type": "stream",
          "name": "stderr",
          "text": [
            "\n"
          ]
        },
        {
          "output_type": "stream",
          "name": "stdout",
          "text": [
            "\n",
            "      Epoch    GPU_mem   box_loss   cls_loss   dfl_loss  Instances       Size\n"
          ]
        },
        {
          "output_type": "stream",
          "name": "stderr",
          "text": [
            "     50/100      2.02G      1.127     0.5463      1.149         55        640: 100%|██████████| 15/15 [00:03<00:00,  4.57it/s]\n",
            "                 Class     Images  Instances      Box(P          R      mAP50  mAP50-95): 100%|██████████| 2/2 [00:00<00:00,  3.08it/s]"
          ]
        },
        {
          "output_type": "stream",
          "name": "stdout",
          "text": [
            "                   all         59        322      0.931      0.958      0.969      0.635\n"
          ]
        },
        {
          "output_type": "stream",
          "name": "stderr",
          "text": [
            "\n"
          ]
        },
        {
          "output_type": "stream",
          "name": "stdout",
          "text": [
            "\n",
            "      Epoch    GPU_mem   box_loss   cls_loss   dfl_loss  Instances       Size\n"
          ]
        },
        {
          "output_type": "stream",
          "name": "stderr",
          "text": [
            "     51/100      2.04G      1.107     0.5428      1.153         79        640: 100%|██████████| 15/15 [00:03<00:00,  4.52it/s]\n",
            "                 Class     Images  Instances      Box(P          R      mAP50  mAP50-95): 100%|██████████| 2/2 [00:00<00:00,  2.64it/s]"
          ]
        },
        {
          "output_type": "stream",
          "name": "stdout",
          "text": [
            "                   all         59        322      0.923      0.972      0.974      0.653\n"
          ]
        },
        {
          "output_type": "stream",
          "name": "stderr",
          "text": [
            "\n"
          ]
        },
        {
          "output_type": "stream",
          "name": "stdout",
          "text": [
            "\n",
            "      Epoch    GPU_mem   box_loss   cls_loss   dfl_loss  Instances       Size\n"
          ]
        },
        {
          "output_type": "stream",
          "name": "stderr",
          "text": [
            "     52/100      2.08G      1.084     0.5197      1.128         95        640: 100%|██████████| 15/15 [00:03<00:00,  4.06it/s]\n",
            "                 Class     Images  Instances      Box(P          R      mAP50  mAP50-95): 100%|██████████| 2/2 [00:00<00:00,  2.75it/s]"
          ]
        },
        {
          "output_type": "stream",
          "name": "stdout",
          "text": [
            "                   all         59        322      0.934      0.973      0.975      0.667\n"
          ]
        },
        {
          "output_type": "stream",
          "name": "stderr",
          "text": [
            "\n"
          ]
        },
        {
          "output_type": "stream",
          "name": "stdout",
          "text": [
            "\n",
            "      Epoch    GPU_mem   box_loss   cls_loss   dfl_loss  Instances       Size\n"
          ]
        },
        {
          "output_type": "stream",
          "name": "stderr",
          "text": [
            "     53/100      2.09G      1.101     0.5352      1.146         59        640: 100%|██████████| 15/15 [00:03<00:00,  4.56it/s]\n",
            "                 Class     Images  Instances      Box(P          R      mAP50  mAP50-95): 100%|██████████| 2/2 [00:00<00:00,  2.80it/s]"
          ]
        },
        {
          "output_type": "stream",
          "name": "stdout",
          "text": [
            "                   all         59        322      0.926      0.971      0.974      0.666\n"
          ]
        },
        {
          "output_type": "stream",
          "name": "stderr",
          "text": [
            "\n"
          ]
        },
        {
          "output_type": "stream",
          "name": "stdout",
          "text": [
            "\n",
            "      Epoch    GPU_mem   box_loss   cls_loss   dfl_loss  Instances       Size\n"
          ]
        },
        {
          "output_type": "stream",
          "name": "stderr",
          "text": [
            "     54/100      2.02G      1.108     0.5346      1.154        105        640: 100%|██████████| 15/15 [00:04<00:00,  3.72it/s]\n",
            "                 Class     Images  Instances      Box(P          R      mAP50  mAP50-95): 100%|██████████| 2/2 [00:00<00:00,  2.54it/s]"
          ]
        },
        {
          "output_type": "stream",
          "name": "stdout",
          "text": [
            "                   all         59        322      0.916      0.982      0.972      0.664\n"
          ]
        },
        {
          "output_type": "stream",
          "name": "stderr",
          "text": [
            "\n"
          ]
        },
        {
          "output_type": "stream",
          "name": "stdout",
          "text": [
            "\n",
            "      Epoch    GPU_mem   box_loss   cls_loss   dfl_loss  Instances       Size\n"
          ]
        },
        {
          "output_type": "stream",
          "name": "stderr",
          "text": [
            "     55/100      2.05G       1.08     0.5163      1.132        101        640: 100%|██████████| 15/15 [00:03<00:00,  4.36it/s]\n",
            "                 Class     Images  Instances      Box(P          R      mAP50  mAP50-95): 100%|██████████| 2/2 [00:00<00:00,  3.31it/s]"
          ]
        },
        {
          "output_type": "stream",
          "name": "stdout",
          "text": [
            "                   all         59        322      0.908      0.997       0.97      0.666\n"
          ]
        },
        {
          "output_type": "stream",
          "name": "stderr",
          "text": [
            "\n"
          ]
        },
        {
          "output_type": "stream",
          "name": "stdout",
          "text": [
            "\n",
            "      Epoch    GPU_mem   box_loss   cls_loss   dfl_loss  Instances       Size\n"
          ]
        },
        {
          "output_type": "stream",
          "name": "stderr",
          "text": [
            "     56/100      2.06G      1.088     0.5167      1.141         80        640: 100%|██████████| 15/15 [00:03<00:00,  4.48it/s]\n",
            "                 Class     Images  Instances      Box(P          R      mAP50  mAP50-95): 100%|██████████| 2/2 [00:00<00:00,  2.81it/s]"
          ]
        },
        {
          "output_type": "stream",
          "name": "stdout",
          "text": [
            "                   all         59        322      0.913      0.991      0.975      0.663\n"
          ]
        },
        {
          "output_type": "stream",
          "name": "stderr",
          "text": [
            "\n"
          ]
        },
        {
          "output_type": "stream",
          "name": "stdout",
          "text": [
            "\n",
            "      Epoch    GPU_mem   box_loss   cls_loss   dfl_loss  Instances       Size\n"
          ]
        },
        {
          "output_type": "stream",
          "name": "stderr",
          "text": [
            "     57/100      2.06G      1.127     0.5398      1.171         92        640: 100%|██████████| 15/15 [00:03<00:00,  4.01it/s]\n",
            "                 Class     Images  Instances      Box(P          R      mAP50  mAP50-95): 100%|██████████| 2/2 [00:00<00:00,  2.83it/s]"
          ]
        },
        {
          "output_type": "stream",
          "name": "stdout",
          "text": [
            "                   all         59        322      0.904      0.997      0.974       0.66\n"
          ]
        },
        {
          "output_type": "stream",
          "name": "stderr",
          "text": [
            "\n"
          ]
        },
        {
          "output_type": "stream",
          "name": "stdout",
          "text": [
            "\n",
            "      Epoch    GPU_mem   box_loss   cls_loss   dfl_loss  Instances       Size\n"
          ]
        },
        {
          "output_type": "stream",
          "name": "stderr",
          "text": [
            "     58/100      2.08G      1.109     0.5303      1.148        101        640: 100%|██████████| 15/15 [00:03<00:00,  4.58it/s]\n",
            "                 Class     Images  Instances      Box(P          R      mAP50  mAP50-95): 100%|██████████| 2/2 [00:00<00:00,  2.79it/s]"
          ]
        },
        {
          "output_type": "stream",
          "name": "stdout",
          "text": [
            "                   all         59        322      0.922      0.978      0.975      0.675\n"
          ]
        },
        {
          "output_type": "stream",
          "name": "stderr",
          "text": [
            "\n"
          ]
        },
        {
          "output_type": "stream",
          "name": "stdout",
          "text": [
            "\n",
            "      Epoch    GPU_mem   box_loss   cls_loss   dfl_loss  Instances       Size\n"
          ]
        },
        {
          "output_type": "stream",
          "name": "stderr",
          "text": [
            "     59/100      2.04G      1.108     0.5392      1.155         74        640: 100%|██████████| 15/15 [00:04<00:00,  3.49it/s]\n",
            "                 Class     Images  Instances      Box(P          R      mAP50  mAP50-95): 100%|██████████| 2/2 [00:00<00:00,  3.05it/s]"
          ]
        },
        {
          "output_type": "stream",
          "name": "stdout",
          "text": [
            "                   all         59        322      0.925      0.966      0.972      0.662\n"
          ]
        },
        {
          "output_type": "stream",
          "name": "stderr",
          "text": [
            "\n"
          ]
        },
        {
          "output_type": "stream",
          "name": "stdout",
          "text": [
            "\n",
            "      Epoch    GPU_mem   box_loss   cls_loss   dfl_loss  Instances       Size\n"
          ]
        },
        {
          "output_type": "stream",
          "name": "stderr",
          "text": [
            "     60/100       2.1G        1.1     0.5235      1.147         77        640: 100%|██████████| 15/15 [00:03<00:00,  4.60it/s]\n",
            "                 Class     Images  Instances      Box(P          R      mAP50  mAP50-95): 100%|██████████| 2/2 [00:00<00:00,  2.82it/s]"
          ]
        },
        {
          "output_type": "stream",
          "name": "stdout",
          "text": [
            "                   all         59        322      0.924      0.987      0.968       0.67\n"
          ]
        },
        {
          "output_type": "stream",
          "name": "stderr",
          "text": [
            "\n"
          ]
        },
        {
          "output_type": "stream",
          "name": "stdout",
          "text": [
            "\n",
            "      Epoch    GPU_mem   box_loss   cls_loss   dfl_loss  Instances       Size\n"
          ]
        },
        {
          "output_type": "stream",
          "name": "stderr",
          "text": [
            "     61/100      2.04G      1.113     0.5317      1.156         82        640: 100%|██████████| 15/15 [00:03<00:00,  4.62it/s]\n",
            "                 Class     Images  Instances      Box(P          R      mAP50  mAP50-95): 100%|██████████| 2/2 [00:00<00:00,  2.22it/s]"
          ]
        },
        {
          "output_type": "stream",
          "name": "stdout",
          "text": [
            "                   all         59        322      0.932      0.975      0.966      0.656\n"
          ]
        },
        {
          "output_type": "stream",
          "name": "stderr",
          "text": [
            "\n"
          ]
        },
        {
          "output_type": "stream",
          "name": "stdout",
          "text": [
            "\n",
            "      Epoch    GPU_mem   box_loss   cls_loss   dfl_loss  Instances       Size\n"
          ]
        },
        {
          "output_type": "stream",
          "name": "stderr",
          "text": [
            "     62/100      2.05G      1.115     0.5308      1.153         98        640: 100%|██████████| 15/15 [00:03<00:00,  4.10it/s]\n",
            "                 Class     Images  Instances      Box(P          R      mAP50  mAP50-95): 100%|██████████| 2/2 [00:00<00:00,  2.82it/s]"
          ]
        },
        {
          "output_type": "stream",
          "name": "stdout",
          "text": [
            "                   all         59        322      0.914      0.994       0.97      0.654\n"
          ]
        },
        {
          "output_type": "stream",
          "name": "stderr",
          "text": [
            "\n"
          ]
        },
        {
          "output_type": "stream",
          "name": "stdout",
          "text": [
            "\n",
            "      Epoch    GPU_mem   box_loss   cls_loss   dfl_loss  Instances       Size\n"
          ]
        },
        {
          "output_type": "stream",
          "name": "stderr",
          "text": [
            "     63/100      2.04G      1.105      0.524      1.158         68        640: 100%|██████████| 15/15 [00:03<00:00,  4.44it/s]\n",
            "                 Class     Images  Instances      Box(P          R      mAP50  mAP50-95): 100%|██████████| 2/2 [00:00<00:00,  3.86it/s]"
          ]
        },
        {
          "output_type": "stream",
          "name": "stdout",
          "text": [
            "                   all         59        322      0.944      0.975      0.973       0.68\n"
          ]
        },
        {
          "output_type": "stream",
          "name": "stderr",
          "text": [
            "\n"
          ]
        },
        {
          "output_type": "stream",
          "name": "stdout",
          "text": [
            "\n",
            "      Epoch    GPU_mem   box_loss   cls_loss   dfl_loss  Instances       Size\n"
          ]
        },
        {
          "output_type": "stream",
          "name": "stderr",
          "text": [
            "     64/100      2.07G       1.08     0.5138      1.139         81        640: 100%|██████████| 15/15 [00:04<00:00,  3.56it/s]\n",
            "                 Class     Images  Instances      Box(P          R      mAP50  mAP50-95): 100%|██████████| 2/2 [00:00<00:00,  2.72it/s]"
          ]
        },
        {
          "output_type": "stream",
          "name": "stdout",
          "text": [
            "                   all         59        322      0.936      0.957      0.976      0.655\n"
          ]
        },
        {
          "output_type": "stream",
          "name": "stderr",
          "text": [
            "\n"
          ]
        },
        {
          "output_type": "stream",
          "name": "stdout",
          "text": [
            "\n",
            "      Epoch    GPU_mem   box_loss   cls_loss   dfl_loss  Instances       Size\n"
          ]
        },
        {
          "output_type": "stream",
          "name": "stderr",
          "text": [
            "     65/100      2.04G      1.085     0.5253      1.153        114        640: 100%|██████████| 15/15 [00:03<00:00,  4.75it/s]\n",
            "                 Class     Images  Instances      Box(P          R      mAP50  mAP50-95): 100%|██████████| 2/2 [00:00<00:00,  2.72it/s]"
          ]
        },
        {
          "output_type": "stream",
          "name": "stdout",
          "text": [
            "                   all         59        322      0.944      0.938      0.975      0.664\n"
          ]
        },
        {
          "output_type": "stream",
          "name": "stderr",
          "text": [
            "\n"
          ]
        },
        {
          "output_type": "stream",
          "name": "stdout",
          "text": [
            "\n",
            "      Epoch    GPU_mem   box_loss   cls_loss   dfl_loss  Instances       Size\n"
          ]
        },
        {
          "output_type": "stream",
          "name": "stderr",
          "text": [
            "     66/100      2.05G       1.07     0.5145      1.134         96        640: 100%|██████████| 15/15 [00:03<00:00,  4.58it/s]\n",
            "                 Class     Images  Instances      Box(P          R      mAP50  mAP50-95): 100%|██████████| 2/2 [00:00<00:00,  2.75it/s]"
          ]
        },
        {
          "output_type": "stream",
          "name": "stdout",
          "text": [
            "                   all         59        322       0.92      0.972      0.976      0.669\n"
          ]
        },
        {
          "output_type": "stream",
          "name": "stderr",
          "text": [
            "\n"
          ]
        },
        {
          "output_type": "stream",
          "name": "stdout",
          "text": [
            "\n",
            "      Epoch    GPU_mem   box_loss   cls_loss   dfl_loss  Instances       Size\n"
          ]
        },
        {
          "output_type": "stream",
          "name": "stderr",
          "text": [
            "     67/100      2.05G       1.06     0.5005      1.126        124        640: 100%|██████████| 15/15 [00:03<00:00,  3.88it/s]\n",
            "                 Class     Images  Instances      Box(P          R      mAP50  mAP50-95): 100%|██████████| 2/2 [00:00<00:00,  3.12it/s]"
          ]
        },
        {
          "output_type": "stream",
          "name": "stdout",
          "text": [
            "                   all         59        322      0.931      0.962      0.976      0.635\n"
          ]
        },
        {
          "output_type": "stream",
          "name": "stderr",
          "text": [
            "\n"
          ]
        },
        {
          "output_type": "stream",
          "name": "stdout",
          "text": [
            "\n",
            "      Epoch    GPU_mem   box_loss   cls_loss   dfl_loss  Instances       Size\n"
          ]
        },
        {
          "output_type": "stream",
          "name": "stderr",
          "text": [
            "     68/100      2.08G      1.095     0.5161      1.146         86        640: 100%|██████████| 15/15 [00:03<00:00,  4.67it/s]\n",
            "                 Class     Images  Instances      Box(P          R      mAP50  mAP50-95): 100%|██████████| 2/2 [00:00<00:00,  2.53it/s]"
          ]
        },
        {
          "output_type": "stream",
          "name": "stdout",
          "text": [
            "                   all         59        322       0.94      0.979      0.978      0.674\n"
          ]
        },
        {
          "output_type": "stream",
          "name": "stderr",
          "text": [
            "\n"
          ]
        },
        {
          "output_type": "stream",
          "name": "stdout",
          "text": [
            "\n",
            "      Epoch    GPU_mem   box_loss   cls_loss   dfl_loss  Instances       Size\n"
          ]
        },
        {
          "output_type": "stream",
          "name": "stderr",
          "text": [
            "     69/100      2.04G      1.085     0.5194       1.14        105        640: 100%|██████████| 15/15 [00:04<00:00,  3.53it/s]\n",
            "                 Class     Images  Instances      Box(P          R      mAP50  mAP50-95): 100%|██████████| 2/2 [00:00<00:00,  2.22it/s]"
          ]
        },
        {
          "output_type": "stream",
          "name": "stdout",
          "text": [
            "                   all         59        322      0.914      0.994      0.979       0.67\n"
          ]
        },
        {
          "output_type": "stream",
          "name": "stderr",
          "text": [
            "\n"
          ]
        },
        {
          "output_type": "stream",
          "name": "stdout",
          "text": [
            "\n",
            "      Epoch    GPU_mem   box_loss   cls_loss   dfl_loss  Instances       Size\n"
          ]
        },
        {
          "output_type": "stream",
          "name": "stderr",
          "text": [
            "     70/100      2.06G      1.076      0.513      1.132         98        640: 100%|██████████| 15/15 [00:03<00:00,  4.58it/s]\n",
            "                 Class     Images  Instances      Box(P          R      mAP50  mAP50-95): 100%|██████████| 2/2 [00:00<00:00,  2.65it/s]"
          ]
        },
        {
          "output_type": "stream",
          "name": "stdout",
          "text": [
            "                   all         59        322      0.923      0.981      0.973      0.676\n"
          ]
        },
        {
          "output_type": "stream",
          "name": "stderr",
          "text": [
            "\n"
          ]
        },
        {
          "output_type": "stream",
          "name": "stdout",
          "text": [
            "\n",
            "      Epoch    GPU_mem   box_loss   cls_loss   dfl_loss  Instances       Size\n"
          ]
        },
        {
          "output_type": "stream",
          "name": "stderr",
          "text": [
            "     71/100      2.07G       1.07     0.4965      1.129        118        640: 100%|██████████| 15/15 [00:03<00:00,  4.52it/s]\n",
            "                 Class     Images  Instances      Box(P          R      mAP50  mAP50-95): 100%|██████████| 2/2 [00:00<00:00,  2.65it/s]"
          ]
        },
        {
          "output_type": "stream",
          "name": "stdout",
          "text": [
            "                   all         59        322      0.937      0.962      0.974      0.679\n"
          ]
        },
        {
          "output_type": "stream",
          "name": "stderr",
          "text": [
            "\n"
          ]
        },
        {
          "output_type": "stream",
          "name": "stdout",
          "text": [
            "\n",
            "      Epoch    GPU_mem   box_loss   cls_loss   dfl_loss  Instances       Size\n"
          ]
        },
        {
          "output_type": "stream",
          "name": "stderr",
          "text": [
            "     72/100      2.08G       1.05     0.4916      1.132         79        640: 100%|██████████| 15/15 [00:03<00:00,  4.17it/s]\n",
            "                 Class     Images  Instances      Box(P          R      mAP50  mAP50-95): 100%|██████████| 2/2 [00:00<00:00,  2.61it/s]"
          ]
        },
        {
          "output_type": "stream",
          "name": "stdout",
          "text": [
            "                   all         59        322      0.933      0.978       0.97      0.664\n"
          ]
        },
        {
          "output_type": "stream",
          "name": "stderr",
          "text": [
            "\n"
          ]
        },
        {
          "output_type": "stream",
          "name": "stdout",
          "text": [
            "\n",
            "      Epoch    GPU_mem   box_loss   cls_loss   dfl_loss  Instances       Size\n"
          ]
        },
        {
          "output_type": "stream",
          "name": "stderr",
          "text": [
            "     73/100      2.05G      1.068     0.5054      1.139         98        640: 100%|██████████| 15/15 [00:03<00:00,  4.50it/s]\n",
            "                 Class     Images  Instances      Box(P          R      mAP50  mAP50-95): 100%|██████████| 2/2 [00:00<00:00,  3.16it/s]"
          ]
        },
        {
          "output_type": "stream",
          "name": "stdout",
          "text": [
            "                   all         59        322      0.924      0.982      0.976      0.652\n"
          ]
        },
        {
          "output_type": "stream",
          "name": "stderr",
          "text": [
            "\n"
          ]
        },
        {
          "output_type": "stream",
          "name": "stdout",
          "text": [
            "\n",
            "      Epoch    GPU_mem   box_loss   cls_loss   dfl_loss  Instances       Size\n"
          ]
        },
        {
          "output_type": "stream",
          "name": "stderr",
          "text": [
            "     74/100      2.04G      1.042     0.4803      1.122         86        640: 100%|██████████| 15/15 [00:04<00:00,  3.56it/s]\n",
            "                 Class     Images  Instances      Box(P          R      mAP50  mAP50-95): 100%|██████████| 2/2 [00:00<00:00,  2.51it/s]"
          ]
        },
        {
          "output_type": "stream",
          "name": "stdout",
          "text": [
            "                   all         59        322      0.941      0.966      0.976       0.66\n"
          ]
        },
        {
          "output_type": "stream",
          "name": "stderr",
          "text": [
            "\n"
          ]
        },
        {
          "output_type": "stream",
          "name": "stdout",
          "text": [
            "\n",
            "      Epoch    GPU_mem   box_loss   cls_loss   dfl_loss  Instances       Size\n"
          ]
        },
        {
          "output_type": "stream",
          "name": "stderr",
          "text": [
            "     75/100      2.05G      1.039     0.4858      1.124         82        640: 100%|██████████| 15/15 [00:03<00:00,  4.46it/s]\n",
            "                 Class     Images  Instances      Box(P          R      mAP50  mAP50-95): 100%|██████████| 2/2 [00:00<00:00,  3.17it/s]"
          ]
        },
        {
          "output_type": "stream",
          "name": "stdout",
          "text": [
            "                   all         59        322      0.922      0.988      0.978      0.674\n"
          ]
        },
        {
          "output_type": "stream",
          "name": "stderr",
          "text": [
            "\n"
          ]
        },
        {
          "output_type": "stream",
          "name": "stdout",
          "text": [
            "\n",
            "      Epoch    GPU_mem   box_loss   cls_loss   dfl_loss  Instances       Size\n"
          ]
        },
        {
          "output_type": "stream",
          "name": "stderr",
          "text": [
            "     76/100      2.07G       1.05     0.4857      1.124        119        640: 100%|██████████| 15/15 [00:03<00:00,  4.49it/s]\n",
            "                 Class     Images  Instances      Box(P          R      mAP50  mAP50-95): 100%|██████████| 2/2 [00:00<00:00,  3.07it/s]"
          ]
        },
        {
          "output_type": "stream",
          "name": "stdout",
          "text": [
            "                   all         59        322      0.938      0.972      0.976       0.66\n"
          ]
        },
        {
          "output_type": "stream",
          "name": "stderr",
          "text": [
            "\n"
          ]
        },
        {
          "output_type": "stream",
          "name": "stdout",
          "text": [
            "\n",
            "      Epoch    GPU_mem   box_loss   cls_loss   dfl_loss  Instances       Size\n"
          ]
        },
        {
          "output_type": "stream",
          "name": "stderr",
          "text": [
            "     77/100      2.06G      1.061      0.485       1.12        106        640: 100%|██████████| 15/15 [00:03<00:00,  4.03it/s]\n",
            "                 Class     Images  Instances      Box(P          R      mAP50  mAP50-95): 100%|██████████| 2/2 [00:00<00:00,  2.46it/s]"
          ]
        },
        {
          "output_type": "stream",
          "name": "stdout",
          "text": [
            "                   all         59        322      0.932       0.98      0.978      0.673\n"
          ]
        },
        {
          "output_type": "stream",
          "name": "stderr",
          "text": [
            "\n"
          ]
        },
        {
          "output_type": "stream",
          "name": "stdout",
          "text": [
            "\n",
            "      Epoch    GPU_mem   box_loss   cls_loss   dfl_loss  Instances       Size\n"
          ]
        },
        {
          "output_type": "stream",
          "name": "stderr",
          "text": [
            "     78/100      2.04G      1.038     0.4778      1.126         79        640: 100%|██████████| 15/15 [00:03<00:00,  4.40it/s]\n",
            "                 Class     Images  Instances      Box(P          R      mAP50  mAP50-95): 100%|██████████| 2/2 [00:00<00:00,  3.24it/s]"
          ]
        },
        {
          "output_type": "stream",
          "name": "stdout",
          "text": [
            "                   all         59        322      0.922      0.989      0.977      0.668\n"
          ]
        },
        {
          "output_type": "stream",
          "name": "stderr",
          "text": [
            "\n"
          ]
        },
        {
          "output_type": "stream",
          "name": "stdout",
          "text": [
            "\n",
            "      Epoch    GPU_mem   box_loss   cls_loss   dfl_loss  Instances       Size\n"
          ]
        },
        {
          "output_type": "stream",
          "name": "stderr",
          "text": [
            "     79/100      2.04G      1.029     0.4829      1.128         98        640: 100%|██████████| 15/15 [00:04<00:00,  3.41it/s]\n",
            "                 Class     Images  Instances      Box(P          R      mAP50  mAP50-95): 100%|██████████| 2/2 [00:00<00:00,  3.10it/s]"
          ]
        },
        {
          "output_type": "stream",
          "name": "stdout",
          "text": [
            "                   all         59        322      0.921      0.994      0.979       0.68\n"
          ]
        },
        {
          "output_type": "stream",
          "name": "stderr",
          "text": [
            "\n"
          ]
        },
        {
          "output_type": "stream",
          "name": "stdout",
          "text": [
            "\n",
            "      Epoch    GPU_mem   box_loss   cls_loss   dfl_loss  Instances       Size\n"
          ]
        },
        {
          "output_type": "stream",
          "name": "stderr",
          "text": [
            "     80/100      2.06G      1.038     0.4901      1.125         89        640: 100%|██████████| 15/15 [00:03<00:00,  4.21it/s]\n",
            "                 Class     Images  Instances      Box(P          R      mAP50  mAP50-95): 100%|██████████| 2/2 [00:00<00:00,  3.54it/s]"
          ]
        },
        {
          "output_type": "stream",
          "name": "stdout",
          "text": [
            "                   all         59        322       0.94      0.966       0.98      0.675\n"
          ]
        },
        {
          "output_type": "stream",
          "name": "stderr",
          "text": [
            "\n"
          ]
        },
        {
          "output_type": "stream",
          "name": "stdout",
          "text": [
            "\n",
            "      Epoch    GPU_mem   box_loss   cls_loss   dfl_loss  Instances       Size\n"
          ]
        },
        {
          "output_type": "stream",
          "name": "stderr",
          "text": [
            "     81/100      2.07G      1.027     0.4838      1.121         93        640: 100%|██████████| 15/15 [00:03<00:00,  4.43it/s]\n",
            "                 Class     Images  Instances      Box(P          R      mAP50  mAP50-95): 100%|██████████| 2/2 [00:00<00:00,  2.22it/s]"
          ]
        },
        {
          "output_type": "stream",
          "name": "stdout",
          "text": [
            "                   all         59        322      0.927       0.99      0.979      0.665\n"
          ]
        },
        {
          "output_type": "stream",
          "name": "stderr",
          "text": [
            "\n"
          ]
        },
        {
          "output_type": "stream",
          "name": "stdout",
          "text": [
            "\n",
            "      Epoch    GPU_mem   box_loss   cls_loss   dfl_loss  Instances       Size\n"
          ]
        },
        {
          "output_type": "stream",
          "name": "stderr",
          "text": [
            "     82/100      2.04G      1.044     0.4901      1.134         69        640: 100%|██████████| 15/15 [00:03<00:00,  4.36it/s]\n",
            "                 Class     Images  Instances      Box(P          R      mAP50  mAP50-95): 100%|██████████| 2/2 [00:00<00:00,  2.59it/s]"
          ]
        },
        {
          "output_type": "stream",
          "name": "stdout",
          "text": [
            "                   all         59        322       0.94      0.976      0.977      0.667\n"
          ]
        },
        {
          "output_type": "stream",
          "name": "stderr",
          "text": [
            "\n"
          ]
        },
        {
          "output_type": "stream",
          "name": "stdout",
          "text": [
            "\n",
            "      Epoch    GPU_mem   box_loss   cls_loss   dfl_loss  Instances       Size\n"
          ]
        },
        {
          "output_type": "stream",
          "name": "stderr",
          "text": [
            "     83/100      2.01G       1.04     0.4834       1.12         76        640: 100%|██████████| 15/15 [00:03<00:00,  4.50it/s]\n",
            "                 Class     Images  Instances      Box(P          R      mAP50  mAP50-95): 100%|██████████| 2/2 [00:00<00:00,  3.28it/s]"
          ]
        },
        {
          "output_type": "stream",
          "name": "stdout",
          "text": [
            "                   all         59        322      0.949      0.974       0.98      0.677\n"
          ]
        },
        {
          "output_type": "stream",
          "name": "stderr",
          "text": [
            "\n"
          ]
        },
        {
          "output_type": "stream",
          "name": "stdout",
          "text": [
            "\n",
            "      Epoch    GPU_mem   box_loss   cls_loss   dfl_loss  Instances       Size\n"
          ]
        },
        {
          "output_type": "stream",
          "name": "stderr",
          "text": [
            "     84/100      2.06G      1.034     0.4763      1.137         67        640: 100%|██████████| 15/15 [00:04<00:00,  3.48it/s]\n",
            "                 Class     Images  Instances      Box(P          R      mAP50  mAP50-95): 100%|██████████| 2/2 [00:00<00:00,  2.85it/s]"
          ]
        },
        {
          "output_type": "stream",
          "name": "stdout",
          "text": [
            "                   all         59        322      0.948      0.962      0.981      0.677\n"
          ]
        },
        {
          "output_type": "stream",
          "name": "stderr",
          "text": [
            "\n"
          ]
        },
        {
          "output_type": "stream",
          "name": "stdout",
          "text": [
            "\n",
            "      Epoch    GPU_mem   box_loss   cls_loss   dfl_loss  Instances       Size\n"
          ]
        },
        {
          "output_type": "stream",
          "name": "stderr",
          "text": [
            "     85/100      2.05G      1.031     0.4692      1.127         83        640: 100%|██████████| 15/15 [00:03<00:00,  4.58it/s]\n",
            "                 Class     Images  Instances      Box(P          R      mAP50  mAP50-95): 100%|██████████| 2/2 [00:00<00:00,  2.72it/s]"
          ]
        },
        {
          "output_type": "stream",
          "name": "stdout",
          "text": [
            "                   all         59        322      0.925      0.978      0.981      0.661\n"
          ]
        },
        {
          "output_type": "stream",
          "name": "stderr",
          "text": [
            "\n"
          ]
        },
        {
          "output_type": "stream",
          "name": "stdout",
          "text": [
            "\n",
            "      Epoch    GPU_mem   box_loss   cls_loss   dfl_loss  Instances       Size\n"
          ]
        },
        {
          "output_type": "stream",
          "name": "stderr",
          "text": [
            "     86/100      2.07G      1.031     0.4902      1.116        133        640: 100%|██████████| 15/15 [00:03<00:00,  4.53it/s]\n",
            "                 Class     Images  Instances      Box(P          R      mAP50  mAP50-95): 100%|██████████| 2/2 [00:00<00:00,  2.02it/s]"
          ]
        },
        {
          "output_type": "stream",
          "name": "stdout",
          "text": [
            "                   all         59        322      0.934      0.966       0.98      0.669\n"
          ]
        },
        {
          "output_type": "stream",
          "name": "stderr",
          "text": [
            "\n"
          ]
        },
        {
          "output_type": "stream",
          "name": "stdout",
          "text": [
            "\n",
            "      Epoch    GPU_mem   box_loss   cls_loss   dfl_loss  Instances       Size\n"
          ]
        },
        {
          "output_type": "stream",
          "name": "stderr",
          "text": [
            "     87/100      2.06G       1.04      0.475      1.121         95        640: 100%|██████████| 15/15 [00:03<00:00,  4.19it/s]\n",
            "                 Class     Images  Instances      Box(P          R      mAP50  mAP50-95): 100%|██████████| 2/2 [00:00<00:00,  2.73it/s]"
          ]
        },
        {
          "output_type": "stream",
          "name": "stdout",
          "text": [
            "                   all         59        322      0.945      0.969      0.981      0.671\n"
          ]
        },
        {
          "output_type": "stream",
          "name": "stderr",
          "text": [
            "\n"
          ]
        },
        {
          "output_type": "stream",
          "name": "stdout",
          "text": [
            "\n",
            "      Epoch    GPU_mem   box_loss   cls_loss   dfl_loss  Instances       Size\n"
          ]
        },
        {
          "output_type": "stream",
          "name": "stderr",
          "text": [
            "     88/100      2.04G      1.025     0.4634      1.115         88        640: 100%|██████████| 15/15 [00:03<00:00,  4.34it/s]\n",
            "                 Class     Images  Instances      Box(P          R      mAP50  mAP50-95): 100%|██████████| 2/2 [00:00<00:00,  3.14it/s]"
          ]
        },
        {
          "output_type": "stream",
          "name": "stdout",
          "text": [
            "                   all         59        322      0.932      0.979       0.98      0.674\n"
          ]
        },
        {
          "output_type": "stream",
          "name": "stderr",
          "text": [
            "\n"
          ]
        },
        {
          "output_type": "stream",
          "name": "stdout",
          "text": [
            "\n",
            "      Epoch    GPU_mem   box_loss   cls_loss   dfl_loss  Instances       Size\n"
          ]
        },
        {
          "output_type": "stream",
          "name": "stderr",
          "text": [
            "     89/100      2.05G      1.014     0.4713      1.121        110        640: 100%|██████████| 15/15 [00:04<00:00,  3.65it/s]\n",
            "                 Class     Images  Instances      Box(P          R      mAP50  mAP50-95): 100%|██████████| 2/2 [00:00<00:00,  2.63it/s]"
          ]
        },
        {
          "output_type": "stream",
          "name": "stdout",
          "text": [
            "                   all         59        322      0.917      0.996       0.98      0.668\n"
          ]
        },
        {
          "output_type": "stream",
          "name": "stderr",
          "text": [
            "\n"
          ]
        },
        {
          "output_type": "stream",
          "name": "stdout",
          "text": [
            "\n",
            "      Epoch    GPU_mem   box_loss   cls_loss   dfl_loss  Instances       Size\n"
          ]
        },
        {
          "output_type": "stream",
          "name": "stderr",
          "text": [
            "     90/100      2.04G       1.02     0.4794      1.132         83        640: 100%|██████████| 15/15 [00:03<00:00,  4.45it/s]\n",
            "                 Class     Images  Instances      Box(P          R      mAP50  mAP50-95): 100%|██████████| 2/2 [00:00<00:00,  3.05it/s]"
          ]
        },
        {
          "output_type": "stream",
          "name": "stdout",
          "text": [
            "                   all         59        322      0.923      0.978       0.98      0.679\n"
          ]
        },
        {
          "output_type": "stream",
          "name": "stderr",
          "text": [
            "\n"
          ]
        },
        {
          "output_type": "stream",
          "name": "stdout",
          "text": [
            "Closing dataloader mosaic\n",
            "\u001b[34m\u001b[1malbumentations: \u001b[0mBlur(p=0.01, blur_limit=(3, 7)), MedianBlur(p=0.01, blur_limit=(3, 7)), ToGray(p=0.01, num_output_channels=3, method='weighted_average'), CLAHE(p=0.01, clip_limit=(1.0, 4.0), tile_grid_size=(8, 8))\n",
            "\n",
            "      Epoch    GPU_mem   box_loss   cls_loss   dfl_loss  Instances       Size\n"
          ]
        },
        {
          "output_type": "stream",
          "name": "stderr",
          "text": [
            "     91/100      2.03G      1.022     0.4485       1.12         68        640: 100%|██████████| 15/15 [00:05<00:00,  2.66it/s]\n",
            "                 Class     Images  Instances      Box(P          R      mAP50  mAP50-95): 100%|██████████| 2/2 [00:00<00:00,  2.78it/s]"
          ]
        },
        {
          "output_type": "stream",
          "name": "stdout",
          "text": [
            "                   all         59        322      0.919      0.981       0.98      0.681\n"
          ]
        },
        {
          "output_type": "stream",
          "name": "stderr",
          "text": [
            "\n"
          ]
        },
        {
          "output_type": "stream",
          "name": "stdout",
          "text": [
            "\n",
            "      Epoch    GPU_mem   box_loss   cls_loss   dfl_loss  Instances       Size\n"
          ]
        },
        {
          "output_type": "stream",
          "name": "stderr",
          "text": [
            "     92/100      2.04G      1.033     0.4462      1.117         55        640: 100%|██████████| 15/15 [00:03<00:00,  4.63it/s]\n",
            "                 Class     Images  Instances      Box(P          R      mAP50  mAP50-95): 100%|██████████| 2/2 [00:00<00:00,  2.95it/s]"
          ]
        },
        {
          "output_type": "stream",
          "name": "stdout",
          "text": [
            "                   all         59        322      0.919      0.988       0.98      0.679\n"
          ]
        },
        {
          "output_type": "stream",
          "name": "stderr",
          "text": [
            "\n"
          ]
        },
        {
          "output_type": "stream",
          "name": "stdout",
          "text": [
            "\n",
            "      Epoch    GPU_mem   box_loss   cls_loss   dfl_loss  Instances       Size\n"
          ]
        },
        {
          "output_type": "stream",
          "name": "stderr",
          "text": [
            "     93/100      2.04G      1.021     0.4386      1.109         48        640: 100%|██████████| 15/15 [00:03<00:00,  4.77it/s]\n",
            "                 Class     Images  Instances      Box(P          R      mAP50  mAP50-95): 100%|██████████| 2/2 [00:00<00:00,  2.82it/s]"
          ]
        },
        {
          "output_type": "stream",
          "name": "stdout",
          "text": [
            "                   all         59        322      0.922      0.985      0.981      0.682\n"
          ]
        },
        {
          "output_type": "stream",
          "name": "stderr",
          "text": [
            "\n"
          ]
        },
        {
          "output_type": "stream",
          "name": "stdout",
          "text": [
            "\n",
            "      Epoch    GPU_mem   box_loss   cls_loss   dfl_loss  Instances       Size\n"
          ]
        },
        {
          "output_type": "stream",
          "name": "stderr",
          "text": [
            "     94/100      2.02G      1.004     0.4313      1.114         55        640: 100%|██████████| 15/15 [00:03<00:00,  4.11it/s]\n",
            "                 Class     Images  Instances      Box(P          R      mAP50  mAP50-95): 100%|██████████| 2/2 [00:00<00:00,  3.34it/s]"
          ]
        },
        {
          "output_type": "stream",
          "name": "stdout",
          "text": [
            "                   all         59        322      0.943      0.963      0.979      0.684\n"
          ]
        },
        {
          "output_type": "stream",
          "name": "stderr",
          "text": [
            "\n"
          ]
        },
        {
          "output_type": "stream",
          "name": "stdout",
          "text": [
            "\n",
            "      Epoch    GPU_mem   box_loss   cls_loss   dfl_loss  Instances       Size\n"
          ]
        },
        {
          "output_type": "stream",
          "name": "stderr",
          "text": [
            "     95/100      2.03G      1.008     0.4297      1.111         63        640: 100%|██████████| 15/15 [00:03<00:00,  4.54it/s]\n",
            "                 Class     Images  Instances      Box(P          R      mAP50  mAP50-95): 100%|██████████| 2/2 [00:00<00:00,  3.41it/s]"
          ]
        },
        {
          "output_type": "stream",
          "name": "stdout",
          "text": [
            "                   all         59        322      0.948      0.969       0.98      0.681\n"
          ]
        },
        {
          "output_type": "stream",
          "name": "stderr",
          "text": [
            "\n"
          ]
        },
        {
          "output_type": "stream",
          "name": "stdout",
          "text": [
            "\n",
            "      Epoch    GPU_mem   box_loss   cls_loss   dfl_loss  Instances       Size\n"
          ]
        },
        {
          "output_type": "stream",
          "name": "stderr",
          "text": [
            "     96/100      2.04G     0.9935      0.414        1.1         46        640: 100%|██████████| 15/15 [00:03<00:00,  4.20it/s]\n",
            "                 Class     Images  Instances      Box(P          R      mAP50  mAP50-95): 100%|██████████| 2/2 [00:01<00:00,  1.71it/s]"
          ]
        },
        {
          "output_type": "stream",
          "name": "stdout",
          "text": [
            "                   all         59        322      0.938      0.969       0.98      0.678\n"
          ]
        },
        {
          "output_type": "stream",
          "name": "stderr",
          "text": [
            "\n"
          ]
        },
        {
          "output_type": "stream",
          "name": "stdout",
          "text": [
            "\n",
            "      Epoch    GPU_mem   box_loss   cls_loss   dfl_loss  Instances       Size\n"
          ]
        },
        {
          "output_type": "stream",
          "name": "stderr",
          "text": [
            "     97/100      2.02G     0.9909     0.4205      1.094         55        640: 100%|██████████| 15/15 [00:03<00:00,  4.76it/s]\n",
            "                 Class     Images  Instances      Box(P          R      mAP50  mAP50-95): 100%|██████████| 2/2 [00:00<00:00,  3.10it/s]"
          ]
        },
        {
          "output_type": "stream",
          "name": "stdout",
          "text": [
            "                   all         59        322      0.937      0.969       0.98       0.68\n"
          ]
        },
        {
          "output_type": "stream",
          "name": "stderr",
          "text": [
            "\n"
          ]
        },
        {
          "output_type": "stream",
          "name": "stdout",
          "text": [
            "\n",
            "      Epoch    GPU_mem   box_loss   cls_loss   dfl_loss  Instances       Size\n"
          ]
        },
        {
          "output_type": "stream",
          "name": "stderr",
          "text": [
            "     98/100      2.04G     0.9904     0.4248      1.099         54        640: 100%|██████████| 15/15 [00:03<00:00,  4.78it/s]\n",
            "                 Class     Images  Instances      Box(P          R      mAP50  mAP50-95): 100%|██████████| 2/2 [00:00<00:00,  3.52it/s]"
          ]
        },
        {
          "output_type": "stream",
          "name": "stdout",
          "text": [
            "                   all         59        322      0.937      0.974      0.978      0.676\n"
          ]
        },
        {
          "output_type": "stream",
          "name": "stderr",
          "text": [
            "\n"
          ]
        },
        {
          "output_type": "stream",
          "name": "stdout",
          "text": [
            "\n",
            "      Epoch    GPU_mem   box_loss   cls_loss   dfl_loss  Instances       Size\n"
          ]
        },
        {
          "output_type": "stream",
          "name": "stderr",
          "text": [
            "     99/100      2.02G     0.9746     0.4081      1.096         59        640: 100%|██████████| 15/15 [00:04<00:00,  3.68it/s]\n",
            "                 Class     Images  Instances      Box(P          R      mAP50  mAP50-95): 100%|██████████| 2/2 [00:00<00:00,  2.70it/s]"
          ]
        },
        {
          "output_type": "stream",
          "name": "stdout",
          "text": [
            "                   all         59        322      0.937      0.975      0.978      0.673\n"
          ]
        },
        {
          "output_type": "stream",
          "name": "stderr",
          "text": [
            "\n"
          ]
        },
        {
          "output_type": "stream",
          "name": "stdout",
          "text": [
            "\n",
            "      Epoch    GPU_mem   box_loss   cls_loss   dfl_loss  Instances       Size\n"
          ]
        },
        {
          "output_type": "stream",
          "name": "stderr",
          "text": [
            "    100/100      2.04G      0.979     0.4155      1.101         56        640: 100%|██████████| 15/15 [00:03<00:00,  4.70it/s]\n",
            "                 Class     Images  Instances      Box(P          R      mAP50  mAP50-95): 100%|██████████| 2/2 [00:00<00:00,  3.32it/s]"
          ]
        },
        {
          "output_type": "stream",
          "name": "stdout",
          "text": [
            "                   all         59        322      0.937      0.973      0.978      0.677\n"
          ]
        },
        {
          "output_type": "stream",
          "name": "stderr",
          "text": [
            "\n"
          ]
        },
        {
          "output_type": "stream",
          "name": "stdout",
          "text": [
            "\n",
            "100 epochs completed in 0.142 hours.\n",
            "Optimizer stripped from runs/detect/train4/weights/last.pt, 6.3MB\n",
            "Optimizer stripped from runs/detect/train4/weights/best.pt, 6.3MB\n",
            "\n",
            "Validating runs/detect/train4/weights/best.pt...\n",
            "Ultralytics 8.3.80 🚀 Python-3.11.11 torch-2.5.1+cu124 CUDA:0 (Tesla T4, 15095MiB)\n",
            "Model summary (fused): 72 layers, 3,005,843 parameters, 0 gradients, 8.1 GFLOPs\n"
          ]
        },
        {
          "output_type": "stream",
          "name": "stderr",
          "text": [
            "                 Class     Images  Instances      Box(P          R      mAP50  mAP50-95): 100%|██████████| 2/2 [00:00<00:00,  2.20it/s]\n"
          ]
        },
        {
          "output_type": "stream",
          "name": "stdout",
          "text": [
            "                   all         59        322      0.942      0.963      0.979      0.682\n",
            "Speed: 0.4ms preprocess, 2.4ms inference, 0.0ms loss, 3.0ms postprocess per image\n",
            "Results saved to \u001b[1mruns/detect/train4\u001b[0m\n"
          ]
        },
        {
          "output_type": "execute_result",
          "data": {
            "text/plain": [
              "ultralytics.utils.metrics.DetMetrics object with attributes:\n",
              "\n",
              "ap_class_index: array([0])\n",
              "box: ultralytics.utils.metrics.Metric object\n",
              "confusion_matrix: <ultralytics.utils.metrics.ConfusionMatrix object at 0x7e09ffd8a4d0>\n",
              "curves: ['Precision-Recall(B)', 'F1-Confidence(B)', 'Precision-Confidence(B)', 'Recall-Confidence(B)']\n",
              "curves_results: [[array([          0,    0.001001,    0.002002,    0.003003,    0.004004,    0.005005,    0.006006,    0.007007,    0.008008,    0.009009,     0.01001,    0.011011,    0.012012,    0.013013,    0.014014,    0.015015,    0.016016,    0.017017,    0.018018,    0.019019,     0.02002,    0.021021,    0.022022,    0.023023,\n",
              "          0.024024,    0.025025,    0.026026,    0.027027,    0.028028,    0.029029,     0.03003,    0.031031,    0.032032,    0.033033,    0.034034,    0.035035,    0.036036,    0.037037,    0.038038,    0.039039,     0.04004,    0.041041,    0.042042,    0.043043,    0.044044,    0.045045,    0.046046,    0.047047,\n",
              "          0.048048,    0.049049,     0.05005,    0.051051,    0.052052,    0.053053,    0.054054,    0.055055,    0.056056,    0.057057,    0.058058,    0.059059,     0.06006,    0.061061,    0.062062,    0.063063,    0.064064,    0.065065,    0.066066,    0.067067,    0.068068,    0.069069,     0.07007,    0.071071,\n",
              "          0.072072,    0.073073,    0.074074,    0.075075,    0.076076,    0.077077,    0.078078,    0.079079,     0.08008,    0.081081,    0.082082,    0.083083,    0.084084,    0.085085,    0.086086,    0.087087,    0.088088,    0.089089,     0.09009,    0.091091,    0.092092,    0.093093,    0.094094,    0.095095,\n",
              "          0.096096,    0.097097,    0.098098,    0.099099,      0.1001,      0.1011,      0.1021,      0.1031,      0.1041,     0.10511,     0.10611,     0.10711,     0.10811,     0.10911,     0.11011,     0.11111,     0.11211,     0.11311,     0.11411,     0.11512,     0.11612,     0.11712,     0.11812,     0.11912,\n",
              "           0.12012,     0.12112,     0.12212,     0.12312,     0.12412,     0.12513,     0.12613,     0.12713,     0.12813,     0.12913,     0.13013,     0.13113,     0.13213,     0.13313,     0.13413,     0.13514,     0.13614,     0.13714,     0.13814,     0.13914,     0.14014,     0.14114,     0.14214,     0.14314,\n",
              "           0.14414,     0.14515,     0.14615,     0.14715,     0.14815,     0.14915,     0.15015,     0.15115,     0.15215,     0.15315,     0.15415,     0.15516,     0.15616,     0.15716,     0.15816,     0.15916,     0.16016,     0.16116,     0.16216,     0.16316,     0.16416,     0.16517,     0.16617,     0.16717,\n",
              "           0.16817,     0.16917,     0.17017,     0.17117,     0.17217,     0.17317,     0.17417,     0.17518,     0.17618,     0.17718,     0.17818,     0.17918,     0.18018,     0.18118,     0.18218,     0.18318,     0.18418,     0.18519,     0.18619,     0.18719,     0.18819,     0.18919,     0.19019,     0.19119,\n",
              "           0.19219,     0.19319,     0.19419,      0.1952,      0.1962,      0.1972,      0.1982,      0.1992,      0.2002,      0.2012,      0.2022,      0.2032,      0.2042,     0.20521,     0.20621,     0.20721,     0.20821,     0.20921,     0.21021,     0.21121,     0.21221,     0.21321,     0.21421,     0.21522,\n",
              "           0.21622,     0.21722,     0.21822,     0.21922,     0.22022,     0.22122,     0.22222,     0.22322,     0.22422,     0.22523,     0.22623,     0.22723,     0.22823,     0.22923,     0.23023,     0.23123,     0.23223,     0.23323,     0.23423,     0.23524,     0.23624,     0.23724,     0.23824,     0.23924,\n",
              "           0.24024,     0.24124,     0.24224,     0.24324,     0.24424,     0.24525,     0.24625,     0.24725,     0.24825,     0.24925,     0.25025,     0.25125,     0.25225,     0.25325,     0.25425,     0.25526,     0.25626,     0.25726,     0.25826,     0.25926,     0.26026,     0.26126,     0.26226,     0.26326,\n",
              "           0.26426,     0.26527,     0.26627,     0.26727,     0.26827,     0.26927,     0.27027,     0.27127,     0.27227,     0.27327,     0.27427,     0.27528,     0.27628,     0.27728,     0.27828,     0.27928,     0.28028,     0.28128,     0.28228,     0.28328,     0.28428,     0.28529,     0.28629,     0.28729,\n",
              "           0.28829,     0.28929,     0.29029,     0.29129,     0.29229,     0.29329,     0.29429,      0.2953,      0.2963,      0.2973,      0.2983,      0.2993,      0.3003,      0.3013,      0.3023,      0.3033,      0.3043,     0.30531,     0.30631,     0.30731,     0.30831,     0.30931,     0.31031,     0.31131,\n",
              "           0.31231,     0.31331,     0.31431,     0.31532,     0.31632,     0.31732,     0.31832,     0.31932,     0.32032,     0.32132,     0.32232,     0.32332,     0.32432,     0.32533,     0.32633,     0.32733,     0.32833,     0.32933,     0.33033,     0.33133,     0.33233,     0.33333,     0.33433,     0.33534,\n",
              "           0.33634,     0.33734,     0.33834,     0.33934,     0.34034,     0.34134,     0.34234,     0.34334,     0.34434,     0.34535,     0.34635,     0.34735,     0.34835,     0.34935,     0.35035,     0.35135,     0.35235,     0.35335,     0.35435,     0.35536,     0.35636,     0.35736,     0.35836,     0.35936,\n",
              "           0.36036,     0.36136,     0.36236,     0.36336,     0.36436,     0.36537,     0.36637,     0.36737,     0.36837,     0.36937,     0.37037,     0.37137,     0.37237,     0.37337,     0.37437,     0.37538,     0.37638,     0.37738,     0.37838,     0.37938,     0.38038,     0.38138,     0.38238,     0.38338,\n",
              "           0.38438,     0.38539,     0.38639,     0.38739,     0.38839,     0.38939,     0.39039,     0.39139,     0.39239,     0.39339,     0.39439,      0.3954,      0.3964,      0.3974,      0.3984,      0.3994,      0.4004,      0.4014,      0.4024,      0.4034,      0.4044,     0.40541,     0.40641,     0.40741,\n",
              "           0.40841,     0.40941,     0.41041,     0.41141,     0.41241,     0.41341,     0.41441,     0.41542,     0.41642,     0.41742,     0.41842,     0.41942,     0.42042,     0.42142,     0.42242,     0.42342,     0.42442,     0.42543,     0.42643,     0.42743,     0.42843,     0.42943,     0.43043,     0.43143,\n",
              "           0.43243,     0.43343,     0.43443,     0.43544,     0.43644,     0.43744,     0.43844,     0.43944,     0.44044,     0.44144,     0.44244,     0.44344,     0.44444,     0.44545,     0.44645,     0.44745,     0.44845,     0.44945,     0.45045,     0.45145,     0.45245,     0.45345,     0.45445,     0.45546,\n",
              "           0.45646,     0.45746,     0.45846,     0.45946,     0.46046,     0.46146,     0.46246,     0.46346,     0.46446,     0.46547,     0.46647,     0.46747,     0.46847,     0.46947,     0.47047,     0.47147,     0.47247,     0.47347,     0.47447,     0.47548,     0.47648,     0.47748,     0.47848,     0.47948,\n",
              "           0.48048,     0.48148,     0.48248,     0.48348,     0.48448,     0.48549,     0.48649,     0.48749,     0.48849,     0.48949,     0.49049,     0.49149,     0.49249,     0.49349,     0.49449,      0.4955,      0.4965,      0.4975,      0.4985,      0.4995,      0.5005,      0.5015,      0.5025,      0.5035,\n",
              "            0.5045,     0.50551,     0.50651,     0.50751,     0.50851,     0.50951,     0.51051,     0.51151,     0.51251,     0.51351,     0.51451,     0.51552,     0.51652,     0.51752,     0.51852,     0.51952,     0.52052,     0.52152,     0.52252,     0.52352,     0.52452,     0.52553,     0.52653,     0.52753,\n",
              "           0.52853,     0.52953,     0.53053,     0.53153,     0.53253,     0.53353,     0.53453,     0.53554,     0.53654,     0.53754,     0.53854,     0.53954,     0.54054,     0.54154,     0.54254,     0.54354,     0.54454,     0.54555,     0.54655,     0.54755,     0.54855,     0.54955,     0.55055,     0.55155,\n",
              "           0.55255,     0.55355,     0.55455,     0.55556,     0.55656,     0.55756,     0.55856,     0.55956,     0.56056,     0.56156,     0.56256,     0.56356,     0.56456,     0.56557,     0.56657,     0.56757,     0.56857,     0.56957,     0.57057,     0.57157,     0.57257,     0.57357,     0.57457,     0.57558,\n",
              "           0.57658,     0.57758,     0.57858,     0.57958,     0.58058,     0.58158,     0.58258,     0.58358,     0.58458,     0.58559,     0.58659,     0.58759,     0.58859,     0.58959,     0.59059,     0.59159,     0.59259,     0.59359,     0.59459,      0.5956,      0.5966,      0.5976,      0.5986,      0.5996,\n",
              "            0.6006,      0.6016,      0.6026,      0.6036,      0.6046,     0.60561,     0.60661,     0.60761,     0.60861,     0.60961,     0.61061,     0.61161,     0.61261,     0.61361,     0.61461,     0.61562,     0.61662,     0.61762,     0.61862,     0.61962,     0.62062,     0.62162,     0.62262,     0.62362,\n",
              "           0.62462,     0.62563,     0.62663,     0.62763,     0.62863,     0.62963,     0.63063,     0.63163,     0.63263,     0.63363,     0.63463,     0.63564,     0.63664,     0.63764,     0.63864,     0.63964,     0.64064,     0.64164,     0.64264,     0.64364,     0.64464,     0.64565,     0.64665,     0.64765,\n",
              "           0.64865,     0.64965,     0.65065,     0.65165,     0.65265,     0.65365,     0.65465,     0.65566,     0.65666,     0.65766,     0.65866,     0.65966,     0.66066,     0.66166,     0.66266,     0.66366,     0.66466,     0.66567,     0.66667,     0.66767,     0.66867,     0.66967,     0.67067,     0.67167,\n",
              "           0.67267,     0.67367,     0.67467,     0.67568,     0.67668,     0.67768,     0.67868,     0.67968,     0.68068,     0.68168,     0.68268,     0.68368,     0.68468,     0.68569,     0.68669,     0.68769,     0.68869,     0.68969,     0.69069,     0.69169,     0.69269,     0.69369,     0.69469,      0.6957,\n",
              "            0.6967,      0.6977,      0.6987,      0.6997,      0.7007,      0.7017,      0.7027,      0.7037,      0.7047,     0.70571,     0.70671,     0.70771,     0.70871,     0.70971,     0.71071,     0.71171,     0.71271,     0.71371,     0.71471,     0.71572,     0.71672,     0.71772,     0.71872,     0.71972,\n",
              "           0.72072,     0.72172,     0.72272,     0.72372,     0.72472,     0.72573,     0.72673,     0.72773,     0.72873,     0.72973,     0.73073,     0.73173,     0.73273,     0.73373,     0.73473,     0.73574,     0.73674,     0.73774,     0.73874,     0.73974,     0.74074,     0.74174,     0.74274,     0.74374,\n",
              "           0.74474,     0.74575,     0.74675,     0.74775,     0.74875,     0.74975,     0.75075,     0.75175,     0.75275,     0.75375,     0.75475,     0.75576,     0.75676,     0.75776,     0.75876,     0.75976,     0.76076,     0.76176,     0.76276,     0.76376,     0.76476,     0.76577,     0.76677,     0.76777,\n",
              "           0.76877,     0.76977,     0.77077,     0.77177,     0.77277,     0.77377,     0.77477,     0.77578,     0.77678,     0.77778,     0.77878,     0.77978,     0.78078,     0.78178,     0.78278,     0.78378,     0.78478,     0.78579,     0.78679,     0.78779,     0.78879,     0.78979,     0.79079,     0.79179,\n",
              "           0.79279,     0.79379,     0.79479,      0.7958,      0.7968,      0.7978,      0.7988,      0.7998,      0.8008,      0.8018,      0.8028,      0.8038,      0.8048,     0.80581,     0.80681,     0.80781,     0.80881,     0.80981,     0.81081,     0.81181,     0.81281,     0.81381,     0.81481,     0.81582,\n",
              "           0.81682,     0.81782,     0.81882,     0.81982,     0.82082,     0.82182,     0.82282,     0.82382,     0.82482,     0.82583,     0.82683,     0.82783,     0.82883,     0.82983,     0.83083,     0.83183,     0.83283,     0.83383,     0.83483,     0.83584,     0.83684,     0.83784,     0.83884,     0.83984,\n",
              "           0.84084,     0.84184,     0.84284,     0.84384,     0.84484,     0.84585,     0.84685,     0.84785,     0.84885,     0.84985,     0.85085,     0.85185,     0.85285,     0.85385,     0.85485,     0.85586,     0.85686,     0.85786,     0.85886,     0.85986,     0.86086,     0.86186,     0.86286,     0.86386,\n",
              "           0.86486,     0.86587,     0.86687,     0.86787,     0.86887,     0.86987,     0.87087,     0.87187,     0.87287,     0.87387,     0.87487,     0.87588,     0.87688,     0.87788,     0.87888,     0.87988,     0.88088,     0.88188,     0.88288,     0.88388,     0.88488,     0.88589,     0.88689,     0.88789,\n",
              "           0.88889,     0.88989,     0.89089,     0.89189,     0.89289,     0.89389,     0.89489,      0.8959,      0.8969,      0.8979,      0.8989,      0.8999,      0.9009,      0.9019,      0.9029,      0.9039,      0.9049,     0.90591,     0.90691,     0.90791,     0.90891,     0.90991,     0.91091,     0.91191,\n",
              "           0.91291,     0.91391,     0.91491,     0.91592,     0.91692,     0.91792,     0.91892,     0.91992,     0.92092,     0.92192,     0.92292,     0.92392,     0.92492,     0.92593,     0.92693,     0.92793,     0.92893,     0.92993,     0.93093,     0.93193,     0.93293,     0.93393,     0.93493,     0.93594,\n",
              "           0.93694,     0.93794,     0.93894,     0.93994,     0.94094,     0.94194,     0.94294,     0.94394,     0.94494,     0.94595,     0.94695,     0.94795,     0.94895,     0.94995,     0.95095,     0.95195,     0.95295,     0.95395,     0.95495,     0.95596,     0.95696,     0.95796,     0.95896,     0.95996,\n",
              "           0.96096,     0.96196,     0.96296,     0.96396,     0.96496,     0.96597,     0.96697,     0.96797,     0.96897,     0.96997,     0.97097,     0.97197,     0.97297,     0.97397,     0.97497,     0.97598,     0.97698,     0.97798,     0.97898,     0.97998,     0.98098,     0.98198,     0.98298,     0.98398,\n",
              "           0.98498,     0.98599,     0.98699,     0.98799,     0.98899,     0.98999,     0.99099,     0.99199,     0.99299,     0.99399,     0.99499,       0.996,       0.997,       0.998,       0.999,           1]), array([[          1,           1,           1,           1,           1,           1,           1,           1,           1,           1,           1,           1,           1,           1,           1,           1,           1,           1,           1,           1,           1,           1,           1,\n",
              "                  1,           1,           1,           1,           1,           1,           1,           1,           1,           1,           1,           1,           1,           1,           1,           1,           1,           1,           1,           1,           1,           1,           1,\n",
              "                  1,           1,           1,           1,           1,           1,           1,           1,           1,           1,           1,           1,           1,           1,           1,           1,           1,           1,           1,           1,           1,           1,           1,\n",
              "                  1,           1,           1,           1,           1,           1,           1,           1,           1,           1,           1,           1,           1,           1,           1,           1,           1,           1,           1,           1,           1,           1,           1,\n",
              "                  1,           1,           1,           1,           1,           1,           1,           1,           1,           1,           1,           1,           1,           1,           1,           1,           1,           1,           1,           1,           1,           1,           1,\n",
              "                  1,           1,           1,           1,           1,           1,           1,           1,           1,           1,           1,           1,           1,           1,           1,           1,           1,           1,           1,           1,           1,           1,           1,\n",
              "                  1,           1,           1,           1,           1,           1,           1,           1,           1,           1,           1,           1,           1,           1,           1,           1,           1,           1,           1,           1,           1,           1,           1,\n",
              "                  1,           1,           1,           1,           1,           1,           1,           1,           1,           1,           1,           1,           1,           1,           1,           1,           1,           1,           1,           1,           1,           1,           1,\n",
              "                  1,           1,           1,           1,           1,           1,           1,           1,           1,           1,           1,           1,           1,           1,           1,           1,           1,           1,           1,           1,           1,           1,           1,\n",
              "                  1,           1,           1,           1,           1,           1,           1,           1,           1,           1,           1,           1,           1,           1,           1,           1,           1,     0.99355,     0.99355,     0.99355,     0.99355,     0.99355,     0.99355,\n",
              "            0.99355,     0.99355,     0.99355,     0.99355,     0.99355,     0.99355,     0.99355,     0.99355,     0.99355,     0.99355,     0.99355,     0.99355,     0.99355,     0.99355,     0.99355,     0.99355,     0.99355,     0.99355,     0.99355,     0.99355,     0.99355,     0.99355,     0.99355,\n",
              "            0.99355,     0.99355,     0.99355,     0.99355,     0.99355,     0.99355,     0.99355,     0.99355,     0.99355,     0.99355,     0.99355,     0.99355,     0.99355,     0.99355,     0.99355,     0.99355,     0.99355,     0.99355,     0.99355,     0.99355,     0.99355,     0.99355,     0.99355,\n",
              "            0.99355,     0.99355,     0.99355,     0.99355,     0.99355,     0.99355,     0.99355,     0.99355,     0.99355,     0.99355,     0.99355,     0.99355,     0.99355,     0.99355,     0.99355,     0.99355,     0.99355,     0.99355,     0.99355,     0.99355,     0.99355,     0.99355,     0.99355,\n",
              "            0.99355,     0.99355,     0.99355,     0.99355,     0.99355,     0.99355,     0.99355,     0.99355,     0.99355,     0.99355,     0.99355,     0.99355,     0.99355,     0.99355,     0.99355,     0.99355,     0.99355,     0.99355,     0.99355,     0.99355,     0.99355,     0.99355,     0.99355,\n",
              "            0.99355,     0.99355,     0.99355,     0.99355,     0.99355,     0.99355,     0.99355,     0.99355,     0.99355,     0.99355,     0.99355,     0.99355,     0.99355,     0.99355,     0.99355,     0.99355,     0.99355,     0.99355,     0.99355,     0.99355,     0.99355,     0.99355,     0.99355,\n",
              "            0.99355,     0.99355,     0.99355,     0.99355,     0.99355,     0.99355,     0.99355,     0.99355,     0.99355,     0.99355,     0.99355,     0.99355,     0.99355,     0.99355,     0.99355,     0.99355,     0.99355,     0.99355,     0.99355,     0.99355,     0.99355,     0.99355,     0.99355,\n",
              "            0.99355,     0.99355,     0.99355,     0.99355,     0.99355,     0.99355,     0.99355,     0.99355,     0.99355,     0.99355,     0.99355,     0.99355,     0.99355,     0.99355,     0.99355,     0.99355,     0.99355,     0.99355,     0.99355,     0.99355,     0.99355,     0.99355,     0.99355,\n",
              "            0.99355,     0.99355,     0.99355,     0.99355,     0.99355,     0.99355,     0.99355,     0.99355,     0.99355,     0.99355,     0.99355,     0.99355,     0.99355,     0.99355,     0.99355,     0.99355,     0.99355,     0.99355,     0.99355,     0.99355,     0.99355,     0.99355,     0.99355,\n",
              "            0.99355,     0.99355,     0.99355,     0.99355,     0.99355,     0.99355,     0.99355,     0.99355,     0.99355,     0.99355,     0.99355,     0.99355,     0.99355,     0.99355,     0.99355,     0.99355,     0.99355,     0.99355,     0.99355,     0.99355,     0.99355,     0.99355,     0.99355,\n",
              "            0.99355,     0.99355,     0.99355,     0.99355,     0.99355,     0.99355,     0.99355,     0.99355,     0.99355,     0.99355,     0.99355,     0.99355,     0.99355,     0.99355,     0.99355,     0.99355,     0.99355,     0.99355,     0.99355,     0.99355,     0.99355,     0.99355,     0.99355,\n",
              "            0.99355,     0.99355,     0.99355,     0.99355,     0.99355,     0.99355,     0.99355,     0.99355,     0.99355,     0.99355,     0.99355,     0.99355,     0.99355,     0.99355,     0.99355,     0.99355,     0.99355,     0.99355,      0.9899,      0.9899,      0.9899,      0.9899,      0.9899,\n",
              "             0.9899,      0.9899,      0.9899,      0.9899,      0.9899,      0.9899,      0.9899,      0.9899,      0.9899,      0.9899,      0.9899,      0.9899,      0.9899,      0.9899,      0.9899,      0.9899,      0.9899,      0.9899,      0.9899,      0.9899,      0.9899,      0.9899,      0.9899,\n",
              "             0.9899,      0.9899,      0.9899,      0.9899,      0.9899,      0.9899,      0.9899,      0.9899,      0.9899,      0.9899,      0.9899,      0.9899,      0.9899,      0.9899,      0.9899,      0.9899,      0.9899,      0.9899,      0.9899,      0.9899,      0.9899,      0.9899,      0.9899,\n",
              "             0.9899,      0.9899,      0.9899,      0.9899,      0.9899,      0.9899,      0.9899,      0.9899,      0.9899,      0.9899,      0.9899,      0.9899,      0.9899,      0.9899,      0.9899,      0.9899,      0.9899,      0.9899,      0.9899,      0.9899,      0.9899,      0.9899,      0.9899,\n",
              "             0.9899,      0.9899,      0.9899,      0.9899,      0.9899,      0.9899,      0.9899,      0.9899,      0.9899,      0.9899,      0.9899,      0.9899,      0.9899,      0.9899,      0.9899,      0.9899,      0.9899,      0.9899,      0.9899,      0.9899,      0.9899,      0.9899,      0.9899,\n",
              "             0.9899,      0.9899,      0.9899,      0.9899,      0.9899,      0.9899,      0.9899,      0.9899,      0.9899,      0.9899,      0.9899,      0.9899,      0.9899,      0.9899,      0.9899,      0.9899,      0.9899,      0.9899,      0.9899,      0.9899,      0.9899,      0.9899,      0.9899,\n",
              "             0.9899,      0.9899,      0.9899,      0.9899,      0.9899,      0.9899,      0.9899,      0.9899,      0.9899,      0.9899,      0.9899,     0.98551,     0.98551,     0.98551,     0.98551,     0.98551,     0.98551,     0.98551,     0.98551,     0.98551,     0.98551,     0.98551,     0.98551,\n",
              "            0.98551,     0.98551,     0.98551,     0.98551,     0.98551,     0.98551,     0.98551,     0.98551,     0.98551,     0.98551,     0.98551,     0.98551,     0.98261,     0.98261,     0.98261,     0.98261,     0.98261,     0.98261,     0.98261,     0.98261,     0.98261,     0.98261,     0.98261,\n",
              "            0.98261,     0.98261,     0.98261,     0.98261,     0.98261,     0.98261,     0.98261,     0.98261,     0.98261,     0.98261,     0.98261,     0.98261,     0.98261,     0.98261,     0.98261,     0.98261,     0.98261,     0.98261,     0.98261,     0.98261,     0.98261,     0.98261,     0.98261,\n",
              "            0.98261,     0.98261,     0.98261,     0.98261,     0.98261,     0.98261,     0.98261,     0.98261,     0.98261,     0.98261,     0.98261,     0.98261,     0.98261,     0.98261,     0.98261,     0.98261,     0.98261,     0.98261,     0.98261,     0.98261,     0.98261,     0.98261,     0.98261,\n",
              "            0.98261,     0.98261,     0.98261,     0.98261,     0.98261,     0.98261,     0.98261,     0.98261,     0.98261,     0.98261,     0.98261,     0.98261,     0.97845,     0.97845,     0.97845,     0.97468,     0.97468,     0.97468,     0.97468,     0.97468,     0.97468,     0.97468,     0.97468,\n",
              "            0.97468,     0.97468,     0.97468,     0.97468,     0.96863,     0.96863,     0.96863,     0.96863,     0.96863,     0.96863,     0.96863,     0.96863,     0.96863,     0.96863,     0.96863,     0.96863,     0.96863,     0.96863,     0.96863,     0.96863,     0.96863,     0.96863,     0.96863,\n",
              "            0.96863,     0.96863,     0.96863,     0.96863,     0.96863,     0.96863,     0.96863,     0.96863,     0.96863,     0.96863,     0.96863,     0.96863,     0.96863,     0.96863,     0.96863,     0.96863,     0.96863,     0.96863,     0.96863,     0.96863,     0.96863,     0.96863,     0.96863,\n",
              "            0.96863,     0.96863,     0.96863,     0.96863,     0.96863,     0.96863,     0.96863,     0.96863,     0.96751,     0.96751,     0.96751,     0.96751,     0.96751,     0.96751,     0.96751,     0.96751,     0.96751,     0.96751,     0.96751,     0.96751,     0.96751,     0.96751,     0.96751,\n",
              "            0.96751,     0.96751,     0.96751,     0.96751,     0.96751,     0.96751,     0.96751,     0.96751,     0.96751,     0.96751,     0.96751,     0.96751,     0.96751,     0.96751,     0.96751,     0.96751,     0.96751,     0.96751,     0.96751,     0.96751,     0.96751,     0.96751,     0.96751,\n",
              "            0.96751,     0.96751,     0.96751,     0.96751,     0.96751,     0.96751,     0.96751,     0.96751,     0.96751,     0.96751,     0.96751,     0.96751,     0.96751,     0.96751,     0.96751,     0.96751,     0.96751,     0.96751,     0.96751,     0.96751,     0.96751,     0.96751,     0.96751,\n",
              "            0.96751,     0.96751,     0.96751,     0.96751,     0.96246,     0.96246,     0.96246,     0.96246,     0.96246,     0.96246,     0.96246,     0.96246,     0.96246,     0.96246,     0.96246,     0.96246,     0.96246,     0.96246,     0.96246,     0.96246,     0.96246,     0.96246,     0.96246,\n",
              "            0.96246,     0.96246,     0.96246,     0.96246,     0.96246,     0.96246,     0.96246,     0.96246,     0.96246,     0.96246,     0.96246,     0.96246,     0.96246,     0.96246,     0.96246,     0.96246,     0.96246,     0.96246,     0.96246,     0.96246,     0.96246,     0.96246,     0.96246,\n",
              "            0.96246,     0.96026,     0.96026,     0.96026,     0.96026,     0.96026,     0.96026,     0.96026,     0.96026,     0.96026,     0.96026,     0.96026,     0.96026,     0.96026,     0.96026,     0.96026,     0.96026,     0.96026,     0.96026,     0.96026,     0.96026,     0.96026,     0.96026,\n",
              "            0.96026,     0.96026,     0.96026,     0.95765,     0.95765,     0.95765,     0.95765,     0.95765,     0.95765,     0.95765,     0.95765,     0.95765,     0.95765,     0.95765,     0.95765,     0.95765,     0.95556,     0.95556,     0.95556,     0.95556,     0.95556,     0.95556,     0.95556,\n",
              "            0.95556,     0.95556,     0.95556,     0.95556,     0.95556,     0.95556,     0.95556,     0.95556,     0.95556,     0.95556,     0.95556,     0.95556,     0.95556,     0.95556,      0.9537,      0.9537,      0.9537,      0.9537,      0.9537,      0.9537,      0.9537,      0.9537,      0.9537,\n",
              "             0.9537,      0.9537,      0.9537,      0.9537,      0.9537,      0.9537,      0.9537,      0.9537,      0.9537,      0.9537,      0.9537,      0.9537,      0.9537,      0.9537,      0.9537,      0.9537,     0.95092,     0.95092,     0.95092,      0.9426,      0.9426,      0.9426,      0.9426,\n",
              "             0.9426,      0.9426,     0.93713,     0.93713,     0.93713,     0.93713,     0.93452,     0.93452,     0.93452,     0.93195,     0.93195,     0.93195,     0.92398,     0.92398,     0.92398,     0.91667,     0.91667,     0.91667,     0.91667,     0.91667,     0.91667,     0.91667,     0.91667,\n",
              "            0.91667,     0.91453,     0.91453,     0.91453,     0.91453,     0.91453,     0.91453,     0.86096,     0.86096,     0.86096,           0]]), 'Recall', 'Precision'], [array([          0,    0.001001,    0.002002,    0.003003,    0.004004,    0.005005,    0.006006,    0.007007,    0.008008,    0.009009,     0.01001,    0.011011,    0.012012,    0.013013,    0.014014,    0.015015,    0.016016,    0.017017,    0.018018,    0.019019,     0.02002,    0.021021,    0.022022,    0.023023,\n",
              "          0.024024,    0.025025,    0.026026,    0.027027,    0.028028,    0.029029,     0.03003,    0.031031,    0.032032,    0.033033,    0.034034,    0.035035,    0.036036,    0.037037,    0.038038,    0.039039,     0.04004,    0.041041,    0.042042,    0.043043,    0.044044,    0.045045,    0.046046,    0.047047,\n",
              "          0.048048,    0.049049,     0.05005,    0.051051,    0.052052,    0.053053,    0.054054,    0.055055,    0.056056,    0.057057,    0.058058,    0.059059,     0.06006,    0.061061,    0.062062,    0.063063,    0.064064,    0.065065,    0.066066,    0.067067,    0.068068,    0.069069,     0.07007,    0.071071,\n",
              "          0.072072,    0.073073,    0.074074,    0.075075,    0.076076,    0.077077,    0.078078,    0.079079,     0.08008,    0.081081,    0.082082,    0.083083,    0.084084,    0.085085,    0.086086,    0.087087,    0.088088,    0.089089,     0.09009,    0.091091,    0.092092,    0.093093,    0.094094,    0.095095,\n",
              "          0.096096,    0.097097,    0.098098,    0.099099,      0.1001,      0.1011,      0.1021,      0.1031,      0.1041,     0.10511,     0.10611,     0.10711,     0.10811,     0.10911,     0.11011,     0.11111,     0.11211,     0.11311,     0.11411,     0.11512,     0.11612,     0.11712,     0.11812,     0.11912,\n",
              "           0.12012,     0.12112,     0.12212,     0.12312,     0.12412,     0.12513,     0.12613,     0.12713,     0.12813,     0.12913,     0.13013,     0.13113,     0.13213,     0.13313,     0.13413,     0.13514,     0.13614,     0.13714,     0.13814,     0.13914,     0.14014,     0.14114,     0.14214,     0.14314,\n",
              "           0.14414,     0.14515,     0.14615,     0.14715,     0.14815,     0.14915,     0.15015,     0.15115,     0.15215,     0.15315,     0.15415,     0.15516,     0.15616,     0.15716,     0.15816,     0.15916,     0.16016,     0.16116,     0.16216,     0.16316,     0.16416,     0.16517,     0.16617,     0.16717,\n",
              "           0.16817,     0.16917,     0.17017,     0.17117,     0.17217,     0.17317,     0.17417,     0.17518,     0.17618,     0.17718,     0.17818,     0.17918,     0.18018,     0.18118,     0.18218,     0.18318,     0.18418,     0.18519,     0.18619,     0.18719,     0.18819,     0.18919,     0.19019,     0.19119,\n",
              "           0.19219,     0.19319,     0.19419,      0.1952,      0.1962,      0.1972,      0.1982,      0.1992,      0.2002,      0.2012,      0.2022,      0.2032,      0.2042,     0.20521,     0.20621,     0.20721,     0.20821,     0.20921,     0.21021,     0.21121,     0.21221,     0.21321,     0.21421,     0.21522,\n",
              "           0.21622,     0.21722,     0.21822,     0.21922,     0.22022,     0.22122,     0.22222,     0.22322,     0.22422,     0.22523,     0.22623,     0.22723,     0.22823,     0.22923,     0.23023,     0.23123,     0.23223,     0.23323,     0.23423,     0.23524,     0.23624,     0.23724,     0.23824,     0.23924,\n",
              "           0.24024,     0.24124,     0.24224,     0.24324,     0.24424,     0.24525,     0.24625,     0.24725,     0.24825,     0.24925,     0.25025,     0.25125,     0.25225,     0.25325,     0.25425,     0.25526,     0.25626,     0.25726,     0.25826,     0.25926,     0.26026,     0.26126,     0.26226,     0.26326,\n",
              "           0.26426,     0.26527,     0.26627,     0.26727,     0.26827,     0.26927,     0.27027,     0.27127,     0.27227,     0.27327,     0.27427,     0.27528,     0.27628,     0.27728,     0.27828,     0.27928,     0.28028,     0.28128,     0.28228,     0.28328,     0.28428,     0.28529,     0.28629,     0.28729,\n",
              "           0.28829,     0.28929,     0.29029,     0.29129,     0.29229,     0.29329,     0.29429,      0.2953,      0.2963,      0.2973,      0.2983,      0.2993,      0.3003,      0.3013,      0.3023,      0.3033,      0.3043,     0.30531,     0.30631,     0.30731,     0.30831,     0.30931,     0.31031,     0.31131,\n",
              "           0.31231,     0.31331,     0.31431,     0.31532,     0.31632,     0.31732,     0.31832,     0.31932,     0.32032,     0.32132,     0.32232,     0.32332,     0.32432,     0.32533,     0.32633,     0.32733,     0.32833,     0.32933,     0.33033,     0.33133,     0.33233,     0.33333,     0.33433,     0.33534,\n",
              "           0.33634,     0.33734,     0.33834,     0.33934,     0.34034,     0.34134,     0.34234,     0.34334,     0.34434,     0.34535,     0.34635,     0.34735,     0.34835,     0.34935,     0.35035,     0.35135,     0.35235,     0.35335,     0.35435,     0.35536,     0.35636,     0.35736,     0.35836,     0.35936,\n",
              "           0.36036,     0.36136,     0.36236,     0.36336,     0.36436,     0.36537,     0.36637,     0.36737,     0.36837,     0.36937,     0.37037,     0.37137,     0.37237,     0.37337,     0.37437,     0.37538,     0.37638,     0.37738,     0.37838,     0.37938,     0.38038,     0.38138,     0.38238,     0.38338,\n",
              "           0.38438,     0.38539,     0.38639,     0.38739,     0.38839,     0.38939,     0.39039,     0.39139,     0.39239,     0.39339,     0.39439,      0.3954,      0.3964,      0.3974,      0.3984,      0.3994,      0.4004,      0.4014,      0.4024,      0.4034,      0.4044,     0.40541,     0.40641,     0.40741,\n",
              "           0.40841,     0.40941,     0.41041,     0.41141,     0.41241,     0.41341,     0.41441,     0.41542,     0.41642,     0.41742,     0.41842,     0.41942,     0.42042,     0.42142,     0.42242,     0.42342,     0.42442,     0.42543,     0.42643,     0.42743,     0.42843,     0.42943,     0.43043,     0.43143,\n",
              "           0.43243,     0.43343,     0.43443,     0.43544,     0.43644,     0.43744,     0.43844,     0.43944,     0.44044,     0.44144,     0.44244,     0.44344,     0.44444,     0.44545,     0.44645,     0.44745,     0.44845,     0.44945,     0.45045,     0.45145,     0.45245,     0.45345,     0.45445,     0.45546,\n",
              "           0.45646,     0.45746,     0.45846,     0.45946,     0.46046,     0.46146,     0.46246,     0.46346,     0.46446,     0.46547,     0.46647,     0.46747,     0.46847,     0.46947,     0.47047,     0.47147,     0.47247,     0.47347,     0.47447,     0.47548,     0.47648,     0.47748,     0.47848,     0.47948,\n",
              "           0.48048,     0.48148,     0.48248,     0.48348,     0.48448,     0.48549,     0.48649,     0.48749,     0.48849,     0.48949,     0.49049,     0.49149,     0.49249,     0.49349,     0.49449,      0.4955,      0.4965,      0.4975,      0.4985,      0.4995,      0.5005,      0.5015,      0.5025,      0.5035,\n",
              "            0.5045,     0.50551,     0.50651,     0.50751,     0.50851,     0.50951,     0.51051,     0.51151,     0.51251,     0.51351,     0.51451,     0.51552,     0.51652,     0.51752,     0.51852,     0.51952,     0.52052,     0.52152,     0.52252,     0.52352,     0.52452,     0.52553,     0.52653,     0.52753,\n",
              "           0.52853,     0.52953,     0.53053,     0.53153,     0.53253,     0.53353,     0.53453,     0.53554,     0.53654,     0.53754,     0.53854,     0.53954,     0.54054,     0.54154,     0.54254,     0.54354,     0.54454,     0.54555,     0.54655,     0.54755,     0.54855,     0.54955,     0.55055,     0.55155,\n",
              "           0.55255,     0.55355,     0.55455,     0.55556,     0.55656,     0.55756,     0.55856,     0.55956,     0.56056,     0.56156,     0.56256,     0.56356,     0.56456,     0.56557,     0.56657,     0.56757,     0.56857,     0.56957,     0.57057,     0.57157,     0.57257,     0.57357,     0.57457,     0.57558,\n",
              "           0.57658,     0.57758,     0.57858,     0.57958,     0.58058,     0.58158,     0.58258,     0.58358,     0.58458,     0.58559,     0.58659,     0.58759,     0.58859,     0.58959,     0.59059,     0.59159,     0.59259,     0.59359,     0.59459,      0.5956,      0.5966,      0.5976,      0.5986,      0.5996,\n",
              "            0.6006,      0.6016,      0.6026,      0.6036,      0.6046,     0.60561,     0.60661,     0.60761,     0.60861,     0.60961,     0.61061,     0.61161,     0.61261,     0.61361,     0.61461,     0.61562,     0.61662,     0.61762,     0.61862,     0.61962,     0.62062,     0.62162,     0.62262,     0.62362,\n",
              "           0.62462,     0.62563,     0.62663,     0.62763,     0.62863,     0.62963,     0.63063,     0.63163,     0.63263,     0.63363,     0.63463,     0.63564,     0.63664,     0.63764,     0.63864,     0.63964,     0.64064,     0.64164,     0.64264,     0.64364,     0.64464,     0.64565,     0.64665,     0.64765,\n",
              "           0.64865,     0.64965,     0.65065,     0.65165,     0.65265,     0.65365,     0.65465,     0.65566,     0.65666,     0.65766,     0.65866,     0.65966,     0.66066,     0.66166,     0.66266,     0.66366,     0.66466,     0.66567,     0.66667,     0.66767,     0.66867,     0.66967,     0.67067,     0.67167,\n",
              "           0.67267,     0.67367,     0.67467,     0.67568,     0.67668,     0.67768,     0.67868,     0.67968,     0.68068,     0.68168,     0.68268,     0.68368,     0.68468,     0.68569,     0.68669,     0.68769,     0.68869,     0.68969,     0.69069,     0.69169,     0.69269,     0.69369,     0.69469,      0.6957,\n",
              "            0.6967,      0.6977,      0.6987,      0.6997,      0.7007,      0.7017,      0.7027,      0.7037,      0.7047,     0.70571,     0.70671,     0.70771,     0.70871,     0.70971,     0.71071,     0.71171,     0.71271,     0.71371,     0.71471,     0.71572,     0.71672,     0.71772,     0.71872,     0.71972,\n",
              "           0.72072,     0.72172,     0.72272,     0.72372,     0.72472,     0.72573,     0.72673,     0.72773,     0.72873,     0.72973,     0.73073,     0.73173,     0.73273,     0.73373,     0.73473,     0.73574,     0.73674,     0.73774,     0.73874,     0.73974,     0.74074,     0.74174,     0.74274,     0.74374,\n",
              "           0.74474,     0.74575,     0.74675,     0.74775,     0.74875,     0.74975,     0.75075,     0.75175,     0.75275,     0.75375,     0.75475,     0.75576,     0.75676,     0.75776,     0.75876,     0.75976,     0.76076,     0.76176,     0.76276,     0.76376,     0.76476,     0.76577,     0.76677,     0.76777,\n",
              "           0.76877,     0.76977,     0.77077,     0.77177,     0.77277,     0.77377,     0.77477,     0.77578,     0.77678,     0.77778,     0.77878,     0.77978,     0.78078,     0.78178,     0.78278,     0.78378,     0.78478,     0.78579,     0.78679,     0.78779,     0.78879,     0.78979,     0.79079,     0.79179,\n",
              "           0.79279,     0.79379,     0.79479,      0.7958,      0.7968,      0.7978,      0.7988,      0.7998,      0.8008,      0.8018,      0.8028,      0.8038,      0.8048,     0.80581,     0.80681,     0.80781,     0.80881,     0.80981,     0.81081,     0.81181,     0.81281,     0.81381,     0.81481,     0.81582,\n",
              "           0.81682,     0.81782,     0.81882,     0.81982,     0.82082,     0.82182,     0.82282,     0.82382,     0.82482,     0.82583,     0.82683,     0.82783,     0.82883,     0.82983,     0.83083,     0.83183,     0.83283,     0.83383,     0.83483,     0.83584,     0.83684,     0.83784,     0.83884,     0.83984,\n",
              "           0.84084,     0.84184,     0.84284,     0.84384,     0.84484,     0.84585,     0.84685,     0.84785,     0.84885,     0.84985,     0.85085,     0.85185,     0.85285,     0.85385,     0.85485,     0.85586,     0.85686,     0.85786,     0.85886,     0.85986,     0.86086,     0.86186,     0.86286,     0.86386,\n",
              "           0.86486,     0.86587,     0.86687,     0.86787,     0.86887,     0.86987,     0.87087,     0.87187,     0.87287,     0.87387,     0.87487,     0.87588,     0.87688,     0.87788,     0.87888,     0.87988,     0.88088,     0.88188,     0.88288,     0.88388,     0.88488,     0.88589,     0.88689,     0.88789,\n",
              "           0.88889,     0.88989,     0.89089,     0.89189,     0.89289,     0.89389,     0.89489,      0.8959,      0.8969,      0.8979,      0.8989,      0.8999,      0.9009,      0.9019,      0.9029,      0.9039,      0.9049,     0.90591,     0.90691,     0.90791,     0.90891,     0.90991,     0.91091,     0.91191,\n",
              "           0.91291,     0.91391,     0.91491,     0.91592,     0.91692,     0.91792,     0.91892,     0.91992,     0.92092,     0.92192,     0.92292,     0.92392,     0.92492,     0.92593,     0.92693,     0.92793,     0.92893,     0.92993,     0.93093,     0.93193,     0.93293,     0.93393,     0.93493,     0.93594,\n",
              "           0.93694,     0.93794,     0.93894,     0.93994,     0.94094,     0.94194,     0.94294,     0.94394,     0.94494,     0.94595,     0.94695,     0.94795,     0.94895,     0.94995,     0.95095,     0.95195,     0.95295,     0.95395,     0.95495,     0.95596,     0.95696,     0.95796,     0.95896,     0.95996,\n",
              "           0.96096,     0.96196,     0.96296,     0.96396,     0.96496,     0.96597,     0.96697,     0.96797,     0.96897,     0.96997,     0.97097,     0.97197,     0.97297,     0.97397,     0.97497,     0.97598,     0.97698,     0.97798,     0.97898,     0.97998,     0.98098,     0.98198,     0.98298,     0.98398,\n",
              "           0.98498,     0.98599,     0.98699,     0.98799,     0.98899,     0.98999,     0.99099,     0.99199,     0.99299,     0.99399,     0.99499,       0.996,       0.997,       0.998,       0.999,           1]), array([[    0.24039,     0.24039,     0.47073,     0.61445,     0.71153,     0.77986,     0.81112,     0.83741,     0.86084,     0.87703,     0.89109,     0.89639,     0.90339,     0.90427,     0.90672,     0.90824,     0.91044,     0.91174,     0.91365,      0.9161,     0.91806,     0.91916,     0.92135,\n",
              "            0.92156,     0.92177,     0.92198,     0.92219,      0.9224,     0.92261,     0.92341,     0.92418,     0.92477,     0.92503,      0.9251,     0.92519,     0.92529,     0.92539,     0.92548,     0.92558,     0.92568,     0.92577,     0.92587,     0.92597,     0.92606,     0.92616,     0.92625,\n",
              "            0.92635,     0.92683,     0.92777,     0.92795,     0.92814,     0.92833,     0.92852,      0.9287,     0.92889,     0.92908,      0.9295,     0.92993,     0.93036,     0.93129,     0.93228,     0.93318,     0.93368,     0.93417,     0.93459,     0.93488,     0.93516,     0.93544,     0.93573,\n",
              "            0.93591,     0.93601,     0.93612,     0.93622,     0.93632,     0.93642,     0.93652,     0.93662,     0.93672,     0.93682,     0.93692,     0.93702,     0.93712,     0.93723,     0.93738,     0.93754,      0.9377,     0.93786,     0.93802,     0.93817,     0.93833,     0.93849,     0.93863,\n",
              "            0.93874,     0.93885,     0.93896,     0.93907,     0.93918,     0.93929,      0.9394,      0.9395,     0.93961,     0.93972,     0.93983,     0.93994,     0.94008,     0.94024,      0.9404,     0.94055,     0.94071,     0.94087,     0.94102,     0.94118,     0.94134,     0.94144,     0.94153,\n",
              "            0.94162,     0.94172,     0.94181,      0.9419,       0.942,     0.94209,     0.94219,     0.94228,     0.94237,     0.94247,     0.94256,     0.94265,     0.94275,     0.94287,     0.94298,      0.9431,     0.94322,     0.94333,     0.94345,     0.94356,     0.94368,      0.9438,     0.94391,\n",
              "            0.94403,     0.94423,     0.94472,     0.94522,     0.94555,     0.94566,     0.94577,     0.94588,     0.94599,      0.9461,     0.94621,     0.94632,     0.94643,     0.94653,     0.94664,     0.94675,     0.94686,     0.94693,     0.94696,       0.947,     0.94704,     0.94708,     0.94711,\n",
              "            0.94715,     0.94719,     0.94723,     0.94726,      0.9473,     0.94734,     0.94738,     0.94741,     0.94745,     0.94749,     0.94753,     0.94756,      0.9476,     0.94764,     0.94768,     0.94771,     0.94775,     0.94779,     0.94783,     0.94786,      0.9479,     0.94794,     0.94798,\n",
              "            0.94801,     0.94805,     0.94809,     0.94813,     0.94816,      0.9482,     0.94824,     0.94828,     0.94838,     0.94863,     0.94889,     0.94914,      0.9494,     0.94966,     0.95114,     0.95153,     0.95191,      0.9523,     0.95262,     0.95285,     0.95308,     0.95332,     0.95355,\n",
              "            0.95378,      0.9539,     0.95377,     0.95364,     0.95351,     0.95338,     0.95325,     0.95312,     0.95299,     0.95286,     0.95274,     0.95261,     0.95248,     0.95236,     0.95229,     0.95221,     0.95214,     0.95206,     0.95199,     0.95191,     0.95184,     0.95176,     0.95168,\n",
              "            0.95161,     0.95153,     0.95146,     0.95138,     0.95131,     0.95123,     0.95116,     0.95108,     0.95101,     0.95093,     0.95086,     0.95086,     0.95094,     0.95102,      0.9511,     0.95119,     0.95127,     0.95135,     0.95143,     0.95151,     0.95159,     0.95167,     0.95175,\n",
              "            0.95183,     0.95191,     0.95199,     0.95207,     0.95215,     0.95224,     0.95147,     0.95067,     0.95054,      0.9504,     0.95027,     0.95014,        0.95,     0.94987,     0.94973,      0.9496,     0.94946,     0.94933,      0.9492,     0.94909,     0.94906,     0.94902,     0.94899,\n",
              "            0.94896,     0.94892,     0.94889,     0.94885,     0.94882,     0.94879,     0.94875,     0.94872,     0.94868,     0.94865,     0.94862,     0.94858,     0.94855,     0.94851,     0.94848,     0.94845,     0.94841,     0.94838,     0.94834,     0.94831,     0.94828,     0.94824,     0.94821,\n",
              "            0.94817,     0.94814,     0.94811,     0.94807,     0.94804,       0.948,     0.94797,     0.94794,      0.9479,     0.94787,     0.94783,      0.9478,     0.94777,     0.94773,      0.9477,     0.94766,     0.94763,      0.9476,     0.94756,     0.94753,     0.94761,     0.94769,     0.94777,\n",
              "            0.94786,     0.94794,     0.94802,     0.94811,     0.94819,     0.94827,     0.94836,     0.94844,     0.94852,     0.94861,     0.94869,     0.94877,     0.94886,     0.94894,     0.94908,     0.94923,     0.94937,     0.94952,     0.94966,     0.94981,     0.94996,      0.9501,     0.95025,\n",
              "            0.95038,     0.95044,     0.95049,     0.95055,      0.9506,     0.95066,     0.95072,     0.95077,     0.95083,     0.95088,     0.95094,     0.95099,     0.95105,      0.9511,     0.95116,     0.95121,     0.95127,     0.95132,     0.95138,     0.95144,     0.95149,     0.95155,      0.9516,\n",
              "            0.95166,     0.95171,     0.95177,     0.95175,     0.95156,     0.95137,     0.95118,     0.95099,      0.9508,     0.95061,     0.95042,     0.95023,     0.95166,     0.95173,     0.95179,     0.95186,     0.95192,     0.95199,     0.95205,     0.95212,     0.95218,     0.95225,     0.95231,\n",
              "            0.95238,     0.95244,     0.95251,     0.95257,     0.95264,      0.9527,     0.95277,     0.95283,     0.95289,     0.95296,     0.95302,     0.95309,     0.95312,     0.95315,     0.95317,      0.9532,     0.95323,     0.95325,     0.95328,     0.95331,     0.95333,     0.95336,     0.95338,\n",
              "            0.95341,     0.95344,     0.95346,     0.95349,     0.95351,     0.95354,     0.95357,     0.95359,     0.95362,     0.95364,     0.95367,      0.9537,     0.95372,     0.95375,     0.95378,      0.9538,     0.95383,     0.95385,     0.95388,     0.95391,     0.95393,     0.95396,     0.95398,\n",
              "            0.95401,     0.95404,     0.95406,     0.95409,     0.95411,     0.95414,     0.95417,     0.95419,     0.95422,     0.95424,     0.95427,      0.9543,     0.95432,     0.95435,     0.95437,      0.9544,     0.95443,     0.95445,     0.95448,     0.95451,     0.95453,     0.95381,     0.95304,\n",
              "             0.9532,     0.95337,     0.95353,      0.9537,     0.95386,     0.95403,     0.95419,     0.95436,     0.95438,     0.95435,     0.95431,     0.95428,     0.95424,     0.95421,     0.95417,     0.95413,      0.9541,     0.95406,     0.95403,     0.95399,     0.95396,     0.95392,     0.95389,\n",
              "            0.95385,     0.95382,     0.95378,     0.95374,     0.95371,     0.95367,     0.95364,      0.9536,     0.95357,     0.95353,      0.9535,     0.95346,     0.95343,     0.95339,     0.95335,     0.95332,     0.95328,     0.95325,     0.95321,     0.95318,     0.95314,     0.95311,     0.95307,\n",
              "            0.95304,       0.953,     0.95296,     0.95293,     0.95289,     0.95286,     0.95282,     0.95299,      0.9532,     0.95342,     0.95363,     0.95384,     0.95405,     0.95427,       0.954,     0.95373,     0.95345,     0.95318,     0.95291,     0.95268,     0.95276,     0.95283,     0.95291,\n",
              "            0.95298,     0.95306,     0.95313,      0.9532,     0.95328,     0.95335,     0.95343,      0.9535,     0.95358,     0.95365,     0.95373,      0.9538,     0.95388,     0.95395,     0.95403,      0.9541,     0.95419,      0.9543,      0.9544,      0.9545,     0.95461,     0.95471,     0.95481,\n",
              "            0.95492,     0.95502,     0.95512,     0.95523,     0.95533,     0.95543,     0.95554,     0.95556,      0.9555,     0.95545,     0.95539,     0.95533,     0.95527,     0.95522,     0.95516,      0.9551,     0.95504,     0.95499,     0.95493,     0.95487,     0.95481,     0.95476,      0.9547,\n",
              "            0.95464,     0.95458,     0.95453,     0.95447,     0.95441,     0.95435,     0.95429,     0.95424,     0.95418,     0.95412,     0.95406,     0.95401,      0.9538,     0.95353,     0.95325,     0.95298,     0.95271,     0.95243,     0.95279,     0.95329,     0.95379,     0.95391,     0.95397,\n",
              "            0.95404,     0.95411,     0.95417,     0.95424,     0.95431,     0.95438,     0.95444,     0.95451,     0.95458,     0.95464,     0.95471,     0.95478,     0.95484,     0.95491,     0.95498,     0.95504,     0.95511,     0.95518,     0.95525,     0.95531,     0.95544,     0.95557,      0.9557,\n",
              "            0.95583,     0.95597,      0.9561,     0.95623,     0.95636,     0.95649,     0.95662,     0.95675,     0.95639,     0.95584,     0.95529,     0.95566,     0.95627,     0.95657,     0.95631,     0.95606,      0.9558,     0.95555,     0.95529,     0.95503,     0.95419,     0.95341,     0.95325,\n",
              "             0.9531,     0.95295,      0.9528,     0.95265,      0.9525,     0.95235,     0.95219,     0.95204,     0.95189,     0.95142,      0.9503,     0.94837,      0.9482,     0.94804,     0.94787,      0.9477,     0.94753,     0.94736,     0.94719,     0.94702,     0.94687,     0.94679,     0.94671,\n",
              "            0.94662,     0.94654,     0.94646,     0.94638,      0.9463,     0.94622,     0.94614,     0.94606,     0.94598,      0.9459,     0.94582,     0.94574,     0.94566,     0.94558,      0.9455,     0.94542,     0.94534,     0.94526,     0.94492,     0.94444,     0.94396,     0.94482,     0.94368,\n",
              "            0.94297,      0.9424,     0.94183,      0.9408,     0.93997,      0.9397,     0.93944,     0.93918,     0.93891,     0.93865,     0.93838,     0.93804,     0.93769,     0.93735,     0.93701,      0.9367,     0.93663,     0.93656,     0.93649,     0.93642,     0.93635,     0.93628,     0.93621,\n",
              "            0.93614,     0.93607,     0.93599,     0.93592,     0.93585,     0.93578,     0.93571,     0.93564,     0.93557,      0.9355,     0.93543,     0.93536,     0.93529,     0.93522,     0.93515,     0.93508,     0.93497,     0.93472,     0.93447,     0.93422,     0.93398,     0.93373,     0.93348,\n",
              "            0.93344,     0.93369,     0.93394,      0.9342,     0.93445,      0.9347,     0.93297,      0.9327,     0.93244,     0.93217,      0.9319,     0.93163,     0.93067,     0.92874,     0.92941,     0.92912,     0.92882,     0.92853,     0.92824,     0.92794,     0.92756,     0.92706,     0.92655,\n",
              "            0.92605,      0.9256,     0.92516,     0.92472,     0.92429,     0.92396,     0.92364,     0.92332,     0.92299,     0.92267,     0.92172,     0.92071,     0.92019,     0.91968,     0.91917,     0.91808,     0.91596,     0.91627,     0.91703,     0.91622,     0.91531,     0.91347,     0.90934,\n",
              "            0.90795,     0.90587,     0.90495,     0.90344,      0.9024,     0.90178,     0.90116,     0.90031,     0.89938,      0.8959,     0.89218,     0.89268,     0.89355,     0.89417,     0.89478,     0.89243,     0.89116,     0.88852,     0.88775,     0.88547,     0.88418,      0.8814,     0.87869,\n",
              "            0.87099,     0.86232,     0.86098,     0.85489,      0.8559,     0.85063,     0.84353,     0.83672,     0.82455,     0.81936,     0.81919,     0.80182,     0.79383,     0.79049,     0.78698,      0.7858,      0.7811,     0.77002,     0.76145,     0.75331,     0.74833,     0.73105,     0.70866,\n",
              "            0.70285,     0.68429,     0.67066,     0.66504,     0.65331,     0.64805,     0.64359,     0.63196,     0.61717,     0.61186,     0.60793,     0.58024,     0.56431,     0.55774,     0.54481,     0.52109,     0.50379,      0.4866,     0.47877,     0.46777,      0.4566,     0.43397,      0.4223,\n",
              "            0.40809,     0.40541,     0.39426,     0.37741,     0.36219,     0.34905,     0.34066,     0.30996,      0.2827,     0.25926,     0.24479,     0.23492,     0.21511,     0.20302,     0.19534,     0.18416,     0.17203,     0.15767,     0.14209,     0.13934,     0.13045,      0.1244,     0.11505,\n",
              "            0.10731,     0.10087,    0.078508,    0.076252,    0.074779,    0.073303,    0.071729,    0.066005,    0.064681,    0.063356,    0.062028,    0.060699,    0.053662,    0.052565,    0.051467,    0.050368,    0.049267,    0.047781,    0.045352,    0.042916,    0.034354,    0.028185,    0.024028,\n",
              "           0.022784,    0.021539,    0.020292,    0.019044,    0.017125,    0.014619,    0.012146,    0.010047,   0.0079442,           0,           0,           0,           0,           0,           0,           0,           0,           0,           0,           0,           0,           0,           0,\n",
              "                  0,           0,           0,           0,           0,           0,           0,           0,           0,           0,           0,           0,           0,           0,           0,           0,           0,           0,           0,           0,           0,           0,           0,\n",
              "                  0,           0,           0,           0,           0,           0,           0,           0,           0,           0,           0,           0,           0,           0,           0,           0,           0,           0,           0,           0,           0,           0,           0,\n",
              "                  0,           0,           0,           0,           0,           0,           0,           0,           0,           0,           0,           0,           0,           0,           0,           0,           0,           0,           0,           0,           0,           0,           0,\n",
              "                  0,           0,           0,           0,           0,           0,           0,           0,           0,           0,           0]]), 'Confidence', 'F1'], [array([          0,    0.001001,    0.002002,    0.003003,    0.004004,    0.005005,    0.006006,    0.007007,    0.008008,    0.009009,     0.01001,    0.011011,    0.012012,    0.013013,    0.014014,    0.015015,    0.016016,    0.017017,    0.018018,    0.019019,     0.02002,    0.021021,    0.022022,    0.023023,\n",
              "          0.024024,    0.025025,    0.026026,    0.027027,    0.028028,    0.029029,     0.03003,    0.031031,    0.032032,    0.033033,    0.034034,    0.035035,    0.036036,    0.037037,    0.038038,    0.039039,     0.04004,    0.041041,    0.042042,    0.043043,    0.044044,    0.045045,    0.046046,    0.047047,\n",
              "          0.048048,    0.049049,     0.05005,    0.051051,    0.052052,    0.053053,    0.054054,    0.055055,    0.056056,    0.057057,    0.058058,    0.059059,     0.06006,    0.061061,    0.062062,    0.063063,    0.064064,    0.065065,    0.066066,    0.067067,    0.068068,    0.069069,     0.07007,    0.071071,\n",
              "          0.072072,    0.073073,    0.074074,    0.075075,    0.076076,    0.077077,    0.078078,    0.079079,     0.08008,    0.081081,    0.082082,    0.083083,    0.084084,    0.085085,    0.086086,    0.087087,    0.088088,    0.089089,     0.09009,    0.091091,    0.092092,    0.093093,    0.094094,    0.095095,\n",
              "          0.096096,    0.097097,    0.098098,    0.099099,      0.1001,      0.1011,      0.1021,      0.1031,      0.1041,     0.10511,     0.10611,     0.10711,     0.10811,     0.10911,     0.11011,     0.11111,     0.11211,     0.11311,     0.11411,     0.11512,     0.11612,     0.11712,     0.11812,     0.11912,\n",
              "           0.12012,     0.12112,     0.12212,     0.12312,     0.12412,     0.12513,     0.12613,     0.12713,     0.12813,     0.12913,     0.13013,     0.13113,     0.13213,     0.13313,     0.13413,     0.13514,     0.13614,     0.13714,     0.13814,     0.13914,     0.14014,     0.14114,     0.14214,     0.14314,\n",
              "           0.14414,     0.14515,     0.14615,     0.14715,     0.14815,     0.14915,     0.15015,     0.15115,     0.15215,     0.15315,     0.15415,     0.15516,     0.15616,     0.15716,     0.15816,     0.15916,     0.16016,     0.16116,     0.16216,     0.16316,     0.16416,     0.16517,     0.16617,     0.16717,\n",
              "           0.16817,     0.16917,     0.17017,     0.17117,     0.17217,     0.17317,     0.17417,     0.17518,     0.17618,     0.17718,     0.17818,     0.17918,     0.18018,     0.18118,     0.18218,     0.18318,     0.18418,     0.18519,     0.18619,     0.18719,     0.18819,     0.18919,     0.19019,     0.19119,\n",
              "           0.19219,     0.19319,     0.19419,      0.1952,      0.1962,      0.1972,      0.1982,      0.1992,      0.2002,      0.2012,      0.2022,      0.2032,      0.2042,     0.20521,     0.20621,     0.20721,     0.20821,     0.20921,     0.21021,     0.21121,     0.21221,     0.21321,     0.21421,     0.21522,\n",
              "           0.21622,     0.21722,     0.21822,     0.21922,     0.22022,     0.22122,     0.22222,     0.22322,     0.22422,     0.22523,     0.22623,     0.22723,     0.22823,     0.22923,     0.23023,     0.23123,     0.23223,     0.23323,     0.23423,     0.23524,     0.23624,     0.23724,     0.23824,     0.23924,\n",
              "           0.24024,     0.24124,     0.24224,     0.24324,     0.24424,     0.24525,     0.24625,     0.24725,     0.24825,     0.24925,     0.25025,     0.25125,     0.25225,     0.25325,     0.25425,     0.25526,     0.25626,     0.25726,     0.25826,     0.25926,     0.26026,     0.26126,     0.26226,     0.26326,\n",
              "           0.26426,     0.26527,     0.26627,     0.26727,     0.26827,     0.26927,     0.27027,     0.27127,     0.27227,     0.27327,     0.27427,     0.27528,     0.27628,     0.27728,     0.27828,     0.27928,     0.28028,     0.28128,     0.28228,     0.28328,     0.28428,     0.28529,     0.28629,     0.28729,\n",
              "           0.28829,     0.28929,     0.29029,     0.29129,     0.29229,     0.29329,     0.29429,      0.2953,      0.2963,      0.2973,      0.2983,      0.2993,      0.3003,      0.3013,      0.3023,      0.3033,      0.3043,     0.30531,     0.30631,     0.30731,     0.30831,     0.30931,     0.31031,     0.31131,\n",
              "           0.31231,     0.31331,     0.31431,     0.31532,     0.31632,     0.31732,     0.31832,     0.31932,     0.32032,     0.32132,     0.32232,     0.32332,     0.32432,     0.32533,     0.32633,     0.32733,     0.32833,     0.32933,     0.33033,     0.33133,     0.33233,     0.33333,     0.33433,     0.33534,\n",
              "           0.33634,     0.33734,     0.33834,     0.33934,     0.34034,     0.34134,     0.34234,     0.34334,     0.34434,     0.34535,     0.34635,     0.34735,     0.34835,     0.34935,     0.35035,     0.35135,     0.35235,     0.35335,     0.35435,     0.35536,     0.35636,     0.35736,     0.35836,     0.35936,\n",
              "           0.36036,     0.36136,     0.36236,     0.36336,     0.36436,     0.36537,     0.36637,     0.36737,     0.36837,     0.36937,     0.37037,     0.37137,     0.37237,     0.37337,     0.37437,     0.37538,     0.37638,     0.37738,     0.37838,     0.37938,     0.38038,     0.38138,     0.38238,     0.38338,\n",
              "           0.38438,     0.38539,     0.38639,     0.38739,     0.38839,     0.38939,     0.39039,     0.39139,     0.39239,     0.39339,     0.39439,      0.3954,      0.3964,      0.3974,      0.3984,      0.3994,      0.4004,      0.4014,      0.4024,      0.4034,      0.4044,     0.40541,     0.40641,     0.40741,\n",
              "           0.40841,     0.40941,     0.41041,     0.41141,     0.41241,     0.41341,     0.41441,     0.41542,     0.41642,     0.41742,     0.41842,     0.41942,     0.42042,     0.42142,     0.42242,     0.42342,     0.42442,     0.42543,     0.42643,     0.42743,     0.42843,     0.42943,     0.43043,     0.43143,\n",
              "           0.43243,     0.43343,     0.43443,     0.43544,     0.43644,     0.43744,     0.43844,     0.43944,     0.44044,     0.44144,     0.44244,     0.44344,     0.44444,     0.44545,     0.44645,     0.44745,     0.44845,     0.44945,     0.45045,     0.45145,     0.45245,     0.45345,     0.45445,     0.45546,\n",
              "           0.45646,     0.45746,     0.45846,     0.45946,     0.46046,     0.46146,     0.46246,     0.46346,     0.46446,     0.46547,     0.46647,     0.46747,     0.46847,     0.46947,     0.47047,     0.47147,     0.47247,     0.47347,     0.47447,     0.47548,     0.47648,     0.47748,     0.47848,     0.47948,\n",
              "           0.48048,     0.48148,     0.48248,     0.48348,     0.48448,     0.48549,     0.48649,     0.48749,     0.48849,     0.48949,     0.49049,     0.49149,     0.49249,     0.49349,     0.49449,      0.4955,      0.4965,      0.4975,      0.4985,      0.4995,      0.5005,      0.5015,      0.5025,      0.5035,\n",
              "            0.5045,     0.50551,     0.50651,     0.50751,     0.50851,     0.50951,     0.51051,     0.51151,     0.51251,     0.51351,     0.51451,     0.51552,     0.51652,     0.51752,     0.51852,     0.51952,     0.52052,     0.52152,     0.52252,     0.52352,     0.52452,     0.52553,     0.52653,     0.52753,\n",
              "           0.52853,     0.52953,     0.53053,     0.53153,     0.53253,     0.53353,     0.53453,     0.53554,     0.53654,     0.53754,     0.53854,     0.53954,     0.54054,     0.54154,     0.54254,     0.54354,     0.54454,     0.54555,     0.54655,     0.54755,     0.54855,     0.54955,     0.55055,     0.55155,\n",
              "           0.55255,     0.55355,     0.55455,     0.55556,     0.55656,     0.55756,     0.55856,     0.55956,     0.56056,     0.56156,     0.56256,     0.56356,     0.56456,     0.56557,     0.56657,     0.56757,     0.56857,     0.56957,     0.57057,     0.57157,     0.57257,     0.57357,     0.57457,     0.57558,\n",
              "           0.57658,     0.57758,     0.57858,     0.57958,     0.58058,     0.58158,     0.58258,     0.58358,     0.58458,     0.58559,     0.58659,     0.58759,     0.58859,     0.58959,     0.59059,     0.59159,     0.59259,     0.59359,     0.59459,      0.5956,      0.5966,      0.5976,      0.5986,      0.5996,\n",
              "            0.6006,      0.6016,      0.6026,      0.6036,      0.6046,     0.60561,     0.60661,     0.60761,     0.60861,     0.60961,     0.61061,     0.61161,     0.61261,     0.61361,     0.61461,     0.61562,     0.61662,     0.61762,     0.61862,     0.61962,     0.62062,     0.62162,     0.62262,     0.62362,\n",
              "           0.62462,     0.62563,     0.62663,     0.62763,     0.62863,     0.62963,     0.63063,     0.63163,     0.63263,     0.63363,     0.63463,     0.63564,     0.63664,     0.63764,     0.63864,     0.63964,     0.64064,     0.64164,     0.64264,     0.64364,     0.64464,     0.64565,     0.64665,     0.64765,\n",
              "           0.64865,     0.64965,     0.65065,     0.65165,     0.65265,     0.65365,     0.65465,     0.65566,     0.65666,     0.65766,     0.65866,     0.65966,     0.66066,     0.66166,     0.66266,     0.66366,     0.66466,     0.66567,     0.66667,     0.66767,     0.66867,     0.66967,     0.67067,     0.67167,\n",
              "           0.67267,     0.67367,     0.67467,     0.67568,     0.67668,     0.67768,     0.67868,     0.67968,     0.68068,     0.68168,     0.68268,     0.68368,     0.68468,     0.68569,     0.68669,     0.68769,     0.68869,     0.68969,     0.69069,     0.69169,     0.69269,     0.69369,     0.69469,      0.6957,\n",
              "            0.6967,      0.6977,      0.6987,      0.6997,      0.7007,      0.7017,      0.7027,      0.7037,      0.7047,     0.70571,     0.70671,     0.70771,     0.70871,     0.70971,     0.71071,     0.71171,     0.71271,     0.71371,     0.71471,     0.71572,     0.71672,     0.71772,     0.71872,     0.71972,\n",
              "           0.72072,     0.72172,     0.72272,     0.72372,     0.72472,     0.72573,     0.72673,     0.72773,     0.72873,     0.72973,     0.73073,     0.73173,     0.73273,     0.73373,     0.73473,     0.73574,     0.73674,     0.73774,     0.73874,     0.73974,     0.74074,     0.74174,     0.74274,     0.74374,\n",
              "           0.74474,     0.74575,     0.74675,     0.74775,     0.74875,     0.74975,     0.75075,     0.75175,     0.75275,     0.75375,     0.75475,     0.75576,     0.75676,     0.75776,     0.75876,     0.75976,     0.76076,     0.76176,     0.76276,     0.76376,     0.76476,     0.76577,     0.76677,     0.76777,\n",
              "           0.76877,     0.76977,     0.77077,     0.77177,     0.77277,     0.77377,     0.77477,     0.77578,     0.77678,     0.77778,     0.77878,     0.77978,     0.78078,     0.78178,     0.78278,     0.78378,     0.78478,     0.78579,     0.78679,     0.78779,     0.78879,     0.78979,     0.79079,     0.79179,\n",
              "           0.79279,     0.79379,     0.79479,      0.7958,      0.7968,      0.7978,      0.7988,      0.7998,      0.8008,      0.8018,      0.8028,      0.8038,      0.8048,     0.80581,     0.80681,     0.80781,     0.80881,     0.80981,     0.81081,     0.81181,     0.81281,     0.81381,     0.81481,     0.81582,\n",
              "           0.81682,     0.81782,     0.81882,     0.81982,     0.82082,     0.82182,     0.82282,     0.82382,     0.82482,     0.82583,     0.82683,     0.82783,     0.82883,     0.82983,     0.83083,     0.83183,     0.83283,     0.83383,     0.83483,     0.83584,     0.83684,     0.83784,     0.83884,     0.83984,\n",
              "           0.84084,     0.84184,     0.84284,     0.84384,     0.84484,     0.84585,     0.84685,     0.84785,     0.84885,     0.84985,     0.85085,     0.85185,     0.85285,     0.85385,     0.85485,     0.85586,     0.85686,     0.85786,     0.85886,     0.85986,     0.86086,     0.86186,     0.86286,     0.86386,\n",
              "           0.86486,     0.86587,     0.86687,     0.86787,     0.86887,     0.86987,     0.87087,     0.87187,     0.87287,     0.87387,     0.87487,     0.87588,     0.87688,     0.87788,     0.87888,     0.87988,     0.88088,     0.88188,     0.88288,     0.88388,     0.88488,     0.88589,     0.88689,     0.88789,\n",
              "           0.88889,     0.88989,     0.89089,     0.89189,     0.89289,     0.89389,     0.89489,      0.8959,      0.8969,      0.8979,      0.8989,      0.8999,      0.9009,      0.9019,      0.9029,      0.9039,      0.9049,     0.90591,     0.90691,     0.90791,     0.90891,     0.90991,     0.91091,     0.91191,\n",
              "           0.91291,     0.91391,     0.91491,     0.91592,     0.91692,     0.91792,     0.91892,     0.91992,     0.92092,     0.92192,     0.92292,     0.92392,     0.92492,     0.92593,     0.92693,     0.92793,     0.92893,     0.92993,     0.93093,     0.93193,     0.93293,     0.93393,     0.93493,     0.93594,\n",
              "           0.93694,     0.93794,     0.93894,     0.93994,     0.94094,     0.94194,     0.94294,     0.94394,     0.94494,     0.94595,     0.94695,     0.94795,     0.94895,     0.94995,     0.95095,     0.95195,     0.95295,     0.95395,     0.95495,     0.95596,     0.95696,     0.95796,     0.95896,     0.95996,\n",
              "           0.96096,     0.96196,     0.96296,     0.96396,     0.96496,     0.96597,     0.96697,     0.96797,     0.96897,     0.96997,     0.97097,     0.97197,     0.97297,     0.97397,     0.97497,     0.97598,     0.97698,     0.97798,     0.97898,     0.97998,     0.98098,     0.98198,     0.98298,     0.98398,\n",
              "           0.98498,     0.98599,     0.98699,     0.98799,     0.98899,     0.98999,     0.99099,     0.99199,     0.99299,     0.99399,     0.99499,       0.996,       0.997,       0.998,       0.999,           1]), array([[    0.13661,     0.13661,     0.30781,     0.44347,     0.55223,     0.63915,     0.68226,     0.72029,     0.75568,       0.781,     0.80358,     0.81223,      0.8238,     0.82526,     0.82936,      0.8319,      0.8356,      0.8378,     0.84103,     0.84519,     0.84853,     0.85041,     0.85417,\n",
              "            0.85453,     0.85489,     0.85525,     0.85561,     0.85597,     0.85633,     0.85771,     0.85905,     0.86006,      0.8609,     0.86295,     0.86311,     0.86328,     0.86345,     0.86362,     0.86379,     0.86395,     0.86412,     0.86429,     0.86446,     0.86463,     0.86479,     0.86496,\n",
              "            0.86513,     0.86597,      0.8676,     0.86793,     0.86826,     0.86859,     0.86891,     0.86924,     0.86957,      0.8699,     0.87063,     0.87139,     0.87215,     0.87379,     0.87553,     0.87713,       0.878,     0.87888,     0.87962,     0.88013,     0.88063,     0.88113,     0.88163,\n",
              "            0.88196,     0.88214,     0.88232,      0.8825,     0.88268,     0.88286,     0.88304,     0.88322,      0.8834,     0.88358,     0.88376,     0.88394,     0.88412,      0.8843,     0.88458,     0.88486,     0.88514,     0.88542,     0.88571,     0.88599,     0.88627,     0.88655,      0.8868,\n",
              "              0.887,     0.88719,     0.88739,     0.88758,     0.88778,     0.88797,     0.88817,     0.88836,     0.88856,     0.88875,     0.88895,     0.88914,      0.8894,     0.88968,     0.88996,     0.89024,     0.89052,      0.8908,     0.89108,     0.89137,     0.89165,     0.89182,     0.89199,\n",
              "            0.89216,     0.89233,      0.8925,     0.89266,     0.89283,       0.893,     0.89317,     0.89334,     0.89351,     0.89367,     0.89384,     0.89401,     0.89419,      0.8944,      0.8946,     0.89481,     0.89502,     0.89523,     0.89544,     0.89565,     0.89586,     0.89607,     0.89628,\n",
              "            0.89649,     0.89685,     0.89774,     0.89864,     0.89924,     0.89944,     0.89964,     0.89983,     0.90003,     0.90023,     0.90043,     0.90062,     0.90082,     0.90102,     0.90121,     0.90141,     0.90161,     0.90173,      0.9018,     0.90186,     0.90193,       0.902,     0.90207,\n",
              "            0.90214,      0.9022,     0.90227,     0.90234,     0.90241,     0.90248,     0.90254,     0.90261,     0.90268,     0.90275,     0.90282,     0.90288,     0.90295,     0.90302,     0.90309,     0.90316,     0.90322,     0.90329,     0.90336,     0.90343,      0.9035,     0.90356,     0.90363,\n",
              "             0.9037,     0.90377,     0.90384,     0.90391,     0.90397,     0.90404,     0.90411,     0.90418,     0.90436,     0.90483,     0.90529,     0.90576,     0.90623,     0.90669,      0.9094,     0.91011,     0.91082,     0.91152,     0.91211,     0.91254,     0.91296,     0.91339,     0.91381,\n",
              "            0.91424,     0.91452,      0.9145,     0.91448,     0.91446,     0.91444,     0.91442,      0.9144,     0.91438,     0.91436,     0.91434,     0.91432,      0.9143,     0.91428,     0.91427,     0.91426,     0.91425,     0.91424,     0.91422,     0.91421,      0.9142,     0.91419,     0.91418,\n",
              "            0.91416,     0.91415,     0.91414,     0.91413,     0.91412,     0.91411,     0.91409,     0.91408,     0.91407,     0.91406,     0.91405,     0.91412,     0.91427,     0.91442,     0.91457,     0.91472,     0.91487,     0.91502,     0.91516,     0.91531,     0.91546,     0.91561,     0.91576,\n",
              "            0.91591,     0.91606,     0.91621,     0.91636,     0.91651,     0.91666,     0.91655,     0.91643,     0.91641,     0.91639,     0.91636,     0.91634,     0.91632,      0.9163,     0.91628,     0.91626,     0.91624,     0.91622,      0.9162,     0.91618,     0.91618,     0.91617,     0.91617,\n",
              "            0.91616,     0.91616,     0.91615,     0.91615,     0.91614,     0.91614,     0.91613,     0.91613,     0.91612,     0.91612,     0.91611,      0.9161,      0.9161,     0.91609,     0.91609,     0.91608,     0.91608,     0.91607,     0.91607,     0.91606,     0.91606,     0.91605,     0.91605,\n",
              "            0.91604,     0.91604,     0.91603,     0.91603,     0.91602,     0.91602,     0.91601,     0.91601,       0.916,     0.91599,     0.91599,     0.91598,     0.91598,     0.91597,     0.91597,     0.91596,     0.91596,     0.91595,     0.91595,     0.91594,     0.91609,     0.91625,      0.9164,\n",
              "            0.91656,     0.91672,     0.91687,     0.91703,     0.91718,     0.91734,      0.9175,     0.91765,     0.91781,     0.91796,     0.91812,     0.91827,     0.91843,     0.91859,     0.91885,     0.91912,      0.9194,     0.91967,     0.91995,     0.92022,      0.9205,     0.92077,     0.92104,\n",
              "             0.9213,      0.9214,      0.9215,     0.92161,     0.92171,     0.92182,     0.92192,     0.92203,     0.92213,     0.92223,     0.92234,     0.92244,     0.92255,     0.92265,     0.92276,     0.92286,     0.92296,     0.92307,     0.92317,     0.92328,     0.92338,     0.92348,     0.92359,\n",
              "            0.92369,      0.9238,      0.9239,     0.92397,     0.92394,     0.92392,     0.92389,     0.92386,     0.92383,     0.92381,     0.92378,     0.92375,     0.92647,     0.92659,     0.92672,     0.92684,     0.92696,     0.92709,     0.92721,     0.92733,     0.92746,     0.92758,      0.9277,\n",
              "            0.92783,     0.92795,     0.92807,      0.9282,     0.92832,     0.92844,     0.92857,     0.92869,     0.92881,     0.92893,     0.92906,     0.92918,     0.92924,     0.92929,     0.92934,     0.92939,     0.92944,     0.92949,     0.92954,     0.92959,     0.92964,     0.92969,     0.92974,\n",
              "            0.92979,     0.92984,     0.92989,     0.92994,     0.92999,     0.93004,     0.93009,     0.93014,     0.93019,     0.93024,     0.93029,     0.93034,     0.93039,     0.93044,     0.93049,     0.93054,     0.93058,     0.93063,     0.93068,     0.93073,     0.93078,     0.93083,     0.93088,\n",
              "            0.93093,     0.93098,     0.93103,     0.93108,     0.93113,     0.93118,     0.93123,     0.93128,     0.93133,     0.93138,     0.93143,     0.93148,     0.93153,     0.93158,     0.93163,     0.93168,     0.93173,     0.93178,     0.93183,     0.93188,     0.93193,     0.93186,      0.9319,\n",
              "            0.93222,     0.93253,     0.93285,     0.93316,     0.93348,      0.9338,     0.93411,     0.93443,     0.93452,     0.93452,     0.93451,     0.93451,      0.9345,      0.9345,     0.93449,     0.93449,     0.93449,     0.93448,     0.93448,     0.93447,     0.93447,     0.93446,     0.93446,\n",
              "            0.93446,     0.93445,     0.93445,     0.93444,     0.93444,     0.93443,     0.93443,     0.93442,     0.93442,     0.93442,     0.93441,     0.93441,      0.9344,      0.9344,     0.93439,     0.93439,     0.93439,     0.93438,     0.93438,     0.93437,     0.93437,     0.93436,     0.93436,\n",
              "            0.93436,     0.93435,     0.93435,     0.93434,     0.93434,     0.93433,     0.93433,     0.93466,     0.93507,     0.93548,     0.93589,      0.9363,     0.93671,     0.93712,     0.93709,     0.93706,     0.93703,       0.937,     0.93696,     0.93696,      0.9371,     0.93725,     0.93739,\n",
              "            0.93753,     0.93768,     0.93782,     0.93797,     0.93811,     0.93826,      0.9384,     0.93855,     0.93869,     0.93884,     0.93898,     0.93913,     0.93927,     0.93942,     0.93956,      0.9397,     0.93988,     0.94008,     0.94029,     0.94049,     0.94069,     0.94089,     0.94109,\n",
              "            0.94129,     0.94149,     0.94169,     0.94189,     0.94209,     0.94229,     0.94249,      0.9426,     0.94259,     0.94258,     0.94258,     0.94257,     0.94256,     0.94256,     0.94255,     0.94255,     0.94254,     0.94253,     0.94253,     0.94252,     0.94251,     0.94251,      0.9425,\n",
              "             0.9425,     0.94249,     0.94248,     0.94248,     0.94247,     0.94246,     0.94246,     0.94245,     0.94245,     0.94244,     0.94243,     0.94243,      0.9424,     0.94237,     0.94234,     0.94231,     0.94228,     0.94225,     0.94305,     0.94403,     0.94502,     0.94524,     0.94537,\n",
              "             0.9455,     0.94563,     0.94577,      0.9459,     0.94603,     0.94616,     0.94629,     0.94642,     0.94656,     0.94669,     0.94682,     0.94695,     0.94708,     0.94721,     0.94735,     0.94748,     0.94761,     0.94774,     0.94787,       0.948,     0.94826,     0.94852,     0.94877,\n",
              "            0.94903,     0.94929,     0.94955,     0.94981,     0.95007,     0.95033,     0.95059,     0.95085,     0.95088,     0.95083,     0.95078,     0.95173,     0.95293,      0.9537,     0.95367,     0.95365,     0.95363,     0.95361,     0.95358,     0.95356,     0.95349,     0.95342,      0.9534,\n",
              "            0.95339,     0.95337,     0.95336,     0.95335,     0.95333,     0.95332,     0.95331,     0.95329,     0.95328,     0.95324,     0.95314,     0.95296,     0.95295,     0.95293,     0.95292,      0.9529,     0.95289,     0.95287,     0.95286,     0.95284,     0.95283,     0.95282,     0.95281,\n",
              "            0.95281,      0.9528,     0.95279,     0.95279,     0.95278,     0.95277,     0.95276,     0.95276,     0.95275,     0.95274,     0.95273,     0.95273,     0.95272,     0.95271,     0.95271,      0.9527,     0.95269,     0.95268,     0.95265,     0.95261,     0.95257,     0.95554,     0.95544,\n",
              "            0.95538,     0.95533,     0.95528,     0.95519,     0.95512,      0.9551,     0.95507,     0.95505,     0.95503,     0.95501,     0.95498,     0.95495,     0.95492,     0.95489,     0.95486,     0.95484,     0.95483,     0.95483,     0.95482,     0.95481,     0.95481,      0.9548,      0.9548,\n",
              "            0.95479,     0.95478,     0.95478,     0.95477,     0.95476,     0.95476,     0.95475,     0.95475,     0.95474,     0.95473,     0.95473,     0.95472,     0.95472,     0.95471,      0.9547,      0.9547,     0.95469,     0.95467,     0.95464,     0.95462,      0.9546,     0.95458,     0.95456,\n",
              "            0.95476,     0.95529,     0.95582,     0.95636,     0.95689,     0.95742,      0.9575,     0.95748,     0.95746,     0.95744,     0.95742,     0.95739,     0.95732,     0.95867,     0.96026,     0.96024,     0.96021,     0.96019,     0.96017,     0.96015,     0.96012,     0.96008,     0.96004,\n",
              "               0.96,     0.95997,     0.95993,      0.9599,     0.95986,     0.95984,     0.95981,     0.95979,     0.95976,     0.95974,     0.95966,     0.95959,     0.95955,     0.95951,     0.95947,     0.95938,     0.95921,     0.96069,     0.96237,      0.9624,     0.96233,     0.96219,     0.96189,\n",
              "            0.96179,     0.96163,     0.96156,     0.96145,     0.96137,     0.96133,     0.96128,     0.96122,     0.96115,     0.96088,      0.9606,     0.96252,     0.96454,     0.96597,      0.9674,     0.96736,     0.96728,     0.96711,     0.96706,     0.96691,     0.96682,     0.96664,     0.96647,\n",
              "            0.96595,     0.96537,     0.96528,      0.9654,     0.96798,     0.96828,     0.96783,     0.96739,     0.96933,     0.97432,     0.97757,     0.98199,      0.9817,     0.98157,     0.98144,     0.98139,     0.98121,     0.98144,     0.98521,     0.98495,     0.98978,      0.9894,     0.98888,\n",
              "            0.98874,     0.98827,     0.98791,     0.98776,     0.98744,     0.98729,     0.99352,     0.99334,     0.99311,     0.99302,     0.99296,     0.99248,     0.99218,     0.99206,      0.9918,     0.99129,     0.99089,     0.99046,     0.99026,     0.98996,     0.98964,     0.98895,     0.98857,\n",
              "            0.98807,     0.98797,     0.98755,     0.98686,           1,           1,           1,           1,           1,           1,           1,           1,           1,           1,           1,           1,           1,           1,           1,           1,           1,           1,           1,\n",
              "                  1,           1,           1,           1,           1,           1,           1,           1,           1,           1,           1,           1,           1,           1,           1,           1,           1,           1,           1,           1,           1,           1,           1,\n",
              "                  1,           1,           1,           1,           1,           1,           1,           1,           1,           1,           1,           1,           1,           1,           1,           1,           1,           1,           1,           1,           1,           1,           1,\n",
              "                  1,           1,           1,           1,           1,           1,           1,           1,           1,           1,           1,           1,           1,           1,           1,           1,           1,           1,           1,           1,           1,           1,           1,\n",
              "                  1,           1,           1,           1,           1,           1,           1,           1,           1,           1,           1,           1,           1,           1,           1,           1,           1,           1,           1,           1,           1,           1,           1,\n",
              "                  1,           1,           1,           1,           1,           1,           1,           1,           1,           1,           1,           1,           1,           1,           1,           1,           1,           1,           1,           1,           1,           1,           1,\n",
              "                  1,           1,           1,           1,           1,           1,           1,           1,           1,           1,           1]]), 'Confidence', 'Precision'], [array([          0,    0.001001,    0.002002,    0.003003,    0.004004,    0.005005,    0.006006,    0.007007,    0.008008,    0.009009,     0.01001,    0.011011,    0.012012,    0.013013,    0.014014,    0.015015,    0.016016,    0.017017,    0.018018,    0.019019,     0.02002,    0.021021,    0.022022,    0.023023,\n",
              "          0.024024,    0.025025,    0.026026,    0.027027,    0.028028,    0.029029,     0.03003,    0.031031,    0.032032,    0.033033,    0.034034,    0.035035,    0.036036,    0.037037,    0.038038,    0.039039,     0.04004,    0.041041,    0.042042,    0.043043,    0.044044,    0.045045,    0.046046,    0.047047,\n",
              "          0.048048,    0.049049,     0.05005,    0.051051,    0.052052,    0.053053,    0.054054,    0.055055,    0.056056,    0.057057,    0.058058,    0.059059,     0.06006,    0.061061,    0.062062,    0.063063,    0.064064,    0.065065,    0.066066,    0.067067,    0.068068,    0.069069,     0.07007,    0.071071,\n",
              "          0.072072,    0.073073,    0.074074,    0.075075,    0.076076,    0.077077,    0.078078,    0.079079,     0.08008,    0.081081,    0.082082,    0.083083,    0.084084,    0.085085,    0.086086,    0.087087,    0.088088,    0.089089,     0.09009,    0.091091,    0.092092,    0.093093,    0.094094,    0.095095,\n",
              "          0.096096,    0.097097,    0.098098,    0.099099,      0.1001,      0.1011,      0.1021,      0.1031,      0.1041,     0.10511,     0.10611,     0.10711,     0.10811,     0.10911,     0.11011,     0.11111,     0.11211,     0.11311,     0.11411,     0.11512,     0.11612,     0.11712,     0.11812,     0.11912,\n",
              "           0.12012,     0.12112,     0.12212,     0.12312,     0.12412,     0.12513,     0.12613,     0.12713,     0.12813,     0.12913,     0.13013,     0.13113,     0.13213,     0.13313,     0.13413,     0.13514,     0.13614,     0.13714,     0.13814,     0.13914,     0.14014,     0.14114,     0.14214,     0.14314,\n",
              "           0.14414,     0.14515,     0.14615,     0.14715,     0.14815,     0.14915,     0.15015,     0.15115,     0.15215,     0.15315,     0.15415,     0.15516,     0.15616,     0.15716,     0.15816,     0.15916,     0.16016,     0.16116,     0.16216,     0.16316,     0.16416,     0.16517,     0.16617,     0.16717,\n",
              "           0.16817,     0.16917,     0.17017,     0.17117,     0.17217,     0.17317,     0.17417,     0.17518,     0.17618,     0.17718,     0.17818,     0.17918,     0.18018,     0.18118,     0.18218,     0.18318,     0.18418,     0.18519,     0.18619,     0.18719,     0.18819,     0.18919,     0.19019,     0.19119,\n",
              "           0.19219,     0.19319,     0.19419,      0.1952,      0.1962,      0.1972,      0.1982,      0.1992,      0.2002,      0.2012,      0.2022,      0.2032,      0.2042,     0.20521,     0.20621,     0.20721,     0.20821,     0.20921,     0.21021,     0.21121,     0.21221,     0.21321,     0.21421,     0.21522,\n",
              "           0.21622,     0.21722,     0.21822,     0.21922,     0.22022,     0.22122,     0.22222,     0.22322,     0.22422,     0.22523,     0.22623,     0.22723,     0.22823,     0.22923,     0.23023,     0.23123,     0.23223,     0.23323,     0.23423,     0.23524,     0.23624,     0.23724,     0.23824,     0.23924,\n",
              "           0.24024,     0.24124,     0.24224,     0.24324,     0.24424,     0.24525,     0.24625,     0.24725,     0.24825,     0.24925,     0.25025,     0.25125,     0.25225,     0.25325,     0.25425,     0.25526,     0.25626,     0.25726,     0.25826,     0.25926,     0.26026,     0.26126,     0.26226,     0.26326,\n",
              "           0.26426,     0.26527,     0.26627,     0.26727,     0.26827,     0.26927,     0.27027,     0.27127,     0.27227,     0.27327,     0.27427,     0.27528,     0.27628,     0.27728,     0.27828,     0.27928,     0.28028,     0.28128,     0.28228,     0.28328,     0.28428,     0.28529,     0.28629,     0.28729,\n",
              "           0.28829,     0.28929,     0.29029,     0.29129,     0.29229,     0.29329,     0.29429,      0.2953,      0.2963,      0.2973,      0.2983,      0.2993,      0.3003,      0.3013,      0.3023,      0.3033,      0.3043,     0.30531,     0.30631,     0.30731,     0.30831,     0.30931,     0.31031,     0.31131,\n",
              "           0.31231,     0.31331,     0.31431,     0.31532,     0.31632,     0.31732,     0.31832,     0.31932,     0.32032,     0.32132,     0.32232,     0.32332,     0.32432,     0.32533,     0.32633,     0.32733,     0.32833,     0.32933,     0.33033,     0.33133,     0.33233,     0.33333,     0.33433,     0.33534,\n",
              "           0.33634,     0.33734,     0.33834,     0.33934,     0.34034,     0.34134,     0.34234,     0.34334,     0.34434,     0.34535,     0.34635,     0.34735,     0.34835,     0.34935,     0.35035,     0.35135,     0.35235,     0.35335,     0.35435,     0.35536,     0.35636,     0.35736,     0.35836,     0.35936,\n",
              "           0.36036,     0.36136,     0.36236,     0.36336,     0.36436,     0.36537,     0.36637,     0.36737,     0.36837,     0.36937,     0.37037,     0.37137,     0.37237,     0.37337,     0.37437,     0.37538,     0.37638,     0.37738,     0.37838,     0.37938,     0.38038,     0.38138,     0.38238,     0.38338,\n",
              "           0.38438,     0.38539,     0.38639,     0.38739,     0.38839,     0.38939,     0.39039,     0.39139,     0.39239,     0.39339,     0.39439,      0.3954,      0.3964,      0.3974,      0.3984,      0.3994,      0.4004,      0.4014,      0.4024,      0.4034,      0.4044,     0.40541,     0.40641,     0.40741,\n",
              "           0.40841,     0.40941,     0.41041,     0.41141,     0.41241,     0.41341,     0.41441,     0.41542,     0.41642,     0.41742,     0.41842,     0.41942,     0.42042,     0.42142,     0.42242,     0.42342,     0.42442,     0.42543,     0.42643,     0.42743,     0.42843,     0.42943,     0.43043,     0.43143,\n",
              "           0.43243,     0.43343,     0.43443,     0.43544,     0.43644,     0.43744,     0.43844,     0.43944,     0.44044,     0.44144,     0.44244,     0.44344,     0.44444,     0.44545,     0.44645,     0.44745,     0.44845,     0.44945,     0.45045,     0.45145,     0.45245,     0.45345,     0.45445,     0.45546,\n",
              "           0.45646,     0.45746,     0.45846,     0.45946,     0.46046,     0.46146,     0.46246,     0.46346,     0.46446,     0.46547,     0.46647,     0.46747,     0.46847,     0.46947,     0.47047,     0.47147,     0.47247,     0.47347,     0.47447,     0.47548,     0.47648,     0.47748,     0.47848,     0.47948,\n",
              "           0.48048,     0.48148,     0.48248,     0.48348,     0.48448,     0.48549,     0.48649,     0.48749,     0.48849,     0.48949,     0.49049,     0.49149,     0.49249,     0.49349,     0.49449,      0.4955,      0.4965,      0.4975,      0.4985,      0.4995,      0.5005,      0.5015,      0.5025,      0.5035,\n",
              "            0.5045,     0.50551,     0.50651,     0.50751,     0.50851,     0.50951,     0.51051,     0.51151,     0.51251,     0.51351,     0.51451,     0.51552,     0.51652,     0.51752,     0.51852,     0.51952,     0.52052,     0.52152,     0.52252,     0.52352,     0.52452,     0.52553,     0.52653,     0.52753,\n",
              "           0.52853,     0.52953,     0.53053,     0.53153,     0.53253,     0.53353,     0.53453,     0.53554,     0.53654,     0.53754,     0.53854,     0.53954,     0.54054,     0.54154,     0.54254,     0.54354,     0.54454,     0.54555,     0.54655,     0.54755,     0.54855,     0.54955,     0.55055,     0.55155,\n",
              "           0.55255,     0.55355,     0.55455,     0.55556,     0.55656,     0.55756,     0.55856,     0.55956,     0.56056,     0.56156,     0.56256,     0.56356,     0.56456,     0.56557,     0.56657,     0.56757,     0.56857,     0.56957,     0.57057,     0.57157,     0.57257,     0.57357,     0.57457,     0.57558,\n",
              "           0.57658,     0.57758,     0.57858,     0.57958,     0.58058,     0.58158,     0.58258,     0.58358,     0.58458,     0.58559,     0.58659,     0.58759,     0.58859,     0.58959,     0.59059,     0.59159,     0.59259,     0.59359,     0.59459,      0.5956,      0.5966,      0.5976,      0.5986,      0.5996,\n",
              "            0.6006,      0.6016,      0.6026,      0.6036,      0.6046,     0.60561,     0.60661,     0.60761,     0.60861,     0.60961,     0.61061,     0.61161,     0.61261,     0.61361,     0.61461,     0.61562,     0.61662,     0.61762,     0.61862,     0.61962,     0.62062,     0.62162,     0.62262,     0.62362,\n",
              "           0.62462,     0.62563,     0.62663,     0.62763,     0.62863,     0.62963,     0.63063,     0.63163,     0.63263,     0.63363,     0.63463,     0.63564,     0.63664,     0.63764,     0.63864,     0.63964,     0.64064,     0.64164,     0.64264,     0.64364,     0.64464,     0.64565,     0.64665,     0.64765,\n",
              "           0.64865,     0.64965,     0.65065,     0.65165,     0.65265,     0.65365,     0.65465,     0.65566,     0.65666,     0.65766,     0.65866,     0.65966,     0.66066,     0.66166,     0.66266,     0.66366,     0.66466,     0.66567,     0.66667,     0.66767,     0.66867,     0.66967,     0.67067,     0.67167,\n",
              "           0.67267,     0.67367,     0.67467,     0.67568,     0.67668,     0.67768,     0.67868,     0.67968,     0.68068,     0.68168,     0.68268,     0.68368,     0.68468,     0.68569,     0.68669,     0.68769,     0.68869,     0.68969,     0.69069,     0.69169,     0.69269,     0.69369,     0.69469,      0.6957,\n",
              "            0.6967,      0.6977,      0.6987,      0.6997,      0.7007,      0.7017,      0.7027,      0.7037,      0.7047,     0.70571,     0.70671,     0.70771,     0.70871,     0.70971,     0.71071,     0.71171,     0.71271,     0.71371,     0.71471,     0.71572,     0.71672,     0.71772,     0.71872,     0.71972,\n",
              "           0.72072,     0.72172,     0.72272,     0.72372,     0.72472,     0.72573,     0.72673,     0.72773,     0.72873,     0.72973,     0.73073,     0.73173,     0.73273,     0.73373,     0.73473,     0.73574,     0.73674,     0.73774,     0.73874,     0.73974,     0.74074,     0.74174,     0.74274,     0.74374,\n",
              "           0.74474,     0.74575,     0.74675,     0.74775,     0.74875,     0.74975,     0.75075,     0.75175,     0.75275,     0.75375,     0.75475,     0.75576,     0.75676,     0.75776,     0.75876,     0.75976,     0.76076,     0.76176,     0.76276,     0.76376,     0.76476,     0.76577,     0.76677,     0.76777,\n",
              "           0.76877,     0.76977,     0.77077,     0.77177,     0.77277,     0.77377,     0.77477,     0.77578,     0.77678,     0.77778,     0.77878,     0.77978,     0.78078,     0.78178,     0.78278,     0.78378,     0.78478,     0.78579,     0.78679,     0.78779,     0.78879,     0.78979,     0.79079,     0.79179,\n",
              "           0.79279,     0.79379,     0.79479,      0.7958,      0.7968,      0.7978,      0.7988,      0.7998,      0.8008,      0.8018,      0.8028,      0.8038,      0.8048,     0.80581,     0.80681,     0.80781,     0.80881,     0.80981,     0.81081,     0.81181,     0.81281,     0.81381,     0.81481,     0.81582,\n",
              "           0.81682,     0.81782,     0.81882,     0.81982,     0.82082,     0.82182,     0.82282,     0.82382,     0.82482,     0.82583,     0.82683,     0.82783,     0.82883,     0.82983,     0.83083,     0.83183,     0.83283,     0.83383,     0.83483,     0.83584,     0.83684,     0.83784,     0.83884,     0.83984,\n",
              "           0.84084,     0.84184,     0.84284,     0.84384,     0.84484,     0.84585,     0.84685,     0.84785,     0.84885,     0.84985,     0.85085,     0.85185,     0.85285,     0.85385,     0.85485,     0.85586,     0.85686,     0.85786,     0.85886,     0.85986,     0.86086,     0.86186,     0.86286,     0.86386,\n",
              "           0.86486,     0.86587,     0.86687,     0.86787,     0.86887,     0.86987,     0.87087,     0.87187,     0.87287,     0.87387,     0.87487,     0.87588,     0.87688,     0.87788,     0.87888,     0.87988,     0.88088,     0.88188,     0.88288,     0.88388,     0.88488,     0.88589,     0.88689,     0.88789,\n",
              "           0.88889,     0.88989,     0.89089,     0.89189,     0.89289,     0.89389,     0.89489,      0.8959,      0.8969,      0.8979,      0.8989,      0.8999,      0.9009,      0.9019,      0.9029,      0.9039,      0.9049,     0.90591,     0.90691,     0.90791,     0.90891,     0.90991,     0.91091,     0.91191,\n",
              "           0.91291,     0.91391,     0.91491,     0.91592,     0.91692,     0.91792,     0.91892,     0.91992,     0.92092,     0.92192,     0.92292,     0.92392,     0.92492,     0.92593,     0.92693,     0.92793,     0.92893,     0.92993,     0.93093,     0.93193,     0.93293,     0.93393,     0.93493,     0.93594,\n",
              "           0.93694,     0.93794,     0.93894,     0.93994,     0.94094,     0.94194,     0.94294,     0.94394,     0.94494,     0.94595,     0.94695,     0.94795,     0.94895,     0.94995,     0.95095,     0.95195,     0.95295,     0.95395,     0.95495,     0.95596,     0.95696,     0.95796,     0.95896,     0.95996,\n",
              "           0.96096,     0.96196,     0.96296,     0.96396,     0.96496,     0.96597,     0.96697,     0.96797,     0.96897,     0.96997,     0.97097,     0.97197,     0.97297,     0.97397,     0.97497,     0.97598,     0.97698,     0.97798,     0.97898,     0.97998,     0.98098,     0.98198,     0.98298,     0.98398,\n",
              "           0.98498,     0.98599,     0.98699,     0.98799,     0.98899,     0.98999,     0.99099,     0.99199,     0.99299,     0.99399,     0.99499,       0.996,       0.997,       0.998,       0.999,           1]), array([[          1,           1,           1,           1,           1,           1,           1,           1,           1,           1,           1,           1,           1,           1,           1,           1,           1,           1,           1,           1,           1,           1,           1,\n",
              "                  1,           1,           1,           1,           1,           1,           1,           1,           1,     0.99949,     0.99689,     0.99689,     0.99689,     0.99689,     0.99689,     0.99689,     0.99689,     0.99689,     0.99689,     0.99689,     0.99689,     0.99689,     0.99689,\n",
              "            0.99689,     0.99689,     0.99689,     0.99689,     0.99689,     0.99689,     0.99689,     0.99689,     0.99689,     0.99689,     0.99689,     0.99689,     0.99689,     0.99689,     0.99689,     0.99689,     0.99689,     0.99689,     0.99689,     0.99689,     0.99689,     0.99689,     0.99689,\n",
              "            0.99689,     0.99689,     0.99689,     0.99689,     0.99689,     0.99689,     0.99689,     0.99689,     0.99689,     0.99689,     0.99689,     0.99689,     0.99689,     0.99689,     0.99689,     0.99689,     0.99689,     0.99689,     0.99689,     0.99689,     0.99689,     0.99689,     0.99689,\n",
              "            0.99689,     0.99689,     0.99689,     0.99689,     0.99689,     0.99689,     0.99689,     0.99689,     0.99689,     0.99689,     0.99689,     0.99689,     0.99689,     0.99689,     0.99689,     0.99689,     0.99689,     0.99689,     0.99689,     0.99689,     0.99689,     0.99689,     0.99689,\n",
              "            0.99689,     0.99689,     0.99689,     0.99689,     0.99689,     0.99689,     0.99689,     0.99689,     0.99689,     0.99689,     0.99689,     0.99689,     0.99689,     0.99689,     0.99689,     0.99689,     0.99689,     0.99689,     0.99689,     0.99689,     0.99689,     0.99689,     0.99689,\n",
              "            0.99689,     0.99689,     0.99689,     0.99689,     0.99689,     0.99689,     0.99689,     0.99689,     0.99689,     0.99689,     0.99689,     0.99689,     0.99689,     0.99689,     0.99689,     0.99689,     0.99689,     0.99689,     0.99689,     0.99689,     0.99689,     0.99689,     0.99689,\n",
              "            0.99689,     0.99689,     0.99689,     0.99689,     0.99689,     0.99689,     0.99689,     0.99689,     0.99689,     0.99689,     0.99689,     0.99689,     0.99689,     0.99689,     0.99689,     0.99689,     0.99689,     0.99689,     0.99689,     0.99689,     0.99689,     0.99689,     0.99689,\n",
              "            0.99689,     0.99689,     0.99689,     0.99689,     0.99689,     0.99689,     0.99689,     0.99689,     0.99689,     0.99689,     0.99689,     0.99689,     0.99689,     0.99689,     0.99689,     0.99689,     0.99689,     0.99689,     0.99689,     0.99689,     0.99689,     0.99689,     0.99689,\n",
              "            0.99689,     0.99681,     0.99655,      0.9963,     0.99604,     0.99578,     0.99553,     0.99527,     0.99501,     0.99475,      0.9945,     0.99424,     0.99398,     0.99375,      0.9936,     0.99345,      0.9933,     0.99315,       0.993,     0.99285,      0.9927,     0.99255,      0.9924,\n",
              "            0.99225,      0.9921,     0.99195,      0.9918,     0.99165,      0.9915,     0.99135,      0.9912,     0.99106,     0.99091,     0.99076,     0.99068,     0.99068,     0.99068,     0.99068,     0.99068,     0.99068,     0.99068,     0.99068,     0.99068,     0.99068,     0.99068,     0.99068,\n",
              "            0.99068,     0.99068,     0.99068,     0.99068,     0.99068,     0.99068,     0.98916,     0.98758,     0.98731,     0.98705,     0.98678,     0.98651,     0.98625,     0.98598,     0.98572,     0.98545,     0.98519,     0.98492,     0.98466,     0.98445,     0.98438,     0.98432,     0.98425,\n",
              "            0.98418,     0.98412,     0.98405,     0.98398,     0.98392,     0.98385,     0.98378,     0.98371,     0.98365,     0.98358,     0.98351,     0.98345,     0.98338,     0.98331,     0.98325,     0.98318,     0.98311,     0.98304,     0.98298,     0.98291,     0.98284,     0.98278,     0.98271,\n",
              "            0.98264,     0.98258,     0.98251,     0.98244,     0.98237,     0.98231,     0.98224,     0.98217,     0.98211,     0.98204,     0.98197,     0.98191,     0.98184,     0.98177,      0.9817,     0.98164,     0.98157,      0.9815,     0.98144,     0.98137,     0.98137,     0.98137,     0.98137,\n",
              "            0.98137,     0.98137,     0.98137,     0.98137,     0.98137,     0.98137,     0.98137,     0.98137,     0.98137,     0.98137,     0.98137,     0.98137,     0.98137,     0.98137,     0.98137,     0.98137,     0.98137,     0.98137,     0.98137,     0.98137,     0.98137,     0.98137,     0.98137,\n",
              "            0.98137,     0.98137,     0.98137,     0.98137,     0.98137,     0.98137,     0.98137,     0.98137,     0.98137,     0.98137,     0.98137,     0.98137,     0.98137,     0.98137,     0.98137,     0.98137,     0.98137,     0.98137,     0.98137,     0.98137,     0.98137,     0.98137,     0.98137,\n",
              "            0.98137,     0.98137,     0.98137,     0.98126,     0.98089,     0.98051,     0.98014,     0.97976,     0.97939,     0.97902,     0.97864,     0.97827,     0.97826,     0.97826,     0.97826,     0.97826,     0.97826,     0.97826,     0.97826,     0.97826,     0.97826,     0.97826,     0.97826,\n",
              "            0.97826,     0.97826,     0.97826,     0.97826,     0.97826,     0.97826,     0.97826,     0.97826,     0.97826,     0.97826,     0.97826,     0.97826,     0.97826,     0.97826,     0.97826,     0.97826,     0.97826,     0.97826,     0.97826,     0.97826,     0.97826,     0.97826,     0.97826,\n",
              "            0.97826,     0.97826,     0.97826,     0.97826,     0.97826,     0.97826,     0.97826,     0.97826,     0.97826,     0.97826,     0.97826,     0.97826,     0.97826,     0.97826,     0.97826,     0.97826,     0.97826,     0.97826,     0.97826,     0.97826,     0.97826,     0.97826,     0.97826,\n",
              "            0.97826,     0.97826,     0.97826,     0.97826,     0.97826,     0.97826,     0.97826,     0.97826,     0.97826,     0.97826,     0.97826,     0.97826,     0.97826,     0.97826,     0.97826,     0.97826,     0.97826,     0.97826,     0.97826,     0.97826,     0.97826,     0.97683,     0.97516,\n",
              "            0.97516,     0.97516,     0.97516,     0.97516,     0.97516,     0.97516,     0.97516,     0.97516,     0.97511,     0.97504,     0.97497,      0.9749,     0.97483,     0.97476,     0.97469,     0.97462,     0.97455,     0.97448,     0.97442,     0.97435,     0.97428,     0.97421,     0.97414,\n",
              "            0.97407,       0.974,     0.97393,     0.97386,     0.97379,     0.97372,     0.97365,     0.97358,     0.97352,     0.97345,     0.97338,     0.97331,     0.97324,     0.97317,      0.9731,     0.97303,     0.97296,     0.97289,     0.97282,     0.97275,     0.97269,     0.97262,     0.97255,\n",
              "            0.97248,     0.97241,     0.97234,     0.97227,      0.9722,     0.97213,     0.97206,     0.97205,     0.97205,     0.97205,     0.97205,     0.97205,     0.97205,     0.97205,     0.97153,     0.97099,     0.97046,     0.96993,      0.9694,     0.96894,     0.96894,     0.96894,     0.96894,\n",
              "            0.96894,     0.96894,     0.96894,     0.96894,     0.96894,     0.96894,     0.96894,     0.96894,     0.96894,     0.96894,     0.96894,     0.96894,     0.96894,     0.96894,     0.96894,     0.96894,     0.96894,     0.96894,     0.96894,     0.96894,     0.96894,     0.96894,     0.96894,\n",
              "            0.96894,     0.96894,     0.96894,     0.96894,     0.96894,     0.96894,     0.96894,     0.96889,     0.96878,     0.96867,     0.96856,     0.96844,     0.96833,     0.96822,     0.96811,       0.968,     0.96789,     0.96777,     0.96766,     0.96755,     0.96744,     0.96733,     0.96722,\n",
              "             0.9671,     0.96699,     0.96688,     0.96677,     0.96666,     0.96655,     0.96643,     0.96632,     0.96621,      0.9661,     0.96599,     0.96588,     0.96548,     0.96495,     0.96442,     0.96389,     0.96336,     0.96283,     0.96273,     0.96273,     0.96273,     0.96273,     0.96273,\n",
              "            0.96273,     0.96273,     0.96273,     0.96273,     0.96273,     0.96273,     0.96273,     0.96273,     0.96273,     0.96273,     0.96273,     0.96273,     0.96273,     0.96273,     0.96273,     0.96273,     0.96273,     0.96273,     0.96273,     0.96273,     0.96273,     0.96273,     0.96273,\n",
              "            0.96273,     0.96273,     0.96273,     0.96273,     0.96273,     0.96273,     0.96273,     0.96273,     0.96197,     0.96091,     0.95984,     0.95963,     0.95963,     0.95945,     0.95896,     0.95847,     0.95798,     0.95749,       0.957,      0.9565,     0.95491,      0.9534,     0.95311,\n",
              "            0.95282,     0.95253,     0.95224,     0.95195,     0.95166,     0.95137,     0.95108,     0.95079,      0.9505,      0.9496,     0.94748,     0.94382,      0.9435,     0.94319,     0.94287,     0.94255,     0.94223,     0.94191,     0.94159,     0.94128,     0.94098,     0.94082,     0.94067,\n",
              "            0.94052,     0.94037,     0.94022,     0.94007,     0.93992,     0.93976,     0.93961,     0.93946,     0.93931,     0.93916,     0.93901,     0.93885,      0.9387,     0.93855,      0.9384,     0.93825,      0.9381,     0.93794,     0.93732,     0.93641,      0.9355,     0.93433,     0.93221,\n",
              "            0.93088,     0.92982,     0.92876,     0.92683,     0.92529,      0.9248,     0.92431,     0.92382,     0.92333,     0.92284,     0.92235,     0.92171,     0.92108,     0.92044,      0.9198,     0.91924,     0.91911,     0.91898,     0.91885,     0.91872,     0.91859,     0.91846,     0.91833,\n",
              "             0.9182,     0.91807,     0.91794,     0.91781,     0.91768,     0.91755,     0.91742,     0.91729,     0.91716,     0.91703,      0.9169,     0.91677,     0.91664,     0.91651,     0.91638,     0.91625,     0.91604,     0.91559,     0.91513,     0.91468,     0.91422,     0.91377,     0.91331,\n",
              "            0.91304,     0.91304,     0.91304,     0.91304,     0.91304,     0.91304,     0.90967,     0.90918,     0.90869,      0.9082,     0.90771,     0.90722,     0.90547,     0.90062,     0.90048,     0.89995,     0.89942,     0.89889,     0.89836,     0.89783,     0.89714,     0.89623,     0.89532,\n",
              "            0.89442,     0.89362,     0.89282,     0.89203,     0.89125,     0.89067,     0.89009,     0.88951,     0.88894,     0.88836,     0.88666,     0.88485,     0.88394,     0.88304,     0.88213,     0.88019,     0.87643,     0.87578,     0.87578,     0.87427,     0.87268,     0.86944,     0.86223,\n",
              "            0.85982,     0.85622,     0.85463,     0.85204,     0.85024,     0.84918,     0.84812,     0.84667,     0.84508,     0.83915,     0.83286,      0.8323,      0.8323,      0.8323,      0.8323,     0.82827,     0.82615,     0.82175,     0.82047,     0.81668,     0.81455,     0.80997,     0.80553,\n",
              "            0.79303,     0.77915,     0.77703,     0.76708,     0.76708,     0.75848,     0.74753,     0.73714,     0.71739,     0.70692,     0.70497,     0.67751,     0.66632,     0.66167,     0.65684,     0.65522,     0.64879,     0.63354,     0.62052,     0.60987,     0.60158,     0.57969,     0.55219,\n",
              "            0.54521,     0.52332,     0.50763,     0.50127,     0.48813,     0.48232,     0.47596,     0.46338,      0.4477,     0.44214,     0.43807,     0.40996,     0.39428,     0.38791,     0.37556,     0.35344,     0.33776,     0.32253,     0.31571,     0.30623,     0.29676,     0.27797,      0.2685,\n",
              "            0.25715,     0.25503,      0.2463,     0.23332,     0.22114,     0.21142,      0.2053,     0.18341,     0.16462,     0.14893,     0.13946,      0.1331,     0.12052,     0.11298,     0.10824,     0.10142,     0.09411,    0.085579,     0.07648,    0.074889,    0.069779,    0.066324,    0.061035,\n",
              "           0.056696,    0.053115,    0.040858,    0.039637,    0.038842,    0.038046,    0.037199,    0.034129,    0.033422,    0.032714,    0.032007,    0.031299,    0.027571,    0.026992,    0.026413,    0.025834,    0.025256,    0.024475,    0.023202,    0.021929,    0.017477,    0.014294,     0.01216,\n",
              "           0.011523,    0.010887,     0.01025,   0.0096133,   0.0086366,   0.0073633,   0.0061101,    0.005049,   0.0039879,           0,           0,           0,           0,           0,           0,           0,           0,           0,           0,           0,           0,           0,           0,\n",
              "                  0,           0,           0,           0,           0,           0,           0,           0,           0,           0,           0,           0,           0,           0,           0,           0,           0,           0,           0,           0,           0,           0,           0,\n",
              "                  0,           0,           0,           0,           0,           0,           0,           0,           0,           0,           0,           0,           0,           0,           0,           0,           0,           0,           0,           0,           0,           0,           0,\n",
              "                  0,           0,           0,           0,           0,           0,           0,           0,           0,           0,           0,           0,           0,           0,           0,           0,           0,           0,           0,           0,           0,           0,           0,\n",
              "                  0,           0,           0,           0,           0,           0,           0,           0,           0,           0,           0]]), 'Confidence', 'Recall']]\n",
              "fitness: 0.7120053534963156\n",
              "keys: ['metrics/precision(B)', 'metrics/recall(B)', 'metrics/mAP50(B)', 'metrics/mAP50-95(B)']\n",
              "maps: array([    0.68237])\n",
              "names: {0: 'cell'}\n",
              "plot: True\n",
              "results_dict: {'metrics/precision(B)': 0.9422845383838291, 'metrics/recall(B)': 0.9633593220549742, 'metrics/mAP50(B)': 0.9786804969482666, 'metrics/mAP50-95(B)': 0.6823747820016544, 'fitness': 0.7120053534963156}\n",
              "save_dir: PosixPath('runs/detect/train4')\n",
              "speed: {'preprocess': 0.40896969491414137, 'inference': 2.408992508473941, 'loss': 0.0005253050866007994, 'postprocess': 2.9929063050839417}\n",
              "task: 'detect'"
            ]
          },
          "metadata": {},
          "execution_count": 12
        }
      ]
    },
    {
      "cell_type": "code",
      "source": [
        "import locale\n",
        "def getpreferredencoding(do_setlocale = True):\n",
        "    return \"UTF-8\"\n",
        "locale.getpreferredencoding = getpreferredencoding"
      ],
      "metadata": {
        "id": "wzZlyPm6XBSu"
      },
      "execution_count": null,
      "outputs": []
    },
    {
      "cell_type": "code",
      "source": [
        "!cp runs/train/exp/weights/best.pt /content/drive/MyDrive/yolov7_best.pt"
      ],
      "metadata": {
        "colab": {
          "base_uri": "https://localhost:8080/"
        },
        "id": "9GYVL42aQcts",
        "outputId": "6b015643-964a-41b3-aedf-0bc9e2315cf9"
      },
      "execution_count": null,
      "outputs": [
        {
          "output_type": "stream",
          "name": "stdout",
          "text": [
            "cp: cannot stat 'runs/train/exp/weights/best.pt': No such file or directory\n"
          ]
        }
      ]
    },
    {
      "cell_type": "code",
      "source": [
        "from google.colab import files\n",
        "!zip -r best_model.zip /content/runs/detect/train4/weights/best.pt\n",
        "files.download('best_model.zip')"
      ],
      "metadata": {
        "colab": {
          "base_uri": "https://localhost:8080/",
          "height": 34
        },
        "id": "2Zv6NjCEQ9Lg",
        "outputId": "f72e537b-5742-4e87-f5d2-8a3ffe2e0126"
      },
      "execution_count": null,
      "outputs": [
        {
          "output_type": "stream",
          "name": "stdout",
          "text": [
            "  adding: content/runs/detect/train4/weights/best.pt (deflated 10%)\n"
          ]
        },
        {
          "output_type": "display_data",
          "data": {
            "text/plain": [
              "<IPython.core.display.Javascript object>"
            ],
            "application/javascript": [
              "\n",
              "    async function download(id, filename, size) {\n",
              "      if (!google.colab.kernel.accessAllowed) {\n",
              "        return;\n",
              "      }\n",
              "      const div = document.createElement('div');\n",
              "      const label = document.createElement('label');\n",
              "      label.textContent = `Downloading \"${filename}\": `;\n",
              "      div.appendChild(label);\n",
              "      const progress = document.createElement('progress');\n",
              "      progress.max = size;\n",
              "      div.appendChild(progress);\n",
              "      document.body.appendChild(div);\n",
              "\n",
              "      const buffers = [];\n",
              "      let downloaded = 0;\n",
              "\n",
              "      const channel = await google.colab.kernel.comms.open(id);\n",
              "      // Send a message to notify the kernel that we're ready.\n",
              "      channel.send({})\n",
              "\n",
              "      for await (const message of channel.messages) {\n",
              "        // Send a message to notify the kernel that we're ready.\n",
              "        channel.send({})\n",
              "        if (message.buffers) {\n",
              "          for (const buffer of message.buffers) {\n",
              "            buffers.push(buffer);\n",
              "            downloaded += buffer.byteLength;\n",
              "            progress.value = downloaded;\n",
              "          }\n",
              "        }\n",
              "      }\n",
              "      const blob = new Blob(buffers, {type: 'application/binary'});\n",
              "      const a = document.createElement('a');\n",
              "      a.href = window.URL.createObjectURL(blob);\n",
              "      a.download = filename;\n",
              "      div.appendChild(a);\n",
              "      a.click();\n",
              "      div.remove();\n",
              "    }\n",
              "  "
            ]
          },
          "metadata": {}
        },
        {
          "output_type": "display_data",
          "data": {
            "text/plain": [
              "<IPython.core.display.Javascript object>"
            ],
            "application/javascript": [
              "download(\"download_7ea60967-9dcb-4600-9bfb-104ed723c71e\", \"best_model.zip\", 5657384)"
            ]
          },
          "metadata": {}
        }
      ]
    },
    {
      "cell_type": "code",
      "source": [
        "from google.colab import files\n",
        "uploaded = files.upload() #upload \"best_model.zip\""
      ],
      "metadata": {
        "colab": {
          "base_uri": "https://localhost:8080/",
          "height": 90
        },
        "id": "slreCMI2RFrD",
        "outputId": "3f40a284-d34d-498a-e95f-27b9b95639d8"
      },
      "execution_count": null,
      "outputs": [
        {
          "output_type": "display_data",
          "data": {
            "text/plain": [
              "<IPython.core.display.HTML object>"
            ],
            "text/html": [
              "\n",
              "     <input type=\"file\" id=\"files-3c4c0a8f-ddbe-4314-b251-187dc47f4fbf\" name=\"files[]\" multiple disabled\n",
              "        style=\"border:none\" />\n",
              "     <output id=\"result-3c4c0a8f-ddbe-4314-b251-187dc47f4fbf\">\n",
              "      Upload widget is only available when the cell has been executed in the\n",
              "      current browser session. Please rerun this cell to enable.\n",
              "      </output>\n",
              "      <script>// Copyright 2017 Google LLC\n",
              "//\n",
              "// Licensed under the Apache License, Version 2.0 (the \"License\");\n",
              "// you may not use this file except in compliance with the License.\n",
              "// You may obtain a copy of the License at\n",
              "//\n",
              "//      http://www.apache.org/licenses/LICENSE-2.0\n",
              "//\n",
              "// Unless required by applicable law or agreed to in writing, software\n",
              "// distributed under the License is distributed on an \"AS IS\" BASIS,\n",
              "// WITHOUT WARRANTIES OR CONDITIONS OF ANY KIND, either express or implied.\n",
              "// See the License for the specific language governing permissions and\n",
              "// limitations under the License.\n",
              "\n",
              "/**\n",
              " * @fileoverview Helpers for google.colab Python module.\n",
              " */\n",
              "(function(scope) {\n",
              "function span(text, styleAttributes = {}) {\n",
              "  const element = document.createElement('span');\n",
              "  element.textContent = text;\n",
              "  for (const key of Object.keys(styleAttributes)) {\n",
              "    element.style[key] = styleAttributes[key];\n",
              "  }\n",
              "  return element;\n",
              "}\n",
              "\n",
              "// Max number of bytes which will be uploaded at a time.\n",
              "const MAX_PAYLOAD_SIZE = 100 * 1024;\n",
              "\n",
              "function _uploadFiles(inputId, outputId) {\n",
              "  const steps = uploadFilesStep(inputId, outputId);\n",
              "  const outputElement = document.getElementById(outputId);\n",
              "  // Cache steps on the outputElement to make it available for the next call\n",
              "  // to uploadFilesContinue from Python.\n",
              "  outputElement.steps = steps;\n",
              "\n",
              "  return _uploadFilesContinue(outputId);\n",
              "}\n",
              "\n",
              "// This is roughly an async generator (not supported in the browser yet),\n",
              "// where there are multiple asynchronous steps and the Python side is going\n",
              "// to poll for completion of each step.\n",
              "// This uses a Promise to block the python side on completion of each step,\n",
              "// then passes the result of the previous step as the input to the next step.\n",
              "function _uploadFilesContinue(outputId) {\n",
              "  const outputElement = document.getElementById(outputId);\n",
              "  const steps = outputElement.steps;\n",
              "\n",
              "  const next = steps.next(outputElement.lastPromiseValue);\n",
              "  return Promise.resolve(next.value.promise).then((value) => {\n",
              "    // Cache the last promise value to make it available to the next\n",
              "    // step of the generator.\n",
              "    outputElement.lastPromiseValue = value;\n",
              "    return next.value.response;\n",
              "  });\n",
              "}\n",
              "\n",
              "/**\n",
              " * Generator function which is called between each async step of the upload\n",
              " * process.\n",
              " * @param {string} inputId Element ID of the input file picker element.\n",
              " * @param {string} outputId Element ID of the output display.\n",
              " * @return {!Iterable<!Object>} Iterable of next steps.\n",
              " */\n",
              "function* uploadFilesStep(inputId, outputId) {\n",
              "  const inputElement = document.getElementById(inputId);\n",
              "  inputElement.disabled = false;\n",
              "\n",
              "  const outputElement = document.getElementById(outputId);\n",
              "  outputElement.innerHTML = '';\n",
              "\n",
              "  const pickedPromise = new Promise((resolve) => {\n",
              "    inputElement.addEventListener('change', (e) => {\n",
              "      resolve(e.target.files);\n",
              "    });\n",
              "  });\n",
              "\n",
              "  const cancel = document.createElement('button');\n",
              "  inputElement.parentElement.appendChild(cancel);\n",
              "  cancel.textContent = 'Cancel upload';\n",
              "  const cancelPromise = new Promise((resolve) => {\n",
              "    cancel.onclick = () => {\n",
              "      resolve(null);\n",
              "    };\n",
              "  });\n",
              "\n",
              "  // Wait for the user to pick the files.\n",
              "  const files = yield {\n",
              "    promise: Promise.race([pickedPromise, cancelPromise]),\n",
              "    response: {\n",
              "      action: 'starting',\n",
              "    }\n",
              "  };\n",
              "\n",
              "  cancel.remove();\n",
              "\n",
              "  // Disable the input element since further picks are not allowed.\n",
              "  inputElement.disabled = true;\n",
              "\n",
              "  if (!files) {\n",
              "    return {\n",
              "      response: {\n",
              "        action: 'complete',\n",
              "      }\n",
              "    };\n",
              "  }\n",
              "\n",
              "  for (const file of files) {\n",
              "    const li = document.createElement('li');\n",
              "    li.append(span(file.name, {fontWeight: 'bold'}));\n",
              "    li.append(span(\n",
              "        `(${file.type || 'n/a'}) - ${file.size} bytes, ` +\n",
              "        `last modified: ${\n",
              "            file.lastModifiedDate ? file.lastModifiedDate.toLocaleDateString() :\n",
              "                                    'n/a'} - `));\n",
              "    const percent = span('0% done');\n",
              "    li.appendChild(percent);\n",
              "\n",
              "    outputElement.appendChild(li);\n",
              "\n",
              "    const fileDataPromise = new Promise((resolve) => {\n",
              "      const reader = new FileReader();\n",
              "      reader.onload = (e) => {\n",
              "        resolve(e.target.result);\n",
              "      };\n",
              "      reader.readAsArrayBuffer(file);\n",
              "    });\n",
              "    // Wait for the data to be ready.\n",
              "    let fileData = yield {\n",
              "      promise: fileDataPromise,\n",
              "      response: {\n",
              "        action: 'continue',\n",
              "      }\n",
              "    };\n",
              "\n",
              "    // Use a chunked sending to avoid message size limits. See b/62115660.\n",
              "    let position = 0;\n",
              "    do {\n",
              "      const length = Math.min(fileData.byteLength - position, MAX_PAYLOAD_SIZE);\n",
              "      const chunk = new Uint8Array(fileData, position, length);\n",
              "      position += length;\n",
              "\n",
              "      const base64 = btoa(String.fromCharCode.apply(null, chunk));\n",
              "      yield {\n",
              "        response: {\n",
              "          action: 'append',\n",
              "          file: file.name,\n",
              "          data: base64,\n",
              "        },\n",
              "      };\n",
              "\n",
              "      let percentDone = fileData.byteLength === 0 ?\n",
              "          100 :\n",
              "          Math.round((position / fileData.byteLength) * 100);\n",
              "      percent.textContent = `${percentDone}% done`;\n",
              "\n",
              "    } while (position < fileData.byteLength);\n",
              "  }\n",
              "\n",
              "  // All done.\n",
              "  yield {\n",
              "    response: {\n",
              "      action: 'complete',\n",
              "    }\n",
              "  };\n",
              "}\n",
              "\n",
              "scope.google = scope.google || {};\n",
              "scope.google.colab = scope.google.colab || {};\n",
              "scope.google.colab._files = {\n",
              "  _uploadFiles,\n",
              "  _uploadFilesContinue,\n",
              "};\n",
              "})(self);\n",
              "</script> "
            ]
          },
          "metadata": {}
        },
        {
          "output_type": "stream",
          "name": "stdout",
          "text": [
            "Saving best_model (1).zip to best_model (1).zip\n"
          ]
        }
      ]
    },
    {
      "cell_type": "code",
      "source": [
        "!unzip /content/best_model (1).zip -d /content/yolov7/"
      ],
      "metadata": {
        "colab": {
          "base_uri": "https://localhost:8080/"
        },
        "id": "4TH-hQSRRJ8D",
        "outputId": "4ba10973-2233-4d36-9d12-a319b095348a"
      },
      "execution_count": null,
      "outputs": [
        {
          "output_type": "stream",
          "name": "stdout",
          "text": [
            "/bin/bash: -c: line 1: syntax error near unexpected token `('\n",
            "/bin/bash: -c: line 1: `unzip /content/best_model (1).zip -d /content/yolov7/'\n"
          ]
        }
      ]
    },
    {
      "cell_type": "code",
      "source": [
        "# Load your trained model\n",
        "model = YOLO('/content/runs/detect/train4/weights/best.pt')\n",
        "\n",
        "# Run inference on an image\n",
        "results = model('/content/Image__2021-01-28__15-49-02_1-6-B.png', device=0)\n",
        "\n",
        "results1 = results[0]\n",
        "results1.show()"
      ],
      "metadata": {
        "colab": {
          "base_uri": "https://localhost:8080/",
          "height": 345
        },
        "id": "RDfoea3zRODI",
        "outputId": "2fe91715-7b54-4092-d09f-826213573f04"
      },
      "execution_count": null,
      "outputs": [
        {
          "output_type": "stream",
          "name": "stdout",
          "text": [
            "\n",
            "image 1/1 /content/Image__2021-01-28__15-49-02_1-6-B.png: 640x640 6 cells, 7.8ms\n",
            "Speed: 4.1ms preprocess, 7.8ms inference, 1.5ms postprocess per image at shape (1, 3, 640, 640)\n"
          ]
        },
        {
          "output_type": "display_data",
          "data": {
            "text/plain": [
              "<PIL.Image.Image image mode=RGB size=256x256>"
            ],
            "image/png": "[encoded data removed]",
            "image/jpeg": "[encoded data removed]"
          },
          "metadata": {}
        }
      ]
    },
    {
      "cell_type": "code",
      "source": [
        "for result in results:\n",
        "    boxes = result.boxes.xyxy\n",
        "    print(boxes)"
      ],
      "metadata": {
        "colab": {
          "base_uri": "https://localhost:8080/"
        },
        "id": "J1x2H3WmSUcP",
        "outputId": "03c22a5a-1b67-441e-d947-87b577e89543"
      },
      "execution_count": null,
      "outputs": [
        {
          "output_type": "stream",
          "name": "stdout",
          "text": [
            "tensor([[1.9741e+02, 2.2003e+02, 2.5444e+02, 2.5594e+02],\n",
            "        [1.6874e+02, 1.4541e+02, 2.2488e+02, 2.0152e+02],\n",
            "        [1.2027e+01, 7.7320e+01, 7.6030e+01, 1.3922e+02],\n",
            "        [4.8896e+01, 3.8577e-02, 1.0997e+02, 4.0038e+01],\n",
            "        [2.5827e-02, 2.0636e+02, 4.1984e+01, 2.5600e+02],\n",
            "        [3.5799e-02, 1.0099e+02, 1.4492e+01, 1.6411e+02]], device='cuda:0')\n"
          ]
        }
      ]
    }
  ]
}